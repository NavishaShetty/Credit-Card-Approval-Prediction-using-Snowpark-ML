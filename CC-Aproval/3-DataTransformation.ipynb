{
 "cells": [
  {
   "cell_type": "code",
   "execution_count": 28,
   "metadata": {},
   "outputs": [],
   "source": [
    "#Import Libraries\n",
    "from snowflake.snowpark.session import Session\n",
    "import snowflake.snowpark.functions as F\n",
    "import snowflake.snowpark.types as T\n",
    "from snowflake.ml.modeling.preprocessing import *\n",
    "\n",
    "import json\n",
    "import pandas as pd"
   ]
  },
  {
   "cell_type": "code",
   "execution_count": 29,
   "metadata": {},
   "outputs": [
    {
     "name": "stdout",
     "output_type": "stream",
     "text": [
      "Current Database and schema: \"CC_DB\".\"PUBLIC\"\n",
      "Current Warehouse: \"CC_WH\"\n"
     ]
    }
   ],
   "source": [
    "#Create a session\n",
    "with open('creds.json') as f:\n",
    "    connection_parameters = json.load(f)\n",
    "session = Session.builder.configs(connection_parameters).create()\n",
    "print(f\"Current Database and schema: {session.get_fully_qualified_current_schema()}\")\n",
    "print(f\"Current Warehouse: {session.get_current_warehouse()}\")"
   ]
  },
  {
   "cell_type": "code",
   "execution_count": 30,
   "metadata": {},
   "outputs": [],
   "source": [
    "# Creating a Snowpark DataFrame\n",
    "application_record_sdf = session.table('APPLICATION_RECORD')\n",
    "credit_record_sdf = session.table('CREDIT_RECORD')"
   ]
  },
  {
   "cell_type": "code",
   "execution_count": 31,
   "metadata": {},
   "outputs": [
    {
     "name": "stdout",
     "output_type": "stream",
     "text": [
      "Number of records in APPLICATION_RECORD: 438557\n",
      "Number of records in CREDIT_RECORD: 1048575\n"
     ]
    }
   ],
   "source": [
    "# Number of records in each table\n",
    "print(f\"Number of records in APPLICATION_RECORD: {application_record_sdf.count()}\")\n",
    "print(f\"Number of records in CREDIT_RECORD: {credit_record_sdf.count()}\")"
   ]
  },
  {
   "cell_type": "code",
   "execution_count": 32,
   "metadata": {},
   "outputs": [
    {
     "name": "stdout",
     "output_type": "stream",
     "text": [
      "Number of duplicate records in APPLICATION_RECORD: 438510\n",
      "Number of records in APPLICATION_RECORD after removing duplicates: 438557\n"
     ]
    }
   ],
   "source": [
    "# Remove duplicates\n",
    "duplicate_count = application_record_sdf.group_by('ID').agg(F.count(('ID'))).filter(F.col('ID') > 1).count()\n",
    "print(f\"Number of duplicate records in APPLICATION_RECORD: {duplicate_count}\")\n",
    "application_record_sdf = application_record_sdf.drop_duplicates()\n",
    "print(f\"Number of records in APPLICATION_RECORD after removing duplicates: {application_record_sdf.count()}\")"
   ]
  },
  {
   "cell_type": "code",
   "execution_count": 33,
   "metadata": {},
   "outputs": [
    {
     "name": "stdout",
     "output_type": "stream",
     "text": [
      "------------------------------------------------------------------------------------------------------------------------------------------------------------------------------------------------------------------------------------------------------------------------------------------------------------------------------------------------------------------------------------------------------\n",
      "|\"SUMMARY\"  |\"ID\"               |\"CODE_GENDER\"  |\"FLAG_OWN_CAR\"  |\"FLAG_OWN_REALTY\"  |\"CNT_CHILDREN\"      |\"AMT_INCOME_TOTAL\"  |\"NAME_INCOME_TYPE\"    |\"NAME_EDUCATION_TYPE\"          |\"NAME_FAMILY_STATUS\"  |\"NAME_HOUSING_TYPE\"  |\"DAYS_BIRTH\"       |\"DAYS_EMPLOYED\"   |\"FLAG_MOBIL\"  |\"FLAG_WORK_PHONE\"   |\"FLAG_PHONE\"         |\"FLAG_EMAIL\"        |\"OCCUPATION_TYPE\"     |\"CNT_FAM_MEMBERS\"   |\n",
      "------------------------------------------------------------------------------------------------------------------------------------------------------------------------------------------------------------------------------------------------------------------------------------------------------------------------------------------------------------------------------------------------------\n",
      "|min        |5008804.0          |F              |N               |N                  |0.0                 |26100.0             |Commercial associate  |Academic degree                |Civil marriage        |Co-op apartment      |-25201.0           |-17531.0          |1.0           |0.0                 |0.0                  |0.0                 |Accountants           |1.0                 |\n",
      "|stddev     |571637.0232571199  |NULL           |NULL            |NULL               |0.7248820593724196  |110086.8530662294   |NULL                  |NULL                           |NULL                  |NULL                 |4185.030006794097  |138767.799646669  |0.0           |0.4045268841498671  |0.45272397771710743  |0.3106428817790615  |NULL                  |0.8972073300563015  |\n",
      "|count      |438557.0           |438557         |438557          |438557             |438557.0            |438557.0            |438557                |438557                         |438557                |438557               |438557.0           |438557.0          |438557.0      |438557.0            |438557.0             |438557.0            |304354                |438557.0            |\n",
      "|max        |7999952.0          |M              |Y               |Y                  |19.0                |6750000.0           |Working               |Secondary / secondary special  |Widow                 |With parents         |-7489.0            |365243.0          |1.0           |1.0                 |1.0                  |1.0                 |Waiters/barmen staff  |20.0                |\n",
      "|mean       |6022176.269842     |NULL           |NULL            |NULL               |0.42739             |187524.2860095039   |NULL                  |NULL                           |NULL                  |NULL                 |-15997.904649      |60563.675328      |1.0           |0.206133            |0.287771             |0.108207            |NULL                  |2.194465029631268   |\n",
      "------------------------------------------------------------------------------------------------------------------------------------------------------------------------------------------------------------------------------------------------------------------------------------------------------------------------------------------------------------------------------------------------------\n",
      "\n"
     ]
    }
   ],
   "source": [
    "#Data Analysis\n",
    "\n",
    "application_record_sdf.describe().show()"
   ]
  },
  {
   "cell_type": "code",
   "execution_count": 34,
   "metadata": {},
   "outputs": [
    {
     "name": "stdout",
     "output_type": "stream",
     "text": [
      "------------------------------------------------------------------------------------------------------------------------------------------------------------------------------------------------------------------------------------------------------------------------------------------------------------------------------------------------------------------------------------------------------\n",
      "|\"SUMMARY\"  |\"ID\"               |\"CODE_GENDER\"  |\"FLAG_OWN_CAR\"  |\"FLAG_OWN_REALTY\"  |\"CNT_CHILDREN\"      |\"AMT_INCOME_TOTAL\"  |\"NAME_INCOME_TYPE\"    |\"NAME_EDUCATION_TYPE\"          |\"NAME_FAMILY_STATUS\"  |\"NAME_HOUSING_TYPE\"  |\"DAYS_BIRTH\"       |\"DAYS_EMPLOYED\"   |\"FLAG_MOBIL\"  |\"FLAG_WORK_PHONE\"   |\"FLAG_PHONE\"         |\"FLAG_EMAIL\"        |\"OCCUPATION_TYPE\"     |\"CNT_FAM_MEMBERS\"   |\n",
      "------------------------------------------------------------------------------------------------------------------------------------------------------------------------------------------------------------------------------------------------------------------------------------------------------------------------------------------------------------------------------------------------------\n",
      "|stddev     |571637.0232571199  |NULL           |NULL            |NULL               |0.7248820593724196  |110086.85306622933  |NULL                  |NULL                           |NULL                  |NULL                 |4185.030006794097  |138767.799646669  |0.0           |0.4045268841498671  |0.45272397771710743  |0.3106428817790615  |NULL                  |0.8972073300563015  |\n",
      "|count      |438557.0           |438557         |438557          |438557             |438557.0            |438557.0            |438557                |438557                         |438557                |438557               |438557.0           |438557.0          |438557.0      |438557.0            |438557.0             |438557.0            |438557                |438557.0            |\n",
      "|min        |5008804.0          |F              |N               |N                  |0.0                 |26100.0             |Commercial associate  |Academic degree                |Civil marriage        |Co-op apartment      |-25201.0           |-17531.0          |1.0           |0.0                 |0.0                  |0.0                 |Accountants           |1.0                 |\n",
      "|mean       |6022176.269842     |NULL           |NULL            |NULL               |0.42739             |187524.2860095039   |NULL                  |NULL                           |NULL                  |NULL                 |-15997.904649      |60563.675328      |1.0           |0.206133            |0.287771             |0.108207            |NULL                  |2.194465029631268   |\n",
      "|max        |7999952.0          |M              |Y               |Y                  |19.0                |6750000.0           |Working               |Secondary / secondary special  |Widow                 |With parents         |-7489.0            |365243.0          |1.0           |1.0                 |1.0                  |1.0                 |Waiters/barmen staff  |20.0                |\n",
      "------------------------------------------------------------------------------------------------------------------------------------------------------------------------------------------------------------------------------------------------------------------------------------------------------------------------------------------------------------------------------------------------------\n",
      "\n"
     ]
    }
   ],
   "source": [
    "# Handle missing values\n",
    "application_record_sdf = application_record_sdf.fillna(value='OTHER', subset=['OCCUPATION_TYPE'])\n",
    "application_record_sdf.describe().show()"
   ]
  },
  {
   "cell_type": "code",
   "execution_count": 35,
   "metadata": {},
   "outputs": [
    {
     "data": {
      "text/html": [
       "<div>\n",
       "<style scoped>\n",
       "    .dataframe tbody tr th:only-of-type {\n",
       "        vertical-align: middle;\n",
       "    }\n",
       "\n",
       "    .dataframe tbody tr th {\n",
       "        vertical-align: top;\n",
       "    }\n",
       "\n",
       "    .dataframe thead th {\n",
       "        text-align: right;\n",
       "    }\n",
       "</style>\n",
       "<table border=\"1\" class=\"dataframe\">\n",
       "  <thead>\n",
       "    <tr style=\"text-align: right;\">\n",
       "      <th></th>\n",
       "      <th>COLUMN_NAME</th>\n",
       "      <th>NUM_UNIQUE_VALUES</th>\n",
       "    </tr>\n",
       "  </thead>\n",
       "  <tbody>\n",
       "    <tr>\n",
       "      <th>0</th>\n",
       "      <td>ID</td>\n",
       "      <td>438510</td>\n",
       "    </tr>\n",
       "    <tr>\n",
       "      <th>1</th>\n",
       "      <td>CODE_GENDER</td>\n",
       "      <td>2</td>\n",
       "    </tr>\n",
       "    <tr>\n",
       "      <th>2</th>\n",
       "      <td>FLAG_OWN_CAR</td>\n",
       "      <td>2</td>\n",
       "    </tr>\n",
       "    <tr>\n",
       "      <th>3</th>\n",
       "      <td>FLAG_OWN_REALTY</td>\n",
       "      <td>2</td>\n",
       "    </tr>\n",
       "    <tr>\n",
       "      <th>4</th>\n",
       "      <td>CNT_CHILDREN</td>\n",
       "      <td>12</td>\n",
       "    </tr>\n",
       "    <tr>\n",
       "      <th>5</th>\n",
       "      <td>AMT_INCOME_TOTAL</td>\n",
       "      <td>866</td>\n",
       "    </tr>\n",
       "    <tr>\n",
       "      <th>6</th>\n",
       "      <td>NAME_INCOME_TYPE</td>\n",
       "      <td>5</td>\n",
       "    </tr>\n",
       "    <tr>\n",
       "      <th>7</th>\n",
       "      <td>NAME_EDUCATION_TYPE</td>\n",
       "      <td>5</td>\n",
       "    </tr>\n",
       "    <tr>\n",
       "      <th>8</th>\n",
       "      <td>NAME_FAMILY_STATUS</td>\n",
       "      <td>5</td>\n",
       "    </tr>\n",
       "    <tr>\n",
       "      <th>9</th>\n",
       "      <td>NAME_HOUSING_TYPE</td>\n",
       "      <td>6</td>\n",
       "    </tr>\n",
       "    <tr>\n",
       "      <th>10</th>\n",
       "      <td>DAYS_BIRTH</td>\n",
       "      <td>16379</td>\n",
       "    </tr>\n",
       "    <tr>\n",
       "      <th>11</th>\n",
       "      <td>DAYS_EMPLOYED</td>\n",
       "      <td>9406</td>\n",
       "    </tr>\n",
       "    <tr>\n",
       "      <th>12</th>\n",
       "      <td>FLAG_MOBIL</td>\n",
       "      <td>1</td>\n",
       "    </tr>\n",
       "    <tr>\n",
       "      <th>13</th>\n",
       "      <td>FLAG_WORK_PHONE</td>\n",
       "      <td>2</td>\n",
       "    </tr>\n",
       "    <tr>\n",
       "      <th>14</th>\n",
       "      <td>FLAG_PHONE</td>\n",
       "      <td>2</td>\n",
       "    </tr>\n",
       "    <tr>\n",
       "      <th>15</th>\n",
       "      <td>FLAG_EMAIL</td>\n",
       "      <td>2</td>\n",
       "    </tr>\n",
       "    <tr>\n",
       "      <th>16</th>\n",
       "      <td>OCCUPATION_TYPE</td>\n",
       "      <td>19</td>\n",
       "    </tr>\n",
       "    <tr>\n",
       "      <th>17</th>\n",
       "      <td>CNT_FAM_MEMBERS</td>\n",
       "      <td>13</td>\n",
       "    </tr>\n",
       "  </tbody>\n",
       "</table>\n",
       "</div>"
      ],
      "text/plain": [
       "            COLUMN_NAME  NUM_UNIQUE_VALUES\n",
       "0                    ID             438510\n",
       "1           CODE_GENDER                  2\n",
       "2          FLAG_OWN_CAR                  2\n",
       "3       FLAG_OWN_REALTY                  2\n",
       "4          CNT_CHILDREN                 12\n",
       "5      AMT_INCOME_TOTAL                866\n",
       "6      NAME_INCOME_TYPE                  5\n",
       "7   NAME_EDUCATION_TYPE                  5\n",
       "8    NAME_FAMILY_STATUS                  5\n",
       "9     NAME_HOUSING_TYPE                  6\n",
       "10           DAYS_BIRTH              16379\n",
       "11        DAYS_EMPLOYED               9406\n",
       "12           FLAG_MOBIL                  1\n",
       "13      FLAG_WORK_PHONE                  2\n",
       "14           FLAG_PHONE                  2\n",
       "15           FLAG_EMAIL                  2\n",
       "16      OCCUPATION_TYPE                 19\n",
       "17      CNT_FAM_MEMBERS                 13"
      ]
     },
     "execution_count": 35,
     "metadata": {},
     "output_type": "execute_result"
    }
   ],
   "source": [
    "# Check unique values for each column\n",
    "unique_values = []\n",
    "for column in application_record_sdf.columns:\n",
    "    unique_values.append([column, application_record_sdf.select(column).distinct().count()])\n",
    "pd.DataFrame(unique_values, columns=['COLUMN_NAME','NUM_UNIQUE_VALUES'])"
   ]
  },
  {
   "cell_type": "code",
   "execution_count": 36,
   "metadata": {},
   "outputs": [],
   "source": [
    "# Dropping column FLAG_MOBIL since it has only one unique value\n",
    "application_record_sdf = application_record_sdf.drop('FLAG_MOBIL')"
   ]
  },
  {
   "cell_type": "markdown",
   "metadata": {},
   "source": [
    "The target column (Status) values : meanings \n",
    "- 0: 1-29 days past due\n",
    "- 1: 30-59 days past due\n",
    "- 2: 60-89 days overdue\n",
    "- 3: 90-119 days overdue\n",
    "- 4: 120-149 days overdue\n",
    "- 5: Overdue or bad debts, write-offs for more than 150 days\n",
    "- C: paid off that month\n",
    "- X: No loan for the month"
   ]
  },
  {
   "cell_type": "code",
   "execution_count": 37,
   "metadata": {},
   "outputs": [
    {
     "name": "stdout",
     "output_type": "stream",
     "text": [
      "-----------------------------------------\n",
      "|\"ID\"     |\"MONTHS_BALANCE\"  |\"STATUS\"  |\n",
      "-----------------------------------------\n",
      "|5001711  |0                 |X         |\n",
      "|5001711  |-1                |0         |\n",
      "|5001711  |-2                |0         |\n",
      "|5001711  |-3                |0         |\n",
      "|5001712  |0                 |C         |\n",
      "|5001712  |-1                |C         |\n",
      "|5001712  |-2                |C         |\n",
      "|5001712  |-3                |C         |\n",
      "|5001712  |-4                |C         |\n",
      "|5001712  |-5                |C         |\n",
      "-----------------------------------------\n",
      "\n"
     ]
    }
   ],
   "source": [
    "credit_record_sdf.show()"
   ]
  },
  {
   "cell_type": "markdown",
   "metadata": {},
   "source": [
    "We want to flag customers as either high-risk(1) or low-risk(0). \n",
    "- So, we define that a customer is high-risk if during any month they are late on payments by 60 days or more.\n",
    "- All other customers are low-risk."
   ]
  },
  {
   "cell_type": "code",
   "execution_count": 38,
   "metadata": {},
   "outputs": [
    {
     "name": "stdout",
     "output_type": "stream",
     "text": [
      "----------------------\n",
      "|\"STATUS\"  |\"COUNT\"  |\n",
      "----------------------\n",
      "|0         |383120   |\n",
      "|1         |11090    |\n",
      "|2         |868      |\n",
      "|3         |320      |\n",
      "|4         |223      |\n",
      "|5         |1693     |\n",
      "|C         |442031   |\n",
      "|X         |209230   |\n",
      "----------------------\n",
      "\n"
     ]
    }
   ],
   "source": [
    "credit_record_sdf.group_by('STATUS').count().sort('STATUS').show()\n"
   ]
  },
  {
   "cell_type": "code",
   "execution_count": 39,
   "metadata": {},
   "outputs": [
    {
     "name": "stdout",
     "output_type": "stream",
     "text": [
      "----------------------\n",
      "|\"ID\"     |\"TARGET\"  |\n",
      "----------------------\n",
      "|5001711  |0         |\n",
      "|5001712  |0         |\n",
      "|5001713  |0         |\n",
      "|5001714  |0         |\n",
      "|5001715  |0         |\n",
      "|5001717  |0         |\n",
      "|5001718  |0         |\n",
      "|5001719  |0         |\n",
      "|5001720  |0         |\n",
      "|5001723  |0         |\n",
      "----------------------\n",
      "\n"
     ]
    }
   ],
   "source": [
    "# Creating Target column for credit record\n",
    "risk_status = credit_record_sdf.group_by('ID').agg(F.sum(F.iff(F.col('STATUS').in_(['2', '3', '4', '5']), 1, 0)).as_(\"CNT_LATE\"))\\\n",
    "                                              .with_column('TARGET', F.when(F.col('CNT_LATE') > 0, 1).otherwise(0)).drop(\"CNT_LATE\")\n",
    "risk_status.show()"
   ]
  },
  {
   "cell_type": "code",
   "execution_count": 40,
   "metadata": {},
   "outputs": [
    {
     "name": "stdout",
     "output_type": "stream",
     "text": [
      "------------------------------\n",
      "|\"TARGET\"  |\"COUNT(TARGET)\"  |\n",
      "------------------------------\n",
      "|0         |45318            |\n",
      "|1         |667              |\n",
      "------------------------------\n",
      "\n"
     ]
    }
   ],
   "source": [
    "risk_status.group_by('TARGET').agg(F.count('TARGET')).show()"
   ]
  },
  {
   "cell_type": "markdown",
   "metadata": {},
   "source": [
    "Highly imbalanced target variable"
   ]
  },
  {
   "cell_type": "code",
   "execution_count": 41,
   "metadata": {},
   "outputs": [
    {
     "name": "stdout",
     "output_type": "stream",
     "text": [
      "------------------------------------------------------------------------------------------------------------------------------------------------------------------------------------------------------------------------------------------------------------------------------------------------------------------------------------------------\n",
      "|\"ID\"     |\"CODE_GENDER\"  |\"FLAG_OWN_CAR\"  |\"FLAG_OWN_REALTY\"  |\"CNT_CHILDREN\"  |\"AMT_INCOME_TOTAL\"  |\"NAME_INCOME_TYPE\"    |\"NAME_EDUCATION_TYPE\"          |\"NAME_FAMILY_STATUS\"  |\"NAME_HOUSING_TYPE\"  |\"DAYS_BIRTH\"  |\"DAYS_EMPLOYED\"  |\"FLAG_WORK_PHONE\"  |\"FLAG_PHONE\"  |\"FLAG_EMAIL\"  |\"OCCUPATION_TYPE\"  |\"CNT_FAM_MEMBERS\"  |\"TARGET\"  |\n",
      "------------------------------------------------------------------------------------------------------------------------------------------------------------------------------------------------------------------------------------------------------------------------------------------------------------------------------------------------\n",
      "|5008804  |M              |Y               |Y                  |0               |427500.0            |Working               |Higher education               |Civil marriage        |Rented apartment     |-12005        |-4542            |1                  |0             |0             |OTHER              |2.0                |0         |\n",
      "|5008805  |M              |Y               |Y                  |0               |427500.0            |Working               |Higher education               |Civil marriage        |Rented apartment     |-12005        |-4542            |1                  |0             |0             |OTHER              |2.0                |0         |\n",
      "|5008806  |M              |Y               |Y                  |0               |112500.0            |Working               |Secondary / secondary special  |Married               |House / apartment    |-21474        |-1134            |0                  |0             |0             |Security staff     |2.0                |0         |\n",
      "|5008808  |F              |N               |Y                  |0               |270000.0            |Commercial associate  |Secondary / secondary special  |Single / not married  |House / apartment    |-19110        |-3051            |0                  |1             |1             |Sales staff        |1.0                |0         |\n",
      "|5008809  |F              |N               |Y                  |0               |270000.0            |Commercial associate  |Secondary / secondary special  |Single / not married  |House / apartment    |-19110        |-3051            |0                  |1             |1             |Sales staff        |1.0                |0         |\n",
      "|5008810  |F              |N               |Y                  |0               |270000.0            |Commercial associate  |Secondary / secondary special  |Single / not married  |House / apartment    |-19110        |-3051            |0                  |1             |1             |Sales staff        |1.0                |0         |\n",
      "|5008811  |F              |N               |Y                  |0               |270000.0            |Commercial associate  |Secondary / secondary special  |Single / not married  |House / apartment    |-19110        |-3051            |0                  |1             |1             |Sales staff        |1.0                |0         |\n",
      "|5008812  |F              |N               |Y                  |0               |283500.0            |Pensioner             |Higher education               |Separated             |House / apartment    |-22464        |365243           |0                  |0             |0             |OTHER              |1.0                |0         |\n",
      "|5008813  |F              |N               |Y                  |0               |283500.0            |Pensioner             |Higher education               |Separated             |House / apartment    |-22464        |365243           |0                  |0             |0             |OTHER              |1.0                |0         |\n",
      "|5008814  |F              |N               |Y                  |0               |283500.0            |Pensioner             |Higher education               |Separated             |House / apartment    |-22464        |365243           |0                  |0             |0             |OTHER              |1.0                |0         |\n",
      "------------------------------------------------------------------------------------------------------------------------------------------------------------------------------------------------------------------------------------------------------------------------------------------------------------------------------------------------\n",
      "\n"
     ]
    }
   ],
   "source": [
    "# Joining application record and risk status\n",
    "application_record_sdf = application_record_sdf.join(risk_status, using_columns = 'ID', join_type ='inner')\n",
    "application_record_sdf.show()"
   ]
  },
  {
   "cell_type": "code",
   "execution_count": 42,
   "metadata": {},
   "outputs": [
    {
     "data": {
      "text/plain": [
       "36457"
      ]
     },
     "execution_count": 42,
     "metadata": {},
     "output_type": "execute_result"
    }
   ],
   "source": [
    "application_record_sdf.count()"
   ]
  },
  {
   "cell_type": "markdown",
   "metadata": {},
   "source": [
    "### FEATURE ENGINEERING"
   ]
  },
  {
   "cell_type": "markdown",
   "metadata": {},
   "source": [
    "Variable Encoding\n",
    "\n",
    "- FLAG_OWN_CAR : OrdinalEncoder\n",
    "- FLAG_OWN_REALTY\t: OrdinalEncoder\n",
    "- AMT_INCOME_TOTAL : StandardScaler\n",
    "- CODE_GENDER\t: OneHotEncoder\n",
    "- NAME_INCOME_TYPE : OneHotEncoder\n",
    "- NAME_EDUCATION_TYPE : OneHotEncoder\n",
    "- NAME_FAMILY_STATUS : OneHotEncoder\n",
    "- NAME_HOUSING_TYPE :\tOneHotEncoder\n",
    "- CNT_CHILDREN : Custom Categories + OneHotEncoder\n",
    "- CNT_FAM_MEMBERS : Custom Categories + OneHotEncoder\n",
    "- OCCUPATION_TYPE : Custom Categories + OneHotEncoder\n",
    "- DAYS_BIRTH : Transform to Years + StandardScaler\n",
    "- DAYS_EMPLOYED : Transform to Years + Drop Outlier + StandardScaler\n",
    "- FLAG_WORK_PHONE\t: Drop\n",
    "- FLAG_PHONE : Drop\n",
    "- FLAG_EMAIL : Drop"
   ]
  },
  {
   "cell_type": "code",
   "execution_count": 43,
   "metadata": {},
   "outputs": [
    {
     "name": "stdout",
     "output_type": "stream",
     "text": [
      "------------------------------------------\n",
      "|\"CNT_CHILDREN\"  |\"COUNT\"  |\"HIGH_RISK\"  |\n",
      "------------------------------------------\n",
      "|0               |25201    |431          |\n",
      "|1               |7492     |120          |\n",
      "|2               |3256     |52           |\n",
      "|3               |419      |12           |\n",
      "|4               |63       |1            |\n",
      "|5               |20       |0            |\n",
      "|7               |2        |0            |\n",
      "|14              |3        |0            |\n",
      "|19              |1        |0            |\n",
      "------------------------------------------\n",
      "\n"
     ]
    }
   ],
   "source": [
    "# High Risk Ratio for CNT_CHILDREN\n",
    "var_analysis = application_record_sdf.group_by('CNT_CHILDREN')\n",
    "var_analysis = var_analysis.agg([F.count('CNT_CHILDREN').as_('COUNT'), \n",
    "                                 F.sum('TARGET').as_('HIGH_RISK')])\n",
    "var_analysis.sort('CNT_CHILDREN').show()"
   ]
  },
  {
   "cell_type": "code",
   "execution_count": 44,
   "metadata": {},
   "outputs": [
    {
     "name": "stdout",
     "output_type": "stream",
     "text": [
      "--------------------------------\n",
      "|\"ID\"     |\"CNT_CHILDREN_IND\"  |\n",
      "--------------------------------\n",
      "|5008804  |0                   |\n",
      "|5008805  |0                   |\n",
      "|5008806  |0                   |\n",
      "|5008808  |0                   |\n",
      "|5008809  |0                   |\n",
      "|5008810  |0                   |\n",
      "|5008811  |0                   |\n",
      "|5008812  |0                   |\n",
      "|5008813  |0                   |\n",
      "|5008814  |0                   |\n",
      "--------------------------------\n",
      "\n"
     ]
    }
   ],
   "source": [
    "application_record_sdf = application_record_sdf.with_column('CNT_CHILDREN_IND', \n",
    "                                                            F.iff(F.col('CNT_CHILDREN') >= 2, \n",
    "                                                                  '2More', \n",
    "                                                                  F.to_varchar(F.col('CNT_CHILDREN'))\n",
    "                                                                 )\n",
    "                                                           )\n",
    "application_record_sdf = application_record_sdf.drop('CNT_CHILDREN')\n",
    "application_record_sdf[['ID', 'CNT_CHILDREN_IND']].show()"
   ]
  },
  {
   "cell_type": "code",
   "execution_count": 46,
   "metadata": {},
   "outputs": [
    {
     "name": "stdout",
     "output_type": "stream",
     "text": [
      "--------------------------------\n",
      "|\"ID\"     |\"CNT_CHILDREN_IND\"  |\n",
      "--------------------------------\n",
      "|5008834  |1                   |\n",
      "|5008835  |1                   |\n",
      "|5008836  |2More               |\n",
      "|5008837  |2More               |\n",
      "|5008838  |1                   |\n",
      "|5008839  |1                   |\n",
      "|5008840  |1                   |\n",
      "|5008841  |1                   |\n",
      "|5008842  |1                   |\n",
      "|5008856  |2More               |\n",
      "--------------------------------\n",
      "\n"
     ]
    }
   ],
   "source": [
    "application_record_sdf[['ID', 'CNT_CHILDREN_IND']][application_record_sdf['CNT_CHILDREN_IND'] != '0'].show()"
   ]
  },
  {
   "cell_type": "code",
   "execution_count": 47,
   "metadata": {},
   "outputs": [
    {
     "name": "stdout",
     "output_type": "stream",
     "text": [
      "---------------------------------------------\n",
      "|\"CNT_FAM_MEMBERS\"  |\"COUNT\"  |\"HIGH_RISK\"  |\n",
      "---------------------------------------------\n",
      "|1.0                |6987     |139          |\n",
      "|2.0                |19463    |313          |\n",
      "|3.0                |6421     |105          |\n",
      "|4.0                |3106     |46           |\n",
      "|5.0                |397      |12           |\n",
      "|6.0                |58       |1            |\n",
      "|7.0                |19       |0            |\n",
      "|9.0                |2        |0            |\n",
      "|15.0               |3        |0            |\n",
      "|20.0               |1        |0            |\n",
      "---------------------------------------------\n",
      "\n"
     ]
    }
   ],
   "source": [
    "# High Risk Ratio for CNT_FAM_MEMBERS\n",
    "var_analysis = application_record_sdf.group_by('CNT_FAM_MEMBERS')\n",
    "var_analysis = var_analysis.agg([F.count('CNT_FAM_MEMBERS').as_('COUNT'), \n",
    "                                 F.sum('TARGET').as_('HIGH_RISK')])\n",
    "var_analysis.sort('CNT_FAM_MEMBERS').show()\n"
   ]
  },
  {
   "cell_type": "code",
   "execution_count": 48,
   "metadata": {},
   "outputs": [
    {
     "name": "stdout",
     "output_type": "stream",
     "text": [
      "-----------------------------------\n",
      "|\"ID\"     |\"CNT_FAM_MEMBERS_IND\"  |\n",
      "-----------------------------------\n",
      "|5008804  |2                      |\n",
      "|5008805  |2                      |\n",
      "|5008806  |2                      |\n",
      "|5008808  |1                      |\n",
      "|5008809  |1                      |\n",
      "|5008810  |1                      |\n",
      "|5008811  |1                      |\n",
      "|5008812  |1                      |\n",
      "|5008813  |1                      |\n",
      "|5008814  |1                      |\n",
      "-----------------------------------\n",
      "\n"
     ]
    }
   ],
   "source": [
    "# Creating a new variable CNT_FAM_MEMBERS_IND with values 0, 1, 2 or 3More\n",
    "application_record_sdf = application_record_sdf.with_column('CNT_FAM_MEMBERS_IND', \n",
    "                                                            F.iff(F.col('CNT_FAM_MEMBERS') >= 3, \n",
    "                                                                  '3More', \n",
    "                                                                  F.to_varchar(F.col('CNT_FAM_MEMBERS'))\n",
    "                                                                 )\n",
    "                                                           )\n",
    "application_record_sdf = application_record_sdf.drop('CNT_FAM_MEMBERS')\n",
    "\n",
    "application_record_sdf[['ID', 'CNT_FAM_MEMBERS_IND']].show()"
   ]
  },
  {
   "cell_type": "markdown",
   "metadata": {},
   "source": [
    "The age variable is very cryptic and hard to interpret.\n",
    "Let's calculate the customer age in years.\n",
    "\n",
    "Explanation of DAYS_BIRTH Variable:\n",
    "Counts backwards from current day (0), -1 means yesterday"
   ]
  },
  {
   "cell_type": "code",
   "execution_count": 49,
   "metadata": {},
   "outputs": [
    {
     "data": {
      "text/plain": [
       "<Axes: title={'center': 'Age Distribution'}, xlabel='AGE'>"
      ]
     },
     "execution_count": 49,
     "metadata": {},
     "output_type": "execute_result"
    },
    {
     "data": {
      "image/png": "[encoded data removed]",
      "text/plain": [
       "<Figure size 1000x200 with 1 Axes>"
      ]
     },
     "metadata": {},
     "output_type": "display_data"
    }
   ],
   "source": [
    "#The age variable is very cryptic and hard to interpret. So we Count backwards from current day (0), -1 means yesterday\n",
    "# Calculate the age given the number of days\n",
    "application_record_sdf = application_record_sdf.with_column('AGE', F.abs(F.floor(F.col('DAYS_BIRTH') / 365)))\n",
    "application_record_sdf = application_record_sdf.drop('DAYS_BIRTH')\n",
    "\n",
    "# Age Distribution\n",
    "grouped_ages_df = application_record_sdf.group_by('AGE').agg(F.count('AGE')).sort('AGE')\n",
    "grouped_ages_df.to_pandas().plot.bar(x='AGE', y='COUNT(AGE)', figsize=(10,2), title='Age Distribution')"
   ]
  },
  {
   "cell_type": "code",
   "execution_count": 50,
   "metadata": {},
   "outputs": [
    {
     "data": {
      "text/plain": [
       "<Axes: xlabel='WORKYEAR'>"
      ]
     },
     "execution_count": 50,
     "metadata": {},
     "output_type": "execute_result"
    },
    {
     "data": {
      "image/png": "[encoded data removed]",
      "text/plain": [
       "<Figure size 1000x200 with 1 Axes>"
      ]
     },
     "metadata": {},
     "output_type": "display_data"
    }
   ],
   "source": [
    "#Days Employment\n",
    "# Calculate the workyears given the number of days of employment\n",
    "application_record_sdf = application_record_sdf.with_column('WORKYEAR', F.abs(F.floor(F.col('DAYS_EMPLOYED') / 365)))\n",
    "application_record_sdf = application_record_sdf.drop('DAYS_EMPLOYED')\n",
    "grouped_workyears_df = application_record_sdf.group_by('WORKYEAR').agg(F.count('WORKYEAR')).sort('WORKYEAR').to_pandas()\n",
    "grouped_workyears_df.plot.bar(x='WORKYEAR', figsize=(10,2))"
   ]
  },
  {
   "cell_type": "code",
   "execution_count": 51,
   "metadata": {},
   "outputs": [],
   "source": [
    "# Lets filter out people with 1000 years of employment as it is not possible\n",
    "application_record_sdf = application_record_sdf.filter(F.col('WORKYEAR') < 50)"
   ]
  },
  {
   "cell_type": "code",
   "execution_count": 52,
   "metadata": {},
   "outputs": [
    {
     "name": "stdout",
     "output_type": "stream",
     "text": [
      "-----------------------------------\n",
      "|\"OCCUPATION_TYPE\"      |\"COUNT\"  |\n",
      "-----------------------------------\n",
      "|IT staff               |60       |\n",
      "|Realty agents          |79       |\n",
      "|HR staff               |85       |\n",
      "|Secretaries            |151      |\n",
      "|Waiters/barmen staff   |174      |\n",
      "|Low-skill Laborers     |175      |\n",
      "|Private service staff  |344      |\n",
      "|Cleaning staff         |551      |\n",
      "|Security staff         |592      |\n",
      "|Cooking staff          |655      |\n",
      "-----------------------------------\n",
      "\n"
     ]
    }
   ],
   "source": [
    "# Occupation\n",
    "# We do not need detailed level of occupation so we will group it into four diffrent categories, LABOURWORK, OFFICEWORK, HIGHTECHWORK and OTHER\n",
    "\n",
    "var_analysis = application_record_sdf.group_by('OCCUPATION_TYPE').agg(F.count('OCCUPATION_TYPE').as_('COUNT'))\n",
    "var_analysis = var_analysis.sort('COUNT').show()"
   ]
  },
  {
   "cell_type": "code",
   "execution_count": 53,
   "metadata": {},
   "outputs": [
    {
     "name": "stdout",
     "output_type": "stream",
     "text": [
      "---------------------\n",
      "|\"OCCUPATION_TYPE\"  |\n",
      "---------------------\n",
      "|OTHER              |\n",
      "|OTHER              |\n",
      "|LABOURWORK         |\n",
      "|OFFICEWORK         |\n",
      "|OFFICEWORK         |\n",
      "|OFFICEWORK         |\n",
      "|OFFICEWORK         |\n",
      "|OFFICEWORK         |\n",
      "|LABOURWORK         |\n",
      "|LABOURWORK         |\n",
      "---------------------\n",
      "\n"
     ]
    }
   ],
   "source": [
    "# Occupation Type\n",
    "labour_work = ['Cleaning staff', \n",
    "               'Cooking staff', \n",
    "               'Drivers', \n",
    "               'Laborers', \n",
    "               'Low-skill Laborers', \n",
    "               'Security staff', \n",
    "               'Waiters/barmen staff']\n",
    "\n",
    "office_work = ['Accountants', \n",
    "               'Core staff', \n",
    "               'HR staff', \n",
    "               'Medicine staff', \n",
    "               'Private service staff', \n",
    "               'Realty agents', \n",
    "               'Sales staff', \n",
    "               'Secretaries']\n",
    "\n",
    "hightech_work = ['Managers', \n",
    "                 'High skill tech staff', \n",
    "                 'IT staff']\n",
    "\n",
    "application_record_sdf = application_record_sdf.with_column('OCCUPATION_TYPE', \n",
    "                                                            F.iff(F.col('OCCUPATION_TYPE').in_(labour_work), 'LABOURWORK', \n",
    "                                                                 F.iff(F.col('OCCUPATION_TYPE').in_(office_work), 'OFFICEWORK', \n",
    "                                                                      F.iff(F.col('OCCUPATION_TYPE').in_(hightech_work), 'HIGHTECHWORK', 'OTHER')\n",
    "                                                                      )\n",
    "                                                                 )\n",
    "                                                           )\n",
    "application_record_sdf[['OCCUPATION_TYPE']].show()"
   ]
  },
  {
   "cell_type": "markdown",
   "metadata": {},
   "source": [
    "### SnowML Preprocessing\n"
   ]
  },
  {
   "cell_type": "code",
   "execution_count": 54,
   "metadata": {},
   "outputs": [],
   "source": [
    "application_record_sdf = application_record_sdf.drop(['FLAG_WORK_PHONE','FLAG_PHONE','FLAG_EMAIL'])"
   ]
  },
  {
   "cell_type": "code",
   "execution_count": 55,
   "metadata": {},
   "outputs": [],
   "source": [
    "oe_cols = ['FLAG_OWN_CAR', 'FLAG_OWN_REALTY']\n",
    "\n",
    "my_oe_encoder = OrdinalEncoder(input_cols=oe_cols, output_cols=oe_cols)\n",
    "my_oe_encoder.fit(application_record_sdf)\n",
    "application_record_sdf = my_oe_encoder.transform(application_record_sdf)"
   ]
  },
  {
   "cell_type": "code",
   "execution_count": 56,
   "metadata": {},
   "outputs": [],
   "source": [
    "# Prepare values for One-Hot-Encoding\n",
    "ohe_cols = ['CODE_GENDER','NAME_INCOME_TYPE', 'NAME_EDUCATION_TYPE', 'NAME_FAMILY_STATUS', 'CNT_CHILDREN_IND', 'CNT_FAM_MEMBERS_IND', 'OCCUPATION_TYPE','NAME_HOUSING_TYPE']\n",
    "\n",
    "def fix_values(columnn):\n",
    "    return F.upper(F.regexp_replace(F.col(columnn), '[^a-zA-Z0-9]+', '_'))\n",
    "\n",
    "for col in ohe_cols:\n",
    "    application_record_sdf = application_record_sdf.with_column(col, fix_values(col))\n",
    "\n",
    "my_ohe_encoder = OneHotEncoder(input_cols=ohe_cols, output_cols=ohe_cols, drop_input_cols=True)\n",
    "my_ohe_encoder.fit(application_record_sdf)\n",
    "application_record_sdf = my_ohe_encoder.transform(application_record_sdf)"
   ]
  },
  {
   "cell_type": "code",
   "execution_count": 57,
   "metadata": {},
   "outputs": [],
   "source": [
    "scaler_cols = ['AMT_INCOME_TOTAL', 'AGE', 'WORKYEAR']\n",
    "\n",
    "my_scaler = StandardScaler(input_cols=scaler_cols, output_cols=scaler_cols)\n",
    "my_scaler.fit(application_record_sdf)\n",
    "application_record_sdf = my_scaler.transform(application_record_sdf)"
   ]
  },
  {
   "cell_type": "code",
   "execution_count": 58,
   "metadata": {},
   "outputs": [
    {
     "name": "stdout",
     "output_type": "stream",
     "text": [
      "-----------------------------------------------------------------------------------------------------------------------------------------------------------------------------------------------------------------------------------------------------------------------------------------------------------------------------------------------------------------------------------------------------------------------------------------------------------------------------------------------------------------------------------------------------------------------------------------------------------------------------------------------------------------------------------------------------------------------------------------------------------------------------------------------------------------------------------------------------------------------------------------------------------------------------------------------------------------------------------------------------------------------------------------------------------------------------------------------------------------------------------------------------------------------------------------------------------------------------------------------------------\n",
      "|\"AMT_INCOME_TOTAL\"   |\"AGE\"          |\"WORKYEAR\"      |\"CODE_GENDER_F\"  |\"CODE_GENDER_M\"  |\"NAME_INCOME_TYPE_COMMERCIAL_ASSOCIATE\"  |\"NAME_INCOME_TYPE_PENSIONER\"  |\"NAME_INCOME_TYPE_STATE_SERVANT\"  |\"NAME_INCOME_TYPE_STUDENT\"  |\"NAME_INCOME_TYPE_WORKING\"  |\"NAME_EDUCATION_TYPE_ACADEMIC_DEGREE\"  |\"NAME_EDUCATION_TYPE_HIGHER_EDUCATION\"  |\"NAME_EDUCATION_TYPE_INCOMPLETE_HIGHER\"  |\"NAME_EDUCATION_TYPE_LOWER_SECONDARY\"  |\"NAME_EDUCATION_TYPE_SECONDARY_SECONDARY_SPECIAL\"  |\"NAME_FAMILY_STATUS_CIVIL_MARRIAGE\"  |\"NAME_FAMILY_STATUS_MARRIED\"  |\"NAME_FAMILY_STATUS_SEPARATED\"  |\"NAME_FAMILY_STATUS_SINGLE_NOT_MARRIED\"  |\"NAME_FAMILY_STATUS_WIDOW\"  |\"CNT_CHILDREN_IND_0\"  |\"CNT_CHILDREN_IND_1\"  |\"CNT_CHILDREN_IND_2MORE\"  |\"CNT_FAM_MEMBERS_IND_1\"  |\"CNT_FAM_MEMBERS_IND_2\"  |\"CNT_FAM_MEMBERS_IND_3MORE\"  |\"OCCUPATION_TYPE_HIGHTECHWORK\"  |\"OCCUPATION_TYPE_LABOURWORK\"  |\"OCCUPATION_TYPE_OFFICEWORK\"  |\"OCCUPATION_TYPE_OTHER\"  |\"NAME_HOUSING_TYPE_CO_OP_APARTMENT\"  |\"NAME_HOUSING_TYPE_HOUSE_APARTMENT\"  |\"NAME_HOUSING_TYPE_MUNICIPAL_APARTMENT\"  |\"NAME_HOUSING_TYPE_OFFICE_APARTMENT\"  |\"NAME_HOUSING_TYPE_RENTED_APARTMENT\"  |\"NAME_HOUSING_TYPE_WITH_PARENTS\"  |\"FLAG_OWN_CAR\"  |\"FLAG_OWN_REALTY\"  |\"ID\"     |\"TARGET\"  |\n",
      "-----------------------------------------------------------------------------------------------------------------------------------------------------------------------------------------------------------------------------------------------------------------------------------------------------------------------------------------------------------------------------------------------------------------------------------------------------------------------------------------------------------------------------------------------------------------------------------------------------------------------------------------------------------------------------------------------------------------------------------------------------------------------------------------------------------------------------------------------------------------------------------------------------------------------------------------------------------------------------------------------------------------------------------------------------------------------------------------------------------------------------------------------------------------------------------------------------------------------------------------------------------\n",
      "|2.2309933353916525   |-0.8375227711  |0.81181557278   |0.0              |1.0              |0.0                                      |0.0                           |0.0                               |0.0                         |1.0                         |0.0                                    |1.0                                     |0.0                                      |0.0                                    |0.0                                                |1.0                                  |0.0                           |0.0                             |0.0                                      |0.0                         |1.0                   |0.0                   |0.0                       |0.0                      |1.0                      |0.0                          |0.0                             |0.0                           |0.0                           |1.0                      |0.0                                  |0.0                                  |0.0                                      |0.0                                   |1.0                                   |0.0                               |1.0             |1.0                |5008804  |0         |\n",
      "|2.2309933353916525   |-0.8375227711  |0.81181557278   |0.0              |1.0              |0.0                                      |0.0                           |0.0                               |0.0                         |1.0                         |0.0                                    |1.0                                     |0.0                                      |0.0                                    |0.0                                                |1.0                                  |0.0                           |0.0                             |0.0                                      |0.0                         |1.0                   |0.0                   |0.0                       |0.0                      |1.0                      |0.0                          |0.0                             |0.0                           |0.0                           |1.0                      |0.0                                  |0.0                                  |0.0                                      |0.0                                   |1.0                                   |0.0                               |1.0             |1.0                |5008805  |0         |\n",
      "|-0.7837771442667844  |1.8686627045   |-0.57970658465  |0.0              |1.0              |0.0                                      |0.0                           |0.0                               |0.0                         |1.0                         |0.0                                    |0.0                                     |0.0                                      |0.0                                    |1.0                                                |0.0                                  |1.0                           |0.0                             |0.0                                      |0.0                         |1.0                   |0.0                   |0.0                       |0.0                      |1.0                      |0.0                          |0.0                             |1.0                           |0.0                           |0.0                      |0.0                                  |1.0                                  |0.0                                      |0.0                                   |0.0                                   |0.0                               |1.0             |1.0                |5008806  |0         |\n",
      "|0.723608095562434    |1.2441583640   |0.19336128059   |1.0              |0.0              |1.0                                      |0.0                           |0.0                               |0.0                         |0.0                         |0.0                                    |0.0                                     |0.0                                      |0.0                                    |1.0                                                |0.0                                  |0.0                           |0.0                             |1.0                                      |0.0                         |1.0                   |0.0                   |0.0                       |1.0                      |0.0                      |0.0                          |0.0                             |0.0                           |1.0                           |0.0                      |0.0                                  |1.0                                  |0.0                                      |0.0                                   |0.0                                   |0.0                               |0.0             |1.0                |5008808  |0         |\n",
      "|0.723608095562434    |1.2441583640   |0.19336128059   |1.0              |0.0              |1.0                                      |0.0                           |0.0                               |0.0                         |0.0                         |0.0                                    |0.0                                     |0.0                                      |0.0                                    |1.0                                                |0.0                                  |0.0                           |0.0                             |1.0                                      |0.0                         |1.0                   |0.0                   |0.0                       |1.0                      |0.0                      |0.0                          |0.0                             |0.0                           |1.0                           |0.0                      |0.0                                  |1.0                                  |0.0                                      |0.0                                   |0.0                                   |0.0                               |0.0             |1.0                |5008809  |0         |\n",
      "|0.723608095562434    |1.2441583640   |0.19336128059   |1.0              |0.0              |1.0                                      |0.0                           |0.0                               |0.0                         |0.0                         |0.0                                    |0.0                                     |0.0                                      |0.0                                    |1.0                                                |0.0                                  |0.0                           |0.0                             |1.0                                      |0.0                         |1.0                   |0.0                   |0.0                       |1.0                      |0.0                      |0.0                          |0.0                             |0.0                           |1.0                           |0.0                      |0.0                                  |1.0                                  |0.0                                      |0.0                                   |0.0                                   |0.0                               |0.0             |1.0                |5008810  |0         |\n",
      "|0.723608095562434    |1.2441583640   |0.19336128059   |1.0              |0.0              |1.0                                      |0.0                           |0.0                               |0.0                         |0.0                         |0.0                                    |0.0                                     |0.0                                      |0.0                                    |1.0                                                |0.0                                  |0.0                           |0.0                             |1.0                                      |0.0                         |1.0                   |0.0                   |0.0                       |1.0                      |0.0                      |0.0                          |0.0                             |0.0                           |1.0                           |0.0                      |0.0                                  |1.0                                  |0.0                                      |0.0                                   |0.0                                   |0.0                               |0.0             |1.0                |5008811  |0         |\n",
      "|0.723608095562434    |0.6196540235   |-0.73432015770  |0.0              |1.0              |0.0                                      |0.0                           |0.0                               |0.0                         |1.0                         |0.0                                    |1.0                                     |0.0                                      |0.0                                    |0.0                                                |0.0                                  |1.0                           |0.0                             |0.0                                      |0.0                         |1.0                   |0.0                   |0.0                       |0.0                      |1.0                      |0.0                          |0.0                             |0.0                           |1.0                           |0.0                      |0.0                                  |1.0                                  |0.0                                      |0.0                                   |0.0                                   |0.0                               |1.0             |1.0                |5008815  |0         |\n",
      "|-0.5684363957197531  |0.8278221370   |-0.57970658465  |0.0              |1.0              |1.0                                      |0.0                           |0.0                               |0.0                         |0.0                         |0.0                                    |0.0                                     |0.0                                      |0.0                                    |1.0                                                |0.0                                  |1.0                           |0.0                             |0.0                                      |0.0                         |1.0                   |0.0                   |0.0                       |0.0                      |1.0                      |0.0                          |0.0                             |1.0                           |0.0                           |0.0                      |0.0                                  |1.0                                  |0.0                                      |0.0                                   |0.0                                   |0.0                               |1.0             |1.0                |5008820  |0         |\n",
      "|-0.5684363957197531  |0.8278221370   |-0.57970658465  |0.0              |1.0              |1.0                                      |0.0                           |0.0                               |0.0                         |0.0                         |0.0                                    |0.0                                     |0.0                                      |0.0                                    |1.0                                                |0.0                                  |1.0                           |0.0                             |0.0                                      |0.0                         |1.0                   |0.0                   |0.0                       |0.0                      |1.0                      |0.0                          |0.0                             |1.0                           |0.0                           |0.0                      |0.0                                  |1.0                                  |0.0                                      |0.0                                   |0.0                                   |0.0                               |1.0             |1.0                |5008821  |0         |\n",
      "-----------------------------------------------------------------------------------------------------------------------------------------------------------------------------------------------------------------------------------------------------------------------------------------------------------------------------------------------------------------------------------------------------------------------------------------------------------------------------------------------------------------------------------------------------------------------------------------------------------------------------------------------------------------------------------------------------------------------------------------------------------------------------------------------------------------------------------------------------------------------------------------------------------------------------------------------------------------------------------------------------------------------------------------------------------------------------------------------------------------------------------------------------------------------------------------------------------------------------------------------------------\n",
      "\n"
     ]
    }
   ],
   "source": [
    "application_record_sdf.show()"
   ]
  },
  {
   "cell_type": "code",
   "execution_count": 59,
   "metadata": {},
   "outputs": [],
   "source": [
    "# Saving transformed data into a new table\n",
    "application_record_sdf.write.save_as_table(table_name='CREDIT_RISK_PREPARED', mode='overwrite')"
   ]
  },
  {
   "cell_type": "markdown",
   "metadata": {},
   "source": [
    "### Synthetic Minority Oversampling Technique (SMOTE)"
   ]
  },
  {
   "cell_type": "code",
   "execution_count": 60,
   "metadata": {},
   "outputs": [
    {
     "name": "stdout",
     "output_type": "stream",
     "text": [
      "----------------------\n",
      "|\"TARGET\"  |\"COUNT\"  |\n",
      "----------------------\n",
      "|1         |503      |\n",
      "|0         |29819    |\n",
      "----------------------\n",
      "\n"
     ]
    }
   ],
   "source": [
    "# We have highly imbalanced data\n",
    "application_record_sdf.group_by('TARGET').count().show()"
   ]
  },
  {
   "cell_type": "markdown",
   "metadata": {},
   "source": [
    "Instead of pulling back the data localy we create a Python Stored Procedure to do the sampling using the compute in Snowflake and save the result into a new table.\n",
    "\n",
    "In order to create a Python Stored Procedure we need to create a Snowflake internal stage."
   ]
  },
  {
   "cell_type": "code",
   "execution_count": 61,
   "metadata": {},
   "outputs": [
    {
     "data": {
      "text/html": [
       "<div>\n",
       "<style scoped>\n",
       "    .dataframe tbody tr th:only-of-type {\n",
       "        vertical-align: middle;\n",
       "    }\n",
       "\n",
       "    .dataframe tbody tr th {\n",
       "        vertical-align: top;\n",
       "    }\n",
       "\n",
       "    .dataframe thead th {\n",
       "        text-align: right;\n",
       "    }\n",
       "</style>\n",
       "<table border=\"1\" class=\"dataframe\">\n",
       "  <thead>\n",
       "    <tr style=\"text-align: right;\">\n",
       "      <th></th>\n",
       "      <th>created_on</th>\n",
       "      <th>name</th>\n",
       "      <th>database_name</th>\n",
       "      <th>schema_name</th>\n",
       "      <th>url</th>\n",
       "      <th>has_credentials</th>\n",
       "      <th>has_encryption_key</th>\n",
       "      <th>owner</th>\n",
       "      <th>comment</th>\n",
       "      <th>region</th>\n",
       "      <th>type</th>\n",
       "      <th>cloud</th>\n",
       "      <th>notification_channel</th>\n",
       "      <th>storage_integration</th>\n",
       "      <th>endpoint</th>\n",
       "      <th>owner_role_type</th>\n",
       "      <th>directory_enabled</th>\n",
       "    </tr>\n",
       "  </thead>\n",
       "  <tbody>\n",
       "    <tr>\n",
       "      <th>0</th>\n",
       "      <td>2025-03-27 17:48:52.022000-07:00</td>\n",
       "      <td>ML_PROCS</td>\n",
       "      <td>CC_DB</td>\n",
       "      <td>PUBLIC</td>\n",
       "      <td></td>\n",
       "      <td>N</td>\n",
       "      <td>N</td>\n",
       "      <td>ACCOUNTADMIN</td>\n",
       "      <td></td>\n",
       "      <td>None</td>\n",
       "      <td>INTERNAL</td>\n",
       "      <td>None</td>\n",
       "      <td>None</td>\n",
       "      <td>None</td>\n",
       "      <td>None</td>\n",
       "      <td>ROLE</td>\n",
       "      <td>N</td>\n",
       "    </tr>\n",
       "    <tr>\n",
       "      <th>1</th>\n",
       "      <td>2025-03-27 17:42:49.983000-07:00</td>\n",
       "      <td>gtshipxann</td>\n",
       "      <td>CC_DB</td>\n",
       "      <td>PUBLIC</td>\n",
       "      <td></td>\n",
       "      <td>N</td>\n",
       "      <td>N</td>\n",
       "      <td>ACCOUNTADMIN</td>\n",
       "      <td></td>\n",
       "      <td>None</td>\n",
       "      <td>INTERNAL TEMPORARY</td>\n",
       "      <td>None</td>\n",
       "      <td>None</td>\n",
       "      <td>None</td>\n",
       "      <td>None</td>\n",
       "      <td>ROLE</td>\n",
       "      <td>N</td>\n",
       "    </tr>\n",
       "    <tr>\n",
       "      <th>2</th>\n",
       "      <td>2025-03-27 17:42:45.310000-07:00</td>\n",
       "      <td>ynagdmhtfa</td>\n",
       "      <td>CC_DB</td>\n",
       "      <td>PUBLIC</td>\n",
       "      <td></td>\n",
       "      <td>N</td>\n",
       "      <td>N</td>\n",
       "      <td>ACCOUNTADMIN</td>\n",
       "      <td></td>\n",
       "      <td>None</td>\n",
       "      <td>INTERNAL TEMPORARY</td>\n",
       "      <td>None</td>\n",
       "      <td>None</td>\n",
       "      <td>None</td>\n",
       "      <td>None</td>\n",
       "      <td>ROLE</td>\n",
       "      <td>N</td>\n",
       "    </tr>\n",
       "  </tbody>\n",
       "</table>\n",
       "</div>"
      ],
      "text/plain": [
       "                        created_on        name database_name schema_name url  \\\n",
       "0 2025-03-27 17:48:52.022000-07:00    ML_PROCS         CC_DB      PUBLIC       \n",
       "1 2025-03-27 17:42:49.983000-07:00  gtshipxann         CC_DB      PUBLIC       \n",
       "2 2025-03-27 17:42:45.310000-07:00  ynagdmhtfa         CC_DB      PUBLIC       \n",
       "\n",
       "  has_credentials has_encryption_key         owner comment region  \\\n",
       "0               N                  N  ACCOUNTADMIN           None   \n",
       "1               N                  N  ACCOUNTADMIN           None   \n",
       "2               N                  N  ACCOUNTADMIN           None   \n",
       "\n",
       "                 type cloud notification_channel storage_integration endpoint  \\\n",
       "0            INTERNAL  None                 None                None     None   \n",
       "1  INTERNAL TEMPORARY  None                 None                None     None   \n",
       "2  INTERNAL TEMPORARY  None                 None                None     None   \n",
       "\n",
       "  owner_role_type directory_enabled  \n",
       "0            ROLE                 N  \n",
       "1            ROLE                 N  \n",
       "2            ROLE                 N  "
      ]
     },
     "execution_count": 61,
     "metadata": {},
     "output_type": "execute_result"
    }
   ],
   "source": [
    "session.sql('CREATE OR REPLACE STAGE ML_PROCS').collect()\n",
    "pd.DataFrame(session.sql('SHOW STAGES').collect())"
   ]
  },
  {
   "cell_type": "code",
   "execution_count": 62,
   "metadata": {},
   "outputs": [],
   "source": [
    "# This local Python-function will be registered as a Stored Procedure and runs in Snowflake\n",
    "def sproc_oversample_smote(session: Session, \n",
    "                           training_table: str, \n",
    "                           feature_cols: list,\n",
    "                           target_col: str,\n",
    "                           target_table: str) -> T.Variant:\n",
    "    \n",
    "    # Loading data into pandas dataframe\n",
    "    local_training_data = session.table(training_table).to_pandas()\n",
    "\n",
    "    # Define features and label\n",
    "    X = local_training_data[feature_cols]\n",
    "    y = local_training_data[target_col]\n",
    "    \n",
    "    # Oversample minority class via SMOTE\n",
    "    from imblearn.over_sampling import SMOTE\n",
    "    X_balance, y_balance = SMOTE().fit_resample(X,y)\n",
    "    \n",
    "    # Combine return values into single pandas dataframe\n",
    "    X_balance[target_col] = y_balance\n",
    "    \n",
    "    # Persist dataframe in Snowflake table\n",
    "    session.sql('DROP TABLE IF EXISTS {}'.format(target_table)).collect()\n",
    "    session.write_pandas(X_balance, table_name=target_table, auto_create_table=True)\n",
    "    \n",
    "    # Getting model coefficients\n",
    "    return \"Successfully oversampled\""
   ]
  },
  {
   "cell_type": "code",
   "execution_count": 63,
   "metadata": {},
   "outputs": [
    {
     "name": "stderr",
     "output_type": "stream",
     "text": [
      "Package 'imbalanced-learn' is not installed in the local environment. Your UDF might not work when the package is installed on the server but not on your local environment.\n"
     ]
    }
   ],
   "source": [
    "# Registering the function as a Stored Procedure. By pinning the version numbers of the the third-party python packages we makes sure that we use \n",
    "# the same version in Snowflake as we have installed locally, otherwise the latest version avalible in the Anaconda Snowflake channel will be used\n",
    "\n",
    "sproc_oversample_smote = session.sproc.register(func=sproc_oversample_smote, \n",
    "                                                name='sproc_oversample_smote', \n",
    "                                                is_permanent=True, \n",
    "                                                replace=True,\n",
    "                                                stage_location='@ML_PROCS',\n",
    "                                                packages=[f'snowflake-snowpark-python',\n",
    "                                                          f'scikit-learn==1.2.2',\n",
    "                                                          f'imbalanced-learn==0.10.1'])"
   ]
  },
  {
   "cell_type": "code",
   "execution_count": 64,
   "metadata": {},
   "outputs": [
    {
     "data": {
      "text/plain": [
       "'\"Successfully oversampled\"'"
      ]
     },
     "execution_count": 64,
     "metadata": {},
     "output_type": "execute_result"
    }
   ],
   "source": [
    "training_table = 'CREDIT_RISK_PREPARED'\n",
    "# get feature columns\n",
    "feature_cols = application_record_sdf.columns\n",
    "feature_cols.remove('TARGET')\n",
    "target_col = 'TARGET'\n",
    "target_table = 'CREDIT_RISK_PREPARED_BALANCED'\n",
    "\n",
    "sproc_oversample_smote(\n",
    "    training_table, \n",
    "    feature_cols, \n",
    "    target_col,\n",
    "    target_table, \n",
    "    session=session\n",
    "    )"
   ]
  },
  {
   "cell_type": "code",
   "execution_count": 65,
   "metadata": {},
   "outputs": [
    {
     "name": "stdout",
     "output_type": "stream",
     "text": [
      "----------------------\n",
      "|\"TARGET\"  |\"COUNT\"  |\n",
      "----------------------\n",
      "|0         |29819    |\n",
      "|1         |29819    |\n",
      "----------------------\n",
      "\n"
     ]
    }
   ],
   "source": [
    "# Now our training data is balanced\n",
    "train_data_sdf = session.table('CREDIT_RISK_PREPARED_BALANCED')\n",
    "train_data_sdf.group_by('TARGET').count().show()"
   ]
  },
  {
   "cell_type": "code",
   "execution_count": 66,
   "metadata": {},
   "outputs": [],
   "source": [
    "session.close()"
   ]
  }
 ],
 "metadata": {
  "kernelspec": {
   "display_name": ".venv",
   "language": "python",
   "name": "python3"
  },
  "language_info": {
   "codemirror_mode": {
    "name": "ipython",
    "version": 3
   },
   "file_extension": ".py",
   "mimetype": "text/x-python",
   "name": "python",
   "nbconvert_exporter": "python",
   "pygments_lexer": "ipython3",
   "version": "3.9.6"
  }
 },
 "nbformat": 4,
 "nbformat_minor": 2
}
