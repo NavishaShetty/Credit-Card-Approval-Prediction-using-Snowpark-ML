{
 "cells": [
  {
   "cell_type": "code",
   "execution_count": 32,
   "id": "663eac2a",
   "metadata": {},
   "outputs": [
    {
     "name": "stdout",
     "output_type": "stream",
     "text": [
      "Requirement already satisfied: snowflake-connector-python in /Users/navisha/anaconda3/lib/python3.11/site-packages (3.14.0)\n",
      "Requirement already satisfied: asn1crypto<2.0.0,>0.24.0 in /Users/navisha/anaconda3/lib/python3.11/site-packages (from snowflake-connector-python) (1.5.1)\n",
      "Requirement already satisfied: cffi<2.0.0,>=1.9 in /Users/navisha/anaconda3/lib/python3.11/site-packages (from snowflake-connector-python) (1.15.1)\n",
      "Requirement already satisfied: cryptography>=3.1.0 in /Users/navisha/anaconda3/lib/python3.11/site-packages (from snowflake-connector-python) (41.0.3)\n",
      "Requirement already satisfied: pyOpenSSL<26.0.0,>=22.0.0 in /Users/navisha/anaconda3/lib/python3.11/site-packages (from snowflake-connector-python) (23.2.0)\n",
      "Requirement already satisfied: pyjwt<3.0.0 in /Users/navisha/anaconda3/lib/python3.11/site-packages (from snowflake-connector-python) (2.4.0)\n",
      "Requirement already satisfied: pytz in /Users/navisha/anaconda3/lib/python3.11/site-packages (from snowflake-connector-python) (2024.2)\n",
      "Requirement already satisfied: requests<3.0.0 in /Users/navisha/anaconda3/lib/python3.11/site-packages (from snowflake-connector-python) (2.32.3)\n",
      "Requirement already satisfied: packaging in /Users/navisha/anaconda3/lib/python3.11/site-packages (from snowflake-connector-python) (23.2)\n",
      "Requirement already satisfied: charset_normalizer<4,>=2 in /Users/navisha/anaconda3/lib/python3.11/site-packages (from snowflake-connector-python) (3.4.0)\n",
      "Requirement already satisfied: idna<4,>=2.5 in /Users/navisha/anaconda3/lib/python3.11/site-packages (from snowflake-connector-python) (3.10)\n",
      "Requirement already satisfied: certifi>=2017.4.17 in /Users/navisha/anaconda3/lib/python3.11/site-packages (from snowflake-connector-python) (2024.8.30)\n",
      "Requirement already satisfied: typing_extensions<5,>=4.3 in /Users/navisha/anaconda3/lib/python3.11/site-packages (from snowflake-connector-python) (4.12.2)\n",
      "Requirement already satisfied: filelock<4,>=3.5 in /Users/navisha/anaconda3/lib/python3.11/site-packages (from snowflake-connector-python) (3.9.0)\n",
      "Requirement already satisfied: sortedcontainers>=2.4.0 in /Users/navisha/anaconda3/lib/python3.11/site-packages (from snowflake-connector-python) (2.4.0)\n",
      "Requirement already satisfied: platformdirs<5.0.0,>=2.6.0 in /Users/navisha/anaconda3/lib/python3.11/site-packages (from snowflake-connector-python) (3.10.0)\n",
      "Requirement already satisfied: tomlkit in /Users/navisha/anaconda3/lib/python3.11/site-packages (from snowflake-connector-python) (0.13.2)\n",
      "Requirement already satisfied: pycparser in /Users/navisha/anaconda3/lib/python3.11/site-packages (from cffi<2.0.0,>=1.9->snowflake-connector-python) (2.21)\n",
      "Requirement already satisfied: urllib3<3,>=1.21.1 in /Users/navisha/anaconda3/lib/python3.11/site-packages (from requests<3.0.0->snowflake-connector-python) (2.0.7)\n"
     ]
    }
   ],
   "source": [
    "!pip install snowflake-connector-python"
   ]
  },
  {
   "cell_type": "code",
   "execution_count": 33,
   "id": "c333c747",
   "metadata": {},
   "outputs": [
    {
     "name": "stdout",
     "output_type": "stream",
     "text": [
      "Requirement already satisfied: snowflake-snowpark-python in /Users/navisha/anaconda3/lib/python3.11/site-packages (1.30.0)\n",
      "Requirement already satisfied: setuptools>=40.6.0 in /Users/navisha/anaconda3/lib/python3.11/site-packages (from snowflake-snowpark-python) (75.3.0)\n",
      "Requirement already satisfied: wheel in /Users/navisha/anaconda3/lib/python3.11/site-packages (from snowflake-snowpark-python) (0.38.4)\n",
      "Requirement already satisfied: snowflake-connector-python<4.0.0,>=3.14.0 in /Users/navisha/anaconda3/lib/python3.11/site-packages (from snowflake-snowpark-python) (3.14.0)\n",
      "Requirement already satisfied: typing-extensions<5.0.0,>=4.1.0 in /Users/navisha/anaconda3/lib/python3.11/site-packages (from snowflake-snowpark-python) (4.12.2)\n",
      "Requirement already satisfied: pyyaml in /Users/navisha/anaconda3/lib/python3.11/site-packages (from snowflake-snowpark-python) (6.0.2)\n",
      "Requirement already satisfied: cloudpickle!=2.1.0,!=2.2.0,<=3.0.0,>=1.6.0 in /Users/navisha/anaconda3/lib/python3.11/site-packages (from snowflake-snowpark-python) (2.2.1)\n",
      "Requirement already satisfied: protobuf<6,>=3.20 in /Users/navisha/anaconda3/lib/python3.11/site-packages (from snowflake-snowpark-python) (4.25.5)\n",
      "Requirement already satisfied: python-dateutil in /Users/navisha/anaconda3/lib/python3.11/site-packages (from snowflake-snowpark-python) (2.9.0.post0)\n",
      "Requirement already satisfied: tzlocal in /Users/navisha/anaconda3/lib/python3.11/site-packages (from snowflake-snowpark-python) (5.3.1)\n",
      "Requirement already satisfied: asn1crypto<2.0.0,>0.24.0 in /Users/navisha/anaconda3/lib/python3.11/site-packages (from snowflake-connector-python<4.0.0,>=3.14.0->snowflake-snowpark-python) (1.5.1)\n",
      "Requirement already satisfied: cffi<2.0.0,>=1.9 in /Users/navisha/anaconda3/lib/python3.11/site-packages (from snowflake-connector-python<4.0.0,>=3.14.0->snowflake-snowpark-python) (1.15.1)\n",
      "Requirement already satisfied: cryptography>=3.1.0 in /Users/navisha/anaconda3/lib/python3.11/site-packages (from snowflake-connector-python<4.0.0,>=3.14.0->snowflake-snowpark-python) (41.0.3)\n",
      "Requirement already satisfied: pyOpenSSL<26.0.0,>=22.0.0 in /Users/navisha/anaconda3/lib/python3.11/site-packages (from snowflake-connector-python<4.0.0,>=3.14.0->snowflake-snowpark-python) (23.2.0)\n",
      "Requirement already satisfied: pyjwt<3.0.0 in /Users/navisha/anaconda3/lib/python3.11/site-packages (from snowflake-connector-python<4.0.0,>=3.14.0->snowflake-snowpark-python) (2.4.0)\n",
      "Requirement already satisfied: pytz in /Users/navisha/anaconda3/lib/python3.11/site-packages (from snowflake-connector-python<4.0.0,>=3.14.0->snowflake-snowpark-python) (2024.2)\n",
      "Requirement already satisfied: requests<3.0.0 in /Users/navisha/anaconda3/lib/python3.11/site-packages (from snowflake-connector-python<4.0.0,>=3.14.0->snowflake-snowpark-python) (2.32.3)\n",
      "Requirement already satisfied: packaging in /Users/navisha/anaconda3/lib/python3.11/site-packages (from snowflake-connector-python<4.0.0,>=3.14.0->snowflake-snowpark-python) (23.2)\n",
      "Requirement already satisfied: charset_normalizer<4,>=2 in /Users/navisha/anaconda3/lib/python3.11/site-packages (from snowflake-connector-python<4.0.0,>=3.14.0->snowflake-snowpark-python) (3.4.0)\n",
      "Requirement already satisfied: idna<4,>=2.5 in /Users/navisha/anaconda3/lib/python3.11/site-packages (from snowflake-connector-python<4.0.0,>=3.14.0->snowflake-snowpark-python) (3.10)\n",
      "Requirement already satisfied: certifi>=2017.4.17 in /Users/navisha/anaconda3/lib/python3.11/site-packages (from snowflake-connector-python<4.0.0,>=3.14.0->snowflake-snowpark-python) (2024.8.30)\n",
      "Requirement already satisfied: filelock<4,>=3.5 in /Users/navisha/anaconda3/lib/python3.11/site-packages (from snowflake-connector-python<4.0.0,>=3.14.0->snowflake-snowpark-python) (3.9.0)\n",
      "Requirement already satisfied: sortedcontainers>=2.4.0 in /Users/navisha/anaconda3/lib/python3.11/site-packages (from snowflake-connector-python<4.0.0,>=3.14.0->snowflake-snowpark-python) (2.4.0)\n",
      "Requirement already satisfied: platformdirs<5.0.0,>=2.6.0 in /Users/navisha/anaconda3/lib/python3.11/site-packages (from snowflake-connector-python<4.0.0,>=3.14.0->snowflake-snowpark-python) (3.10.0)\n",
      "Requirement already satisfied: tomlkit in /Users/navisha/anaconda3/lib/python3.11/site-packages (from snowflake-connector-python<4.0.0,>=3.14.0->snowflake-snowpark-python) (0.13.2)\n",
      "Requirement already satisfied: six>=1.5 in /Users/navisha/anaconda3/lib/python3.11/site-packages (from python-dateutil->snowflake-snowpark-python) (1.16.0)\n",
      "Requirement already satisfied: pycparser in /Users/navisha/anaconda3/lib/python3.11/site-packages (from cffi<2.0.0,>=1.9->snowflake-connector-python<4.0.0,>=3.14.0->snowflake-snowpark-python) (2.21)\n",
      "Requirement already satisfied: urllib3<3,>=1.21.1 in /Users/navisha/anaconda3/lib/python3.11/site-packages (from requests<3.0.0->snowflake-connector-python<4.0.0,>=3.14.0->snowflake-snowpark-python) (2.0.7)\n"
     ]
    }
   ],
   "source": [
    "!pip install snowflake-snowpark-python"
   ]
  },
  {
   "cell_type": "code",
   "execution_count": 34,
   "id": "fe865744",
   "metadata": {},
   "outputs": [
    {
     "name": "stdout",
     "output_type": "stream",
     "text": [
      "Requirement already satisfied: pandas in /Users/navisha/anaconda3/lib/python3.11/site-packages (2.2.3)\n",
      "Requirement already satisfied: numpy>=1.23.2 in /Users/navisha/anaconda3/lib/python3.11/site-packages (from pandas) (1.24.3)\n",
      "Requirement already satisfied: python-dateutil>=2.8.2 in /Users/navisha/anaconda3/lib/python3.11/site-packages (from pandas) (2.9.0.post0)\n",
      "Requirement already satisfied: pytz>=2020.1 in /Users/navisha/anaconda3/lib/python3.11/site-packages (from pandas) (2024.2)\n",
      "Requirement already satisfied: tzdata>=2022.7 in /Users/navisha/anaconda3/lib/python3.11/site-packages (from pandas) (2024.2)\n",
      "Requirement already satisfied: six>=1.5 in /Users/navisha/anaconda3/lib/python3.11/site-packages (from python-dateutil>=2.8.2->pandas) (1.16.0)\n"
     ]
    }
   ],
   "source": [
    "!pip install pandas"
   ]
  },
  {
   "cell_type": "code",
   "execution_count": 35,
   "id": "85742db4",
   "metadata": {},
   "outputs": [
    {
     "name": "stdout",
     "output_type": "stream",
     "text": [
      "Requirement already satisfied: pyarrow in /Users/navisha/anaconda3/lib/python3.11/site-packages (11.0.0)\n",
      "Requirement already satisfied: numpy>=1.16.6 in /Users/navisha/anaconda3/lib/python3.11/site-packages (from pyarrow) (1.24.3)\n"
     ]
    }
   ],
   "source": [
    "!pip install pyarrow"
   ]
  },
  {
   "cell_type": "code",
   "execution_count": 36,
   "id": "3c148105",
   "metadata": {},
   "outputs": [
    {
     "name": "stdout",
     "output_type": "stream",
     "text": [
      "Requirement already satisfied: matplotlib in /Users/navisha/anaconda3/lib/python3.11/site-packages (3.7.2)\n",
      "Requirement already satisfied: contourpy>=1.0.1 in /Users/navisha/anaconda3/lib/python3.11/site-packages (from matplotlib) (1.0.5)\n",
      "Requirement already satisfied: cycler>=0.10 in /Users/navisha/anaconda3/lib/python3.11/site-packages (from matplotlib) (0.11.0)\n",
      "Requirement already satisfied: fonttools>=4.22.0 in /Users/navisha/anaconda3/lib/python3.11/site-packages (from matplotlib) (4.25.0)\n",
      "Requirement already satisfied: kiwisolver>=1.0.1 in /Users/navisha/anaconda3/lib/python3.11/site-packages (from matplotlib) (1.4.4)\n",
      "Requirement already satisfied: numpy>=1.20 in /Users/navisha/anaconda3/lib/python3.11/site-packages (from matplotlib) (1.24.3)\n",
      "Requirement already satisfied: packaging>=20.0 in /Users/navisha/anaconda3/lib/python3.11/site-packages (from matplotlib) (23.2)\n",
      "Requirement already satisfied: pillow>=6.2.0 in /Users/navisha/anaconda3/lib/python3.11/site-packages (from matplotlib) (9.4.0)\n",
      "Requirement already satisfied: pyparsing<3.1,>=2.3.1 in /Users/navisha/anaconda3/lib/python3.11/site-packages (from matplotlib) (3.0.9)\n",
      "Requirement already satisfied: python-dateutil>=2.7 in /Users/navisha/anaconda3/lib/python3.11/site-packages (from matplotlib) (2.9.0.post0)\n",
      "Requirement already satisfied: six>=1.5 in /Users/navisha/anaconda3/lib/python3.11/site-packages (from python-dateutil>=2.7->matplotlib) (1.16.0)\n"
     ]
    }
   ],
   "source": [
    "!pip install matplotlib"
   ]
  },
  {
   "cell_type": "code",
   "execution_count": 37,
   "id": "dab83f1c",
   "metadata": {},
   "outputs": [
    {
     "name": "stdout",
     "output_type": "stream",
     "text": [
      "Requirement already satisfied: seaborn in /Users/navisha/anaconda3/lib/python3.11/site-packages (0.12.2)\n",
      "Requirement already satisfied: numpy!=1.24.0,>=1.17 in /Users/navisha/anaconda3/lib/python3.11/site-packages (from seaborn) (1.24.3)\n",
      "Requirement already satisfied: pandas>=0.25 in /Users/navisha/anaconda3/lib/python3.11/site-packages (from seaborn) (2.2.3)\n",
      "Requirement already satisfied: matplotlib!=3.6.1,>=3.1 in /Users/navisha/anaconda3/lib/python3.11/site-packages (from seaborn) (3.7.2)\n",
      "Requirement already satisfied: contourpy>=1.0.1 in /Users/navisha/anaconda3/lib/python3.11/site-packages (from matplotlib!=3.6.1,>=3.1->seaborn) (1.0.5)\n",
      "Requirement already satisfied: cycler>=0.10 in /Users/navisha/anaconda3/lib/python3.11/site-packages (from matplotlib!=3.6.1,>=3.1->seaborn) (0.11.0)\n",
      "Requirement already satisfied: fonttools>=4.22.0 in /Users/navisha/anaconda3/lib/python3.11/site-packages (from matplotlib!=3.6.1,>=3.1->seaborn) (4.25.0)\n",
      "Requirement already satisfied: kiwisolver>=1.0.1 in /Users/navisha/anaconda3/lib/python3.11/site-packages (from matplotlib!=3.6.1,>=3.1->seaborn) (1.4.4)\n",
      "Requirement already satisfied: packaging>=20.0 in /Users/navisha/anaconda3/lib/python3.11/site-packages (from matplotlib!=3.6.1,>=3.1->seaborn) (23.2)\n",
      "Requirement already satisfied: pillow>=6.2.0 in /Users/navisha/anaconda3/lib/python3.11/site-packages (from matplotlib!=3.6.1,>=3.1->seaborn) (9.4.0)\n",
      "Requirement already satisfied: pyparsing<3.1,>=2.3.1 in /Users/navisha/anaconda3/lib/python3.11/site-packages (from matplotlib!=3.6.1,>=3.1->seaborn) (3.0.9)\n",
      "Requirement already satisfied: python-dateutil>=2.7 in /Users/navisha/anaconda3/lib/python3.11/site-packages (from matplotlib!=3.6.1,>=3.1->seaborn) (2.9.0.post0)\n",
      "Requirement already satisfied: pytz>=2020.1 in /Users/navisha/anaconda3/lib/python3.11/site-packages (from pandas>=0.25->seaborn) (2024.2)\n",
      "Requirement already satisfied: tzdata>=2022.7 in /Users/navisha/anaconda3/lib/python3.11/site-packages (from pandas>=0.25->seaborn) (2024.2)\n",
      "Requirement already satisfied: six>=1.5 in /Users/navisha/anaconda3/lib/python3.11/site-packages (from python-dateutil>=2.7->matplotlib!=3.6.1,>=3.1->seaborn) (1.16.0)\n"
     ]
    }
   ],
   "source": [
    "!pip install seaborn"
   ]
  },
  {
   "cell_type": "code",
   "execution_count": 38,
   "metadata": {},
   "outputs": [
    {
     "name": "stdout",
     "output_type": "stream",
     "text": [
      "Requirement already satisfied: numpy in /Users/navisha/anaconda3/lib/python3.11/site-packages (1.24.3)\n"
     ]
    }
   ],
   "source": [
    "!pip install numpy"
   ]
  },
  {
   "cell_type": "code",
   "execution_count": 39,
   "id": "96c9566f",
   "metadata": {},
   "outputs": [
    {
     "name": "stdout",
     "output_type": "stream",
     "text": [
      "Requirement already satisfied: scipy in /Users/navisha/anaconda3/lib/python3.11/site-packages (1.14.1)\n",
      "Requirement already satisfied: numpy<2.3,>=1.23.5 in /Users/navisha/anaconda3/lib/python3.11/site-packages (from scipy) (1.24.3)\n"
     ]
    }
   ],
   "source": [
    "!pip install scipy"
   ]
  },
  {
   "cell_type": "code",
   "execution_count": 40,
   "id": "4cf2693b",
   "metadata": {},
   "outputs": [
    {
     "name": "stdout",
     "output_type": "stream",
     "text": [
      "Requirement already satisfied: scikit-learn in /Users/navisha/anaconda3/lib/python3.11/site-packages (1.5.2)\n",
      "Requirement already satisfied: numpy>=1.19.5 in /Users/navisha/anaconda3/lib/python3.11/site-packages (from scikit-learn) (1.24.3)\n",
      "Requirement already satisfied: scipy>=1.6.0 in /Users/navisha/anaconda3/lib/python3.11/site-packages (from scikit-learn) (1.14.1)\n",
      "Requirement already satisfied: joblib>=1.2.0 in /Users/navisha/anaconda3/lib/python3.11/site-packages (from scikit-learn) (1.4.2)\n",
      "Requirement already satisfied: threadpoolctl>=3.1.0 in /Users/navisha/anaconda3/lib/python3.11/site-packages (from scikit-learn) (3.5.0)\n"
     ]
    }
   ],
   "source": [
    "!pip install scikit-learn"
   ]
  },
  {
   "cell_type": "code",
   "execution_count": 41,
   "id": "31cd752b",
   "metadata": {},
   "outputs": [
    {
     "name": "stdout",
     "output_type": "stream",
     "text": [
      "Requirement already satisfied: statsmodels in /Users/navisha/anaconda3/lib/python3.11/site-packages (0.14.0)\n",
      "Requirement already satisfied: numpy>=1.18 in /Users/navisha/anaconda3/lib/python3.11/site-packages (from statsmodels) (1.24.3)\n",
      "Requirement already satisfied: scipy!=1.9.2,>=1.4 in /Users/navisha/anaconda3/lib/python3.11/site-packages (from statsmodels) (1.14.1)\n",
      "Requirement already satisfied: pandas>=1.0 in /Users/navisha/anaconda3/lib/python3.11/site-packages (from statsmodels) (2.2.3)\n",
      "Requirement already satisfied: patsy>=0.5.2 in /Users/navisha/anaconda3/lib/python3.11/site-packages (from statsmodels) (0.5.3)\n",
      "Requirement already satisfied: packaging>=21.3 in /Users/navisha/anaconda3/lib/python3.11/site-packages (from statsmodels) (23.2)\n",
      "Requirement already satisfied: python-dateutil>=2.8.2 in /Users/navisha/anaconda3/lib/python3.11/site-packages (from pandas>=1.0->statsmodels) (2.9.0.post0)\n",
      "Requirement already satisfied: pytz>=2020.1 in /Users/navisha/anaconda3/lib/python3.11/site-packages (from pandas>=1.0->statsmodels) (2024.2)\n",
      "Requirement already satisfied: tzdata>=2022.7 in /Users/navisha/anaconda3/lib/python3.11/site-packages (from pandas>=1.0->statsmodels) (2024.2)\n",
      "Requirement already satisfied: six in /Users/navisha/anaconda3/lib/python3.11/site-packages (from patsy>=0.5.2->statsmodels) (1.16.0)\n"
     ]
    }
   ],
   "source": [
    "!pip install statsmodels"
   ]
  },
  {
   "cell_type": "code",
   "execution_count": 42,
   "metadata": {},
   "outputs": [
    {
     "name": "stdout",
     "output_type": "stream",
     "text": [
      "Requirement already satisfied: tensorflow in /Users/navisha/anaconda3/lib/python3.11/site-packages (2.17.0)\n",
      "Requirement already satisfied: absl-py>=1.0.0 in /Users/navisha/anaconda3/lib/python3.11/site-packages (from tensorflow) (1.4.0)\n",
      "Requirement already satisfied: astunparse>=1.6.0 in /Users/navisha/anaconda3/lib/python3.11/site-packages (from tensorflow) (1.6.3)\n",
      "Requirement already satisfied: flatbuffers>=24.3.25 in /Users/navisha/anaconda3/lib/python3.11/site-packages (from tensorflow) (24.3.25)\n",
      "Requirement already satisfied: gast!=0.5.0,!=0.5.1,!=0.5.2,>=0.2.1 in /Users/navisha/anaconda3/lib/python3.11/site-packages (from tensorflow) (0.6.0)\n",
      "Requirement already satisfied: google-pasta>=0.1.1 in /Users/navisha/anaconda3/lib/python3.11/site-packages (from tensorflow) (0.2.0)\n",
      "Requirement already satisfied: h5py>=3.10.0 in /Users/navisha/anaconda3/lib/python3.11/site-packages (from tensorflow) (3.11.0)\n",
      "Requirement already satisfied: libclang>=13.0.0 in /Users/navisha/anaconda3/lib/python3.11/site-packages (from tensorflow) (18.1.1)\n",
      "Requirement already satisfied: ml-dtypes<0.5.0,>=0.3.1 in /Users/navisha/anaconda3/lib/python3.11/site-packages (from tensorflow) (0.4.0)\n",
      "Requirement already satisfied: opt-einsum>=2.3.2 in /Users/navisha/anaconda3/lib/python3.11/site-packages (from tensorflow) (3.3.0)\n",
      "Requirement already satisfied: packaging in /Users/navisha/anaconda3/lib/python3.11/site-packages (from tensorflow) (23.2)\n",
      "Requirement already satisfied: protobuf!=4.21.0,!=4.21.1,!=4.21.2,!=4.21.3,!=4.21.4,!=4.21.5,<5.0.0dev,>=3.20.3 in /Users/navisha/anaconda3/lib/python3.11/site-packages (from tensorflow) (4.25.5)\n",
      "Requirement already satisfied: requests<3,>=2.21.0 in /Users/navisha/anaconda3/lib/python3.11/site-packages (from tensorflow) (2.32.3)\n",
      "Requirement already satisfied: setuptools in /Users/navisha/anaconda3/lib/python3.11/site-packages (from tensorflow) (75.3.0)\n",
      "Requirement already satisfied: six>=1.12.0 in /Users/navisha/anaconda3/lib/python3.11/site-packages (from tensorflow) (1.16.0)\n",
      "Requirement already satisfied: termcolor>=1.1.0 in /Users/navisha/anaconda3/lib/python3.11/site-packages (from tensorflow) (2.4.0)\n",
      "Requirement already satisfied: typing-extensions>=3.6.6 in /Users/navisha/anaconda3/lib/python3.11/site-packages (from tensorflow) (4.12.2)\n",
      "Requirement already satisfied: wrapt>=1.11.0 in /Users/navisha/anaconda3/lib/python3.11/site-packages (from tensorflow) (1.14.1)\n",
      "Requirement already satisfied: grpcio<2.0,>=1.24.3 in /Users/navisha/anaconda3/lib/python3.11/site-packages (from tensorflow) (1.64.1)\n",
      "Requirement already satisfied: tensorboard<2.18,>=2.17 in /Users/navisha/anaconda3/lib/python3.11/site-packages (from tensorflow) (2.17.0)\n",
      "Requirement already satisfied: keras>=3.2.0 in /Users/navisha/anaconda3/lib/python3.11/site-packages (from tensorflow) (3.4.1)\n",
      "Requirement already satisfied: tensorflow-io-gcs-filesystem>=0.23.1 in /Users/navisha/anaconda3/lib/python3.11/site-packages (from tensorflow) (0.37.1)\n",
      "Requirement already satisfied: numpy<2.0.0,>=1.23.5 in /Users/navisha/anaconda3/lib/python3.11/site-packages (from tensorflow) (1.24.3)\n",
      "Requirement already satisfied: wheel<1.0,>=0.23.0 in /Users/navisha/anaconda3/lib/python3.11/site-packages (from astunparse>=1.6.0->tensorflow) (0.38.4)\n",
      "Requirement already satisfied: rich in /Users/navisha/anaconda3/lib/python3.11/site-packages (from keras>=3.2.0->tensorflow) (13.9.4)\n",
      "Requirement already satisfied: namex in /Users/navisha/anaconda3/lib/python3.11/site-packages (from keras>=3.2.0->tensorflow) (0.0.8)\n",
      "Requirement already satisfied: optree in /Users/navisha/anaconda3/lib/python3.11/site-packages (from keras>=3.2.0->tensorflow) (0.12.1)\n",
      "Requirement already satisfied: charset-normalizer<4,>=2 in /Users/navisha/anaconda3/lib/python3.11/site-packages (from requests<3,>=2.21.0->tensorflow) (3.4.0)\n",
      "Requirement already satisfied: idna<4,>=2.5 in /Users/navisha/anaconda3/lib/python3.11/site-packages (from requests<3,>=2.21.0->tensorflow) (3.10)\n",
      "Requirement already satisfied: urllib3<3,>=1.21.1 in /Users/navisha/anaconda3/lib/python3.11/site-packages (from requests<3,>=2.21.0->tensorflow) (2.0.7)\n",
      "Requirement already satisfied: certifi>=2017.4.17 in /Users/navisha/anaconda3/lib/python3.11/site-packages (from requests<3,>=2.21.0->tensorflow) (2024.8.30)\n",
      "Requirement already satisfied: markdown>=2.6.8 in /Users/navisha/anaconda3/lib/python3.11/site-packages (from tensorboard<2.18,>=2.17->tensorflow) (3.4.1)\n",
      "Requirement already satisfied: tensorboard-data-server<0.8.0,>=0.7.0 in /Users/navisha/anaconda3/lib/python3.11/site-packages (from tensorboard<2.18,>=2.17->tensorflow) (0.7.2)\n",
      "Requirement already satisfied: werkzeug>=1.0.1 in /Users/navisha/anaconda3/lib/python3.11/site-packages (from tensorboard<2.18,>=2.17->tensorflow) (2.2.3)\n",
      "Requirement already satisfied: MarkupSafe>=2.1.1 in /Users/navisha/anaconda3/lib/python3.11/site-packages (from werkzeug>=1.0.1->tensorboard<2.18,>=2.17->tensorflow) (2.1.1)\n",
      "Requirement already satisfied: markdown-it-py>=2.2.0 in /Users/navisha/anaconda3/lib/python3.11/site-packages (from rich->keras>=3.2.0->tensorflow) (2.2.0)\n",
      "Requirement already satisfied: pygments<3.0.0,>=2.13.0 in /Users/navisha/anaconda3/lib/python3.11/site-packages (from rich->keras>=3.2.0->tensorflow) (2.15.1)\n",
      "Requirement already satisfied: mdurl~=0.1 in /Users/navisha/anaconda3/lib/python3.11/site-packages (from markdown-it-py>=2.2.0->rich->keras>=3.2.0->tensorflow) (0.1.0)\n"
     ]
    }
   ],
   "source": [
    "!pip install tensorflow"
   ]
  },
  {
   "cell_type": "code",
   "execution_count": 43,
   "id": "ef9df747",
   "metadata": {},
   "outputs": [
    {
     "name": "stdout",
     "output_type": "stream",
     "text": [
      "Requirement already satisfied: keras in /Users/navisha/anaconda3/lib/python3.11/site-packages (3.4.1)\n",
      "Requirement already satisfied: absl-py in /Users/navisha/anaconda3/lib/python3.11/site-packages (from keras) (1.4.0)\n",
      "Requirement already satisfied: numpy in /Users/navisha/anaconda3/lib/python3.11/site-packages (from keras) (1.24.3)\n",
      "Requirement already satisfied: rich in /Users/navisha/anaconda3/lib/python3.11/site-packages (from keras) (13.9.4)\n",
      "Requirement already satisfied: namex in /Users/navisha/anaconda3/lib/python3.11/site-packages (from keras) (0.0.8)\n",
      "Requirement already satisfied: h5py in /Users/navisha/anaconda3/lib/python3.11/site-packages (from keras) (3.11.0)\n",
      "Requirement already satisfied: optree in /Users/navisha/anaconda3/lib/python3.11/site-packages (from keras) (0.12.1)\n",
      "Requirement already satisfied: ml-dtypes in /Users/navisha/anaconda3/lib/python3.11/site-packages (from keras) (0.4.0)\n",
      "Requirement already satisfied: packaging in /Users/navisha/anaconda3/lib/python3.11/site-packages (from keras) (23.2)\n",
      "Requirement already satisfied: typing-extensions>=4.5.0 in /Users/navisha/anaconda3/lib/python3.11/site-packages (from optree->keras) (4.12.2)\n",
      "Requirement already satisfied: markdown-it-py>=2.2.0 in /Users/navisha/anaconda3/lib/python3.11/site-packages (from rich->keras) (2.2.0)\n",
      "Requirement already satisfied: pygments<3.0.0,>=2.13.0 in /Users/navisha/anaconda3/lib/python3.11/site-packages (from rich->keras) (2.15.1)\n",
      "Requirement already satisfied: mdurl~=0.1 in /Users/navisha/anaconda3/lib/python3.11/site-packages (from markdown-it-py>=2.2.0->rich->keras) (0.1.0)\n"
     ]
    }
   ],
   "source": [
    "!pip install keras"
   ]
  },
  {
   "cell_type": "code",
   "execution_count": 44,
   "id": "40bd4bd7",
   "metadata": {},
   "outputs": [
    {
     "name": "stdout",
     "output_type": "stream",
     "text": [
      "Requirement already satisfied: xgboost in /Users/navisha/anaconda3/lib/python3.11/site-packages (2.1.4)\n",
      "Requirement already satisfied: numpy in /Users/navisha/anaconda3/lib/python3.11/site-packages (from xgboost) (1.24.3)\n",
      "Requirement already satisfied: scipy in /Users/navisha/anaconda3/lib/python3.11/site-packages (from xgboost) (1.14.1)\n"
     ]
    }
   ],
   "source": [
    "!pip install xgboost"
   ]
  },
  {
   "cell_type": "code",
   "execution_count": 45,
   "id": "d263dc77",
   "metadata": {},
   "outputs": [
    {
     "name": "stdout",
     "output_type": "stream",
     "text": [
      "Collecting lightgbm\n",
      "  Obtaining dependency information for lightgbm from https://files.pythonhosted.org/packages/21/1b/550ee378512b78847930f5d74228ca1fdba2a7fbdeaac9aeccc085b0e257/lightgbm-4.6.0-py3-none-macosx_12_0_arm64.whl.metadata\n",
      "  Using cached lightgbm-4.6.0-py3-none-macosx_12_0_arm64.whl.metadata (17 kB)\n",
      "Requirement already satisfied: numpy>=1.17.0 in /Users/navisha/anaconda3/lib/python3.11/site-packages (from lightgbm) (1.24.3)\n",
      "Requirement already satisfied: scipy in /Users/navisha/anaconda3/lib/python3.11/site-packages (from lightgbm) (1.14.1)\n",
      "Using cached lightgbm-4.6.0-py3-none-macosx_12_0_arm64.whl (1.6 MB)\n",
      "Installing collected packages: lightgbm\n",
      "Successfully installed lightgbm-4.6.0\n"
     ]
    }
   ],
   "source": [
    "!pip install lightgbm"
   ]
  },
  {
   "cell_type": "code",
   "execution_count": 46,
   "metadata": {},
   "outputs": [
    {
     "name": "stdout",
     "output_type": "stream",
     "text": [
      "Requirement already satisfied: catboost in /Users/navisha/anaconda3/lib/python3.11/site-packages (1.2.7)\n",
      "Requirement already satisfied: graphviz in /Users/navisha/anaconda3/lib/python3.11/site-packages (from catboost) (0.20.3)\n",
      "Requirement already satisfied: matplotlib in /Users/navisha/anaconda3/lib/python3.11/site-packages (from catboost) (3.7.2)\n",
      "Requirement already satisfied: numpy<2.0,>=1.16.0 in /Users/navisha/anaconda3/lib/python3.11/site-packages (from catboost) (1.24.3)\n",
      "Requirement already satisfied: pandas>=0.24 in /Users/navisha/anaconda3/lib/python3.11/site-packages (from catboost) (2.2.3)\n",
      "Requirement already satisfied: scipy in /Users/navisha/anaconda3/lib/python3.11/site-packages (from catboost) (1.14.1)\n",
      "Requirement already satisfied: plotly in /Users/navisha/anaconda3/lib/python3.11/site-packages (from catboost) (5.9.0)\n",
      "Requirement already satisfied: six in /Users/navisha/anaconda3/lib/python3.11/site-packages (from catboost) (1.16.0)\n",
      "Requirement already satisfied: python-dateutil>=2.8.2 in /Users/navisha/anaconda3/lib/python3.11/site-packages (from pandas>=0.24->catboost) (2.9.0.post0)\n",
      "Requirement already satisfied: pytz>=2020.1 in /Users/navisha/anaconda3/lib/python3.11/site-packages (from pandas>=0.24->catboost) (2024.2)\n",
      "Requirement already satisfied: tzdata>=2022.7 in /Users/navisha/anaconda3/lib/python3.11/site-packages (from pandas>=0.24->catboost) (2024.2)\n",
      "Requirement already satisfied: contourpy>=1.0.1 in /Users/navisha/anaconda3/lib/python3.11/site-packages (from matplotlib->catboost) (1.0.5)\n",
      "Requirement already satisfied: cycler>=0.10 in /Users/navisha/anaconda3/lib/python3.11/site-packages (from matplotlib->catboost) (0.11.0)\n",
      "Requirement already satisfied: fonttools>=4.22.0 in /Users/navisha/anaconda3/lib/python3.11/site-packages (from matplotlib->catboost) (4.25.0)\n",
      "Requirement already satisfied: kiwisolver>=1.0.1 in /Users/navisha/anaconda3/lib/python3.11/site-packages (from matplotlib->catboost) (1.4.4)\n",
      "Requirement already satisfied: packaging>=20.0 in /Users/navisha/anaconda3/lib/python3.11/site-packages (from matplotlib->catboost) (23.2)\n",
      "Requirement already satisfied: pillow>=6.2.0 in /Users/navisha/anaconda3/lib/python3.11/site-packages (from matplotlib->catboost) (9.4.0)\n",
      "Requirement already satisfied: pyparsing<3.1,>=2.3.1 in /Users/navisha/anaconda3/lib/python3.11/site-packages (from matplotlib->catboost) (3.0.9)\n",
      "Requirement already satisfied: tenacity>=6.2.0 in /Users/navisha/anaconda3/lib/python3.11/site-packages (from plotly->catboost) (8.2.2)\n"
     ]
    }
   ],
   "source": [
    "!pip install catboost"
   ]
  },
  {
   "cell_type": "code",
   "execution_count": 47,
   "id": "82fd9891",
   "metadata": {},
   "outputs": [
    {
     "name": "stdout",
     "output_type": "stream",
     "text": [
      "Requirement already satisfied: mlflow in /Users/navisha/anaconda3/lib/python3.11/site-packages (2.21.3)\n",
      "Requirement already satisfied: mlflow-skinny==2.21.3 in /Users/navisha/anaconda3/lib/python3.11/site-packages (from mlflow) (2.21.3)\n",
      "Requirement already satisfied: Flask<4 in /Users/navisha/anaconda3/lib/python3.11/site-packages (from mlflow) (2.2.2)\n",
      "Requirement already satisfied: Jinja2<4,>=2.11 in /Users/navisha/anaconda3/lib/python3.11/site-packages (from mlflow) (3.1.4)\n",
      "Requirement already satisfied: alembic!=1.10.0,<2 in /Users/navisha/anaconda3/lib/python3.11/site-packages (from mlflow) (1.13.3)\n",
      "Requirement already satisfied: docker<8,>=4.0.0 in /Users/navisha/anaconda3/lib/python3.11/site-packages (from mlflow) (7.1.0)\n",
      "Requirement already satisfied: graphene<4 in /Users/navisha/anaconda3/lib/python3.11/site-packages (from mlflow) (3.4.3)\n",
      "Requirement already satisfied: gunicorn<24 in /Users/navisha/anaconda3/lib/python3.11/site-packages (from mlflow) (23.0.0)\n",
      "Requirement already satisfied: markdown<4,>=3.3 in /Users/navisha/anaconda3/lib/python3.11/site-packages (from mlflow) (3.4.1)\n",
      "Requirement already satisfied: matplotlib<4 in /Users/navisha/anaconda3/lib/python3.11/site-packages (from mlflow) (3.7.2)\n",
      "Requirement already satisfied: numpy<3 in /Users/navisha/anaconda3/lib/python3.11/site-packages (from mlflow) (1.24.3)\n",
      "Requirement already satisfied: pandas<3 in /Users/navisha/anaconda3/lib/python3.11/site-packages (from mlflow) (2.2.3)\n",
      "Requirement already satisfied: pyarrow<20,>=4.0.0 in /Users/navisha/anaconda3/lib/python3.11/site-packages (from mlflow) (11.0.0)\n",
      "Requirement already satisfied: scikit-learn<2 in /Users/navisha/anaconda3/lib/python3.11/site-packages (from mlflow) (1.5.2)\n",
      "Requirement already satisfied: scipy<2 in /Users/navisha/anaconda3/lib/python3.11/site-packages (from mlflow) (1.14.1)\n",
      "Requirement already satisfied: sqlalchemy<3,>=1.4.0 in /Users/navisha/anaconda3/lib/python3.11/site-packages (from mlflow) (1.4.39)\n",
      "Requirement already satisfied: cachetools<6,>=5.0.0 in /Users/navisha/anaconda3/lib/python3.11/site-packages (from mlflow-skinny==2.21.3->mlflow) (5.5.0)\n",
      "Requirement already satisfied: click<9,>=7.0 in /Users/navisha/anaconda3/lib/python3.11/site-packages (from mlflow-skinny==2.21.3->mlflow) (8.0.4)\n",
      "Requirement already satisfied: cloudpickle<4 in /Users/navisha/anaconda3/lib/python3.11/site-packages (from mlflow-skinny==2.21.3->mlflow) (2.2.1)\n",
      "Requirement already satisfied: databricks-sdk<1,>=0.20.0 in /Users/navisha/anaconda3/lib/python3.11/site-packages (from mlflow-skinny==2.21.3->mlflow) (0.49.0)\n",
      "Requirement already satisfied: fastapi<1 in /Users/navisha/anaconda3/lib/python3.11/site-packages (from mlflow-skinny==2.21.3->mlflow) (0.111.1)\n",
      "Requirement already satisfied: gitpython<4,>=3.1.9 in /Users/navisha/anaconda3/lib/python3.11/site-packages (from mlflow-skinny==2.21.3->mlflow) (3.1.43)\n",
      "Requirement already satisfied: importlib_metadata!=4.7.0,<9,>=3.7.0 in /Users/navisha/anaconda3/lib/python3.11/site-packages (from mlflow-skinny==2.21.3->mlflow) (8.4.0)\n",
      "Requirement already satisfied: opentelemetry-api<3,>=1.9.0 in /Users/navisha/anaconda3/lib/python3.11/site-packages (from mlflow-skinny==2.21.3->mlflow) (1.27.0)\n",
      "Requirement already satisfied: opentelemetry-sdk<3,>=1.9.0 in /Users/navisha/anaconda3/lib/python3.11/site-packages (from mlflow-skinny==2.21.3->mlflow) (1.27.0)\n",
      "Requirement already satisfied: packaging<25 in /Users/navisha/anaconda3/lib/python3.11/site-packages (from mlflow-skinny==2.21.3->mlflow) (23.2)\n",
      "Requirement already satisfied: protobuf<6,>=3.12.0 in /Users/navisha/anaconda3/lib/python3.11/site-packages (from mlflow-skinny==2.21.3->mlflow) (4.25.5)\n",
      "Requirement already satisfied: pydantic<3,>=1.10.8 in /Users/navisha/anaconda3/lib/python3.11/site-packages (from mlflow-skinny==2.21.3->mlflow) (2.9.2)\n",
      "Requirement already satisfied: pyyaml<7,>=5.1 in /Users/navisha/anaconda3/lib/python3.11/site-packages (from mlflow-skinny==2.21.3->mlflow) (6.0.2)\n",
      "Requirement already satisfied: requests<3,>=2.17.3 in /Users/navisha/anaconda3/lib/python3.11/site-packages (from mlflow-skinny==2.21.3->mlflow) (2.32.3)\n",
      "Requirement already satisfied: sqlparse<1,>=0.4.0 in /Users/navisha/anaconda3/lib/python3.11/site-packages (from mlflow-skinny==2.21.3->mlflow) (0.5.1)\n",
      "Requirement already satisfied: typing-extensions<5,>=4.0.0 in /Users/navisha/anaconda3/lib/python3.11/site-packages (from mlflow-skinny==2.21.3->mlflow) (4.12.2)\n",
      "Requirement already satisfied: uvicorn<1 in /Users/navisha/anaconda3/lib/python3.11/site-packages (from mlflow-skinny==2.21.3->mlflow) (0.30.3)\n",
      "Requirement already satisfied: Mako in /Users/navisha/anaconda3/lib/python3.11/site-packages (from alembic!=1.10.0,<2->mlflow) (1.3.6)\n",
      "Requirement already satisfied: urllib3>=1.26.0 in /Users/navisha/anaconda3/lib/python3.11/site-packages (from docker<8,>=4.0.0->mlflow) (2.0.7)\n",
      "Requirement already satisfied: Werkzeug>=2.2.2 in /Users/navisha/anaconda3/lib/python3.11/site-packages (from Flask<4->mlflow) (2.2.3)\n",
      "Requirement already satisfied: itsdangerous>=2.0 in /Users/navisha/anaconda3/lib/python3.11/site-packages (from Flask<4->mlflow) (2.0.1)\n",
      "Requirement already satisfied: graphql-core<3.3,>=3.1 in /Users/navisha/anaconda3/lib/python3.11/site-packages (from graphene<4->mlflow) (3.2.6)\n",
      "Requirement already satisfied: graphql-relay<3.3,>=3.1 in /Users/navisha/anaconda3/lib/python3.11/site-packages (from graphene<4->mlflow) (3.2.0)\n",
      "Requirement already satisfied: python-dateutil<3,>=2.7.0 in /Users/navisha/anaconda3/lib/python3.11/site-packages (from graphene<4->mlflow) (2.9.0.post0)\n",
      "Requirement already satisfied: MarkupSafe>=2.0 in /Users/navisha/anaconda3/lib/python3.11/site-packages (from Jinja2<4,>=2.11->mlflow) (2.1.1)\n",
      "Requirement already satisfied: contourpy>=1.0.1 in /Users/navisha/anaconda3/lib/python3.11/site-packages (from matplotlib<4->mlflow) (1.0.5)\n",
      "Requirement already satisfied: cycler>=0.10 in /Users/navisha/anaconda3/lib/python3.11/site-packages (from matplotlib<4->mlflow) (0.11.0)\n",
      "Requirement already satisfied: fonttools>=4.22.0 in /Users/navisha/anaconda3/lib/python3.11/site-packages (from matplotlib<4->mlflow) (4.25.0)\n",
      "Requirement already satisfied: kiwisolver>=1.0.1 in /Users/navisha/anaconda3/lib/python3.11/site-packages (from matplotlib<4->mlflow) (1.4.4)\n",
      "Requirement already satisfied: pillow>=6.2.0 in /Users/navisha/anaconda3/lib/python3.11/site-packages (from matplotlib<4->mlflow) (9.4.0)\n",
      "Requirement already satisfied: pyparsing<3.1,>=2.3.1 in /Users/navisha/anaconda3/lib/python3.11/site-packages (from matplotlib<4->mlflow) (3.0.9)\n",
      "Requirement already satisfied: pytz>=2020.1 in /Users/navisha/anaconda3/lib/python3.11/site-packages (from pandas<3->mlflow) (2024.2)\n",
      "Requirement already satisfied: tzdata>=2022.7 in /Users/navisha/anaconda3/lib/python3.11/site-packages (from pandas<3->mlflow) (2024.2)\n",
      "Requirement already satisfied: joblib>=1.2.0 in /Users/navisha/anaconda3/lib/python3.11/site-packages (from scikit-learn<2->mlflow) (1.4.2)\n",
      "Requirement already satisfied: threadpoolctl>=3.1.0 in /Users/navisha/anaconda3/lib/python3.11/site-packages (from scikit-learn<2->mlflow) (3.5.0)\n",
      "Requirement already satisfied: google-auth~=2.0 in /Users/navisha/anaconda3/lib/python3.11/site-packages (from databricks-sdk<1,>=0.20.0->mlflow-skinny==2.21.3->mlflow) (2.35.0)\n",
      "Requirement already satisfied: starlette<0.38.0,>=0.37.2 in /Users/navisha/anaconda3/lib/python3.11/site-packages (from fastapi<1->mlflow-skinny==2.21.3->mlflow) (0.37.2)\n",
      "Requirement already satisfied: fastapi-cli>=0.0.2 in /Users/navisha/anaconda3/lib/python3.11/site-packages (from fastapi<1->mlflow-skinny==2.21.3->mlflow) (0.0.4)\n",
      "Requirement already satisfied: httpx>=0.23.0 in /Users/navisha/anaconda3/lib/python3.11/site-packages (from fastapi<1->mlflow-skinny==2.21.3->mlflow) (0.27.2)\n",
      "Requirement already satisfied: python-multipart>=0.0.7 in /Users/navisha/anaconda3/lib/python3.11/site-packages (from fastapi<1->mlflow-skinny==2.21.3->mlflow) (0.0.9)\n",
      "Requirement already satisfied: email_validator>=2.0.0 in /Users/navisha/anaconda3/lib/python3.11/site-packages (from fastapi<1->mlflow-skinny==2.21.3->mlflow) (2.2.0)\n",
      "Requirement already satisfied: gitdb<5,>=4.0.1 in /Users/navisha/anaconda3/lib/python3.11/site-packages (from gitpython<4,>=3.1.9->mlflow-skinny==2.21.3->mlflow) (4.0.12)\n",
      "Requirement already satisfied: zipp>=0.5 in /Users/navisha/anaconda3/lib/python3.11/site-packages (from importlib_metadata!=4.7.0,<9,>=3.7.0->mlflow-skinny==2.21.3->mlflow) (3.11.0)\n",
      "Requirement already satisfied: deprecated>=1.2.6 in /Users/navisha/anaconda3/lib/python3.11/site-packages (from opentelemetry-api<3,>=1.9.0->mlflow-skinny==2.21.3->mlflow) (1.2.14)\n",
      "Requirement already satisfied: opentelemetry-semantic-conventions==0.48b0 in /Users/navisha/anaconda3/lib/python3.11/site-packages (from opentelemetry-sdk<3,>=1.9.0->mlflow-skinny==2.21.3->mlflow) (0.48b0)\n",
      "Requirement already satisfied: annotated-types>=0.6.0 in /Users/navisha/anaconda3/lib/python3.11/site-packages (from pydantic<3,>=1.10.8->mlflow-skinny==2.21.3->mlflow) (0.7.0)\n",
      "Requirement already satisfied: pydantic-core==2.23.4 in /Users/navisha/anaconda3/lib/python3.11/site-packages (from pydantic<3,>=1.10.8->mlflow-skinny==2.21.3->mlflow) (2.23.4)\n",
      "Requirement already satisfied: six>=1.5 in /Users/navisha/anaconda3/lib/python3.11/site-packages (from python-dateutil<3,>=2.7.0->graphene<4->mlflow) (1.16.0)\n",
      "Requirement already satisfied: charset-normalizer<4,>=2 in /Users/navisha/anaconda3/lib/python3.11/site-packages (from requests<3,>=2.17.3->mlflow-skinny==2.21.3->mlflow) (3.4.0)\n",
      "Requirement already satisfied: idna<4,>=2.5 in /Users/navisha/anaconda3/lib/python3.11/site-packages (from requests<3,>=2.17.3->mlflow-skinny==2.21.3->mlflow) (3.10)\n",
      "Requirement already satisfied: certifi>=2017.4.17 in /Users/navisha/anaconda3/lib/python3.11/site-packages (from requests<3,>=2.17.3->mlflow-skinny==2.21.3->mlflow) (2024.8.30)\n",
      "Requirement already satisfied: h11>=0.8 in /Users/navisha/anaconda3/lib/python3.11/site-packages (from uvicorn<1->mlflow-skinny==2.21.3->mlflow) (0.14.0)\n",
      "Requirement already satisfied: wrapt<2,>=1.10 in /Users/navisha/anaconda3/lib/python3.11/site-packages (from deprecated>=1.2.6->opentelemetry-api<3,>=1.9.0->mlflow-skinny==2.21.3->mlflow) (1.14.1)\n",
      "Requirement already satisfied: dnspython>=2.0.0 in /Users/navisha/anaconda3/lib/python3.11/site-packages (from email_validator>=2.0.0->fastapi<1->mlflow-skinny==2.21.3->mlflow) (2.6.1)\n",
      "Requirement already satisfied: typer>=0.12.3 in /Users/navisha/anaconda3/lib/python3.11/site-packages (from fastapi-cli>=0.0.2->fastapi<1->mlflow-skinny==2.21.3->mlflow) (0.12.5)\n",
      "Requirement already satisfied: smmap<6,>=3.0.1 in /Users/navisha/anaconda3/lib/python3.11/site-packages (from gitdb<5,>=4.0.1->gitpython<4,>=3.1.9->mlflow-skinny==2.21.3->mlflow) (5.0.2)\n",
      "Requirement already satisfied: pyasn1-modules>=0.2.1 in /Users/navisha/anaconda3/lib/python3.11/site-packages (from google-auth~=2.0->databricks-sdk<1,>=0.20.0->mlflow-skinny==2.21.3->mlflow) (0.4.1)\n",
      "Requirement already satisfied: rsa<5,>=3.1.4 in /Users/navisha/anaconda3/lib/python3.11/site-packages (from google-auth~=2.0->databricks-sdk<1,>=0.20.0->mlflow-skinny==2.21.3->mlflow) (4.9)\n",
      "Requirement already satisfied: anyio in /Users/navisha/anaconda3/lib/python3.11/site-packages (from httpx>=0.23.0->fastapi<1->mlflow-skinny==2.21.3->mlflow) (3.5.0)\n",
      "Requirement already satisfied: httpcore==1.* in /Users/navisha/anaconda3/lib/python3.11/site-packages (from httpx>=0.23.0->fastapi<1->mlflow-skinny==2.21.3->mlflow) (1.0.6)\n",
      "Requirement already satisfied: sniffio in /Users/navisha/anaconda3/lib/python3.11/site-packages (from httpx>=0.23.0->fastapi<1->mlflow-skinny==2.21.3->mlflow) (1.2.0)\n",
      "Requirement already satisfied: httptools>=0.5.0 in /Users/navisha/anaconda3/lib/python3.11/site-packages (from uvicorn<1->mlflow-skinny==2.21.3->mlflow) (0.6.1)\n",
      "Requirement already satisfied: python-dotenv>=0.13 in /Users/navisha/anaconda3/lib/python3.11/site-packages (from uvicorn<1->mlflow-skinny==2.21.3->mlflow) (0.21.0)\n",
      "Requirement already satisfied: uvloop!=0.15.0,!=0.15.1,>=0.14.0 in /Users/navisha/anaconda3/lib/python3.11/site-packages (from uvicorn<1->mlflow-skinny==2.21.3->mlflow) (0.19.0)\n",
      "Requirement already satisfied: watchfiles>=0.13 in /Users/navisha/anaconda3/lib/python3.11/site-packages (from uvicorn<1->mlflow-skinny==2.21.3->mlflow) (0.22.0)\n",
      "Requirement already satisfied: websockets>=10.4 in /Users/navisha/anaconda3/lib/python3.11/site-packages (from uvicorn<1->mlflow-skinny==2.21.3->mlflow) (11.0.3)\n",
      "Requirement already satisfied: pyasn1<0.7.0,>=0.4.6 in /Users/navisha/anaconda3/lib/python3.11/site-packages (from pyasn1-modules>=0.2.1->google-auth~=2.0->databricks-sdk<1,>=0.20.0->mlflow-skinny==2.21.3->mlflow) (0.6.1)\n",
      "Requirement already satisfied: shellingham>=1.3.0 in /Users/navisha/anaconda3/lib/python3.11/site-packages (from typer>=0.12.3->fastapi-cli>=0.0.2->fastapi<1->mlflow-skinny==2.21.3->mlflow) (1.5.4)\n",
      "Requirement already satisfied: rich>=10.11.0 in /Users/navisha/anaconda3/lib/python3.11/site-packages (from typer>=0.12.3->fastapi-cli>=0.0.2->fastapi<1->mlflow-skinny==2.21.3->mlflow) (13.9.4)\n",
      "Requirement already satisfied: markdown-it-py>=2.2.0 in /Users/navisha/anaconda3/lib/python3.11/site-packages (from rich>=10.11.0->typer>=0.12.3->fastapi-cli>=0.0.2->fastapi<1->mlflow-skinny==2.21.3->mlflow) (2.2.0)\n",
      "Requirement already satisfied: pygments<3.0.0,>=2.13.0 in /Users/navisha/anaconda3/lib/python3.11/site-packages (from rich>=10.11.0->typer>=0.12.3->fastapi-cli>=0.0.2->fastapi<1->mlflow-skinny==2.21.3->mlflow) (2.15.1)\n",
      "Requirement already satisfied: mdurl~=0.1 in /Users/navisha/anaconda3/lib/python3.11/site-packages (from markdown-it-py>=2.2.0->rich>=10.11.0->typer>=0.12.3->fastapi-cli>=0.0.2->fastapi<1->mlflow-skinny==2.21.3->mlflow) (0.1.0)\n"
     ]
    }
   ],
   "source": [
    "!pip install mlflow"
   ]
  },
  {
   "cell_type": "code",
   "execution_count": 48,
   "id": "30f39d69",
   "metadata": {},
   "outputs": [
    {
     "name": "stdout",
     "output_type": "stream",
     "text": [
      "Requirement already satisfied: pydot in /Users/navisha/anaconda3/lib/python3.11/site-packages (3.0.4)\n",
      "Requirement already satisfied: pyparsing>=3.0.9 in /Users/navisha/anaconda3/lib/python3.11/site-packages (from pydot) (3.0.9)\n"
     ]
    }
   ],
   "source": [
    "!pip install pydot"
   ]
  },
  {
   "cell_type": "code",
   "execution_count": 49,
   "id": "28969596",
   "metadata": {},
   "outputs": [
    {
     "name": "stdout",
     "output_type": "stream",
     "text": [
      "Requirement already satisfied: snowflake-snowpark-python[ml] in /Users/navisha/anaconda3/lib/python3.11/site-packages (1.30.0)\n",
      "\u001b[33mWARNING: snowflake-snowpark-python 1.30.0 does not provide the extra 'ml'\u001b[0m\u001b[33m\n",
      "\u001b[0mRequirement already satisfied: setuptools>=40.6.0 in /Users/navisha/anaconda3/lib/python3.11/site-packages (from snowflake-snowpark-python[ml]) (75.3.0)\n",
      "Requirement already satisfied: wheel in /Users/navisha/anaconda3/lib/python3.11/site-packages (from snowflake-snowpark-python[ml]) (0.38.4)\n",
      "Requirement already satisfied: snowflake-connector-python<4.0.0,>=3.14.0 in /Users/navisha/anaconda3/lib/python3.11/site-packages (from snowflake-snowpark-python[ml]) (3.14.0)\n",
      "Requirement already satisfied: typing-extensions<5.0.0,>=4.1.0 in /Users/navisha/anaconda3/lib/python3.11/site-packages (from snowflake-snowpark-python[ml]) (4.12.2)\n",
      "Requirement already satisfied: pyyaml in /Users/navisha/anaconda3/lib/python3.11/site-packages (from snowflake-snowpark-python[ml]) (6.0.2)\n",
      "Requirement already satisfied: cloudpickle!=2.1.0,!=2.2.0,<=3.0.0,>=1.6.0 in /Users/navisha/anaconda3/lib/python3.11/site-packages (from snowflake-snowpark-python[ml]) (2.2.1)\n",
      "Requirement already satisfied: protobuf<6,>=3.20 in /Users/navisha/anaconda3/lib/python3.11/site-packages (from snowflake-snowpark-python[ml]) (4.25.5)\n",
      "Requirement already satisfied: python-dateutil in /Users/navisha/anaconda3/lib/python3.11/site-packages (from snowflake-snowpark-python[ml]) (2.9.0.post0)\n",
      "Requirement already satisfied: tzlocal in /Users/navisha/anaconda3/lib/python3.11/site-packages (from snowflake-snowpark-python[ml]) (5.3.1)\n",
      "Requirement already satisfied: asn1crypto<2.0.0,>0.24.0 in /Users/navisha/anaconda3/lib/python3.11/site-packages (from snowflake-connector-python<4.0.0,>=3.14.0->snowflake-snowpark-python[ml]) (1.5.1)\n",
      "Requirement already satisfied: cffi<2.0.0,>=1.9 in /Users/navisha/anaconda3/lib/python3.11/site-packages (from snowflake-connector-python<4.0.0,>=3.14.0->snowflake-snowpark-python[ml]) (1.15.1)\n",
      "Requirement already satisfied: cryptography>=3.1.0 in /Users/navisha/anaconda3/lib/python3.11/site-packages (from snowflake-connector-python<4.0.0,>=3.14.0->snowflake-snowpark-python[ml]) (41.0.3)\n",
      "Requirement already satisfied: pyOpenSSL<26.0.0,>=22.0.0 in /Users/navisha/anaconda3/lib/python3.11/site-packages (from snowflake-connector-python<4.0.0,>=3.14.0->snowflake-snowpark-python[ml]) (23.2.0)\n",
      "Requirement already satisfied: pyjwt<3.0.0 in /Users/navisha/anaconda3/lib/python3.11/site-packages (from snowflake-connector-python<4.0.0,>=3.14.0->snowflake-snowpark-python[ml]) (2.4.0)\n",
      "Requirement already satisfied: pytz in /Users/navisha/anaconda3/lib/python3.11/site-packages (from snowflake-connector-python<4.0.0,>=3.14.0->snowflake-snowpark-python[ml]) (2024.2)\n",
      "Requirement already satisfied: requests<3.0.0 in /Users/navisha/anaconda3/lib/python3.11/site-packages (from snowflake-connector-python<4.0.0,>=3.14.0->snowflake-snowpark-python[ml]) (2.32.3)\n",
      "Requirement already satisfied: packaging in /Users/navisha/anaconda3/lib/python3.11/site-packages (from snowflake-connector-python<4.0.0,>=3.14.0->snowflake-snowpark-python[ml]) (23.2)\n",
      "Requirement already satisfied: charset_normalizer<4,>=2 in /Users/navisha/anaconda3/lib/python3.11/site-packages (from snowflake-connector-python<4.0.0,>=3.14.0->snowflake-snowpark-python[ml]) (3.4.0)\n",
      "Requirement already satisfied: idna<4,>=2.5 in /Users/navisha/anaconda3/lib/python3.11/site-packages (from snowflake-connector-python<4.0.0,>=3.14.0->snowflake-snowpark-python[ml]) (3.10)\n",
      "Requirement already satisfied: certifi>=2017.4.17 in /Users/navisha/anaconda3/lib/python3.11/site-packages (from snowflake-connector-python<4.0.0,>=3.14.0->snowflake-snowpark-python[ml]) (2024.8.30)\n",
      "Requirement already satisfied: filelock<4,>=3.5 in /Users/navisha/anaconda3/lib/python3.11/site-packages (from snowflake-connector-python<4.0.0,>=3.14.0->snowflake-snowpark-python[ml]) (3.9.0)\n",
      "Requirement already satisfied: sortedcontainers>=2.4.0 in /Users/navisha/anaconda3/lib/python3.11/site-packages (from snowflake-connector-python<4.0.0,>=3.14.0->snowflake-snowpark-python[ml]) (2.4.0)\n",
      "Requirement already satisfied: platformdirs<5.0.0,>=2.6.0 in /Users/navisha/anaconda3/lib/python3.11/site-packages (from snowflake-connector-python<4.0.0,>=3.14.0->snowflake-snowpark-python[ml]) (3.10.0)\n",
      "Requirement already satisfied: tomlkit in /Users/navisha/anaconda3/lib/python3.11/site-packages (from snowflake-connector-python<4.0.0,>=3.14.0->snowflake-snowpark-python[ml]) (0.13.2)\n",
      "Requirement already satisfied: six>=1.5 in /Users/navisha/anaconda3/lib/python3.11/site-packages (from python-dateutil->snowflake-snowpark-python[ml]) (1.16.0)\n",
      "Requirement already satisfied: pycparser in /Users/navisha/anaconda3/lib/python3.11/site-packages (from cffi<2.0.0,>=1.9->snowflake-connector-python<4.0.0,>=3.14.0->snowflake-snowpark-python[ml]) (2.21)\n",
      "Requirement already satisfied: urllib3<3,>=1.21.1 in /Users/navisha/anaconda3/lib/python3.11/site-packages (from requests<3.0.0->snowflake-connector-python<4.0.0,>=3.14.0->snowflake-snowpark-python[ml]) (2.0.7)\n"
     ]
    }
   ],
   "source": [
    "!pip install 'snowflake-snowpark-python[ml]'"
   ]
  },
  {
   "cell_type": "markdown",
   "id": "7b0ece41",
   "metadata": {},
   "source": [
    "### IMPORTS"
   ]
  },
  {
   "cell_type": "code",
   "execution_count": 2,
   "id": "6b31ed14-a979-4394-adf3-a2f3c78a05cd",
   "metadata": {},
   "outputs": [],
   "source": [
    "from snowflake.snowpark.session import Session\n",
    "import getpass\n",
    "import pandas as pd\n",
    "import json\n",
    "import os"
   ]
  },
  {
   "cell_type": "markdown",
   "id": "0dda4d93",
   "metadata": {},
   "source": [
    "### CREATE SNOWPARK SESSION"
   ]
  },
  {
   "cell_type": "code",
   "execution_count": 8,
   "id": "1a5510d8",
   "metadata": {},
   "outputs": [
    {
     "name": "stdout",
     "output_type": "stream",
     "text": [
      "WGDNNWJ-OD50189\n"
     ]
    }
   ],
   "source": [
    "# WGDNNWJ-OD50189\n",
    "accountname = getpass.getpass() # ORGNAME-ACCOUNTNAME (separated by minus sign)\n",
    "print(accountname)"
   ]
  },
  {
   "cell_type": "code",
   "execution_count": 9,
   "id": "dfb5702d",
   "metadata": {},
   "outputs": [],
   "source": [
    "username = getpass.getpass()    # SNOWFLAKE-USERNAME\n",
    "password = getpass.getpass()    # SNOWFLAKE-PASSWORD"
   ]
  },
  {
   "cell_type": "code",
   "execution_count": 10,
   "id": "95c97a32",
   "metadata": {},
   "outputs": [],
   "source": [
    "connection_parameters = {\n",
    "    \"account\": accountname,\n",
    "    \"user\": username,\n",
    "    \"password\": password,\n",
    "    \"role\": \"ACCOUNTADMIN\"\n",
    "}\n",
    "\n",
    "session = Session.builder.configs(connection_parameters).create()"
   ]
  },
  {
   "cell_type": "markdown",
   "id": "82e174d0",
   "metadata": {},
   "source": [
    "### Create Virtual Warehouse (Compute) "
   ]
  },
  {
   "cell_type": "code",
   "execution_count": null,
   "id": "55fe82cc",
   "metadata": {},
   "outputs": [
    {
     "data": {
      "text/plain": [
       "[Row(status='Warehouse CC_WH successfully created.')]"
      ]
     },
     "execution_count": 6,
     "metadata": {},
     "output_type": "execute_result"
    }
   ],
   "source": [
    "# Create two Virtual Warehouses\n",
    "session.sql(\"CREATE OR REPLACE WAREHOUSE CC_WH_HIGH_MEM WITH WAREHOUSE_SIZE='MEDIUM' WAREHOUSE_TYPE='SNOWPARK-OPTIMIZED'\").collect()\n",
    "session.sql(\"CREATE OR REPLACE WAREHOUSE CC_WH WITH WAREHOUSE_SIZE='X-SMALL'\").collect()"
   ]
  },
  {
   "cell_type": "markdown",
   "id": "ec0f0b6a",
   "metadata": {},
   "source": [
    "### Create Database in Snowflake"
   ]
  },
  {
   "cell_type": "code",
   "execution_count": 7,
   "id": "f5db7985",
   "metadata": {},
   "outputs": [
    {
     "data": {
      "text/plain": [
       "[Row(status='Database CC_DB successfully created.')]"
      ]
     },
     "execution_count": 7,
     "metadata": {},
     "output_type": "execute_result"
    }
   ],
   "source": [
    "# Create Databse\n",
    "session.sql(\"CREATE OR REPLACE DATABASE CC_DB\").collect()"
   ]
  },
  {
   "cell_type": "markdown",
   "id": "34b87bfd",
   "metadata": {},
   "source": [
    "### Load Kaggle Dataset into Snowflake DB"
   ]
  },
  {
   "cell_type": "code",
   "execution_count": 8,
   "id": "90927494",
   "metadata": {},
   "outputs": [],
   "source": [
    "# Loading from local CSV-files\n",
    "application_record_df = pd.read_csv('RawData/application_record.csv.zip')\n",
    "credit_record_df = pd.read_csv('RawData/credit_record.csv.zip')"
   ]
  },
  {
   "cell_type": "code",
   "execution_count": 9,
   "id": "3c4c543d",
   "metadata": {},
   "outputs": [
    {
     "data": {
      "text/plain": [
       "<snowflake.snowpark.table.Table at 0x13fd67490>"
      ]
     },
     "execution_count": 9,
     "metadata": {},
     "output_type": "execute_result"
    }
   ],
   "source": [
    "# Upload to Snowflake\n",
    "session.write_pandas(application_record_df, table_name='APPLICATION_RECORD', auto_create_table=True, overwrite=True)\n",
    "session.write_pandas(credit_record_df, table_name='CREDIT_RECORD', auto_create_table=True, overwrite=True)"
   ]
  },
  {
   "cell_type": "code",
   "execution_count": 10,
   "id": "ff9d5a74",
   "metadata": {},
   "outputs": [],
   "source": [
    "connection_parameters[\"database\"] = 'CC_DB'\n",
    "connection_parameters[\"schema\"] = 'PUBLIC'\n",
    "connection_parameters[\"warehouse\"] = 'CC_WH'\n",
    "with open('creds.json', 'w') as outfile:\n",
    "        outfile.write(json.dumps(connection_parameters))"
   ]
  },
  {
   "cell_type": "code",
   "execution_count": 11,
   "id": "71e986d4",
   "metadata": {},
   "outputs": [],
   "source": [
    "session.close()"
   ]
  }
 ],
 "metadata": {
  "kernelspec": {
   "display_name": "base",
   "language": "python",
   "name": "python3"
  },
  "language_info": {
   "codemirror_mode": {
    "name": "ipython",
    "version": 3
   },
   "file_extension": ".py",
   "mimetype": "text/x-python",
   "name": "python",
   "nbconvert_exporter": "python",
   "pygments_lexer": "ipython3",
   "version": "3.11.5"
  }
 },
 "nbformat": 4,
 "nbformat_minor": 5
}
