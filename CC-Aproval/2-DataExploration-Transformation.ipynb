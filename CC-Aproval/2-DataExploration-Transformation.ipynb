{
 "cells": [
  {
   "cell_type": "markdown",
   "metadata": {},
   "source": [
    "## Data Exploration and Feature Engineering"
   ]
  },
  {
   "cell_type": "code",
   "execution_count": 59,
   "metadata": {},
   "outputs": [],
   "source": [
    "from snowflake.snowpark.session import Session\n",
    "import snowflake.snowpark.functions as F\n",
    "import snowflake.snowpark.types as T\n",
    "from snowflake.snowpark.window import Window\n",
    "from snowflake.ml.modeling.preprocessing import *\n",
    "from snowflake.ml.modeling.impute import *\n",
    "\n",
    "import sys\n",
    "import json\n",
    "import pandas as pd\n",
    "import matplotlib.pyplot as plt\n",
    "import numpy as np"
   ]
  },
  {
   "cell_type": "markdown",
   "metadata": {},
   "source": [
    "### Create Snowpark Session"
   ]
  },
  {
   "cell_type": "code",
   "execution_count": 36,
   "metadata": {},
   "outputs": [],
   "source": [
    "with open('creds.json') as f:\n",
    "    connection_parameters = json.load(f)"
   ]
  },
  {
   "cell_type": "code",
   "execution_count": 37,
   "metadata": {},
   "outputs": [
    {
     "name": "stdout",
     "output_type": "stream",
     "text": [
      "Current Database and schema: \"CC_DB\".\"PUBLIC\"\n",
      "Current Warehouse: \"CC_WH\"\n"
     ]
    }
   ],
   "source": [
    "session = Session.builder.configs(connection_parameters).create()\n",
    "print(f\"Current Database and schema: {session.get_fully_qualified_current_schema()}\")\n",
    "print(f\"Current Warehouse: {session.get_current_warehouse()}\")"
   ]
  },
  {
   "cell_type": "markdown",
   "metadata": {},
   "source": [
    "Snowpark DataFrames vs. Pandas DataFrames"
   ]
  },
  {
   "cell_type": "code",
   "execution_count": 38,
   "metadata": {},
   "outputs": [
    {
     "name": "stdout",
     "output_type": "stream",
     "text": [
      "<class 'pandas.core.frame.DataFrame'>\n"
     ]
    }
   ],
   "source": [
    "# Creating a Pandas DataFrame\n",
    "pandas_df = pd.read_csv('RawData/application_record.csv.zip')\n",
    "print(type(pandas_df))"
   ]
  },
  {
   "cell_type": "code",
   "execution_count": 39,
   "metadata": {},
   "outputs": [
    {
     "name": "stdout",
     "output_type": "stream",
     "text": [
      "<class 'snowflake.snowpark.table.Table'>\n"
     ]
    }
   ],
   "source": [
    "# Creating a Snowpark DataFrame\n",
    "snowpark_df = session.table('APPLICATION_RECORD')\n",
    "print(type(snowpark_df))"
   ]
  },
  {
   "cell_type": "code",
   "execution_count": 40,
   "metadata": {},
   "outputs": [
    {
     "name": "stdout",
     "output_type": "stream",
     "text": [
      "Size in MB of Pandas DataFrame in Memory:\n",
      " 251.15\n",
      "Size in MB of Snowpark DataFrame in Memory:\n",
      " 0.0\n"
     ]
    }
   ],
   "source": [
    "# Compare size\n",
    "print('Size in MB of Pandas DataFrame in Memory:\\n', np.round(sys.getsizeof(pandas_df) / (1024.0**2), 2))\n",
    "print('Size in MB of Snowpark DataFrame in Memory:\\n', np.round(sys.getsizeof(snowpark_df) / (1024.0**2), 2))"
   ]
  },
  {
   "cell_type": "markdown",
   "metadata": {},
   "source": [
    "The only thing stored in a Snowpark DataFrame is the SQL needed to return data.\n",
    "The snowpark Dataframe can also be converted to pandas Dataframe. This will pull the data from Snowflake into the Python Environment memory"
   ]
  },
  {
   "cell_type": "code",
   "execution_count": 41,
   "metadata": {},
   "outputs": [
    {
     "data": {
      "text/plain": [
       "{'queries': ['SELECT  *  FROM APPLICATION_RECORD'], 'post_actions': []}"
      ]
     },
     "execution_count": 41,
     "metadata": {},
     "output_type": "execute_result"
    }
   ],
   "source": [
    "snowpark_df.queries"
   ]
  },
  {
   "cell_type": "code",
   "execution_count": 42,
   "metadata": {},
   "outputs": [],
   "source": [
    "pandas_df2 = snowpark_df.to_pandas()"
   ]
  },
  {
   "cell_type": "code",
   "execution_count": 43,
   "metadata": {},
   "outputs": [
    {
     "data": {
      "text/plain": [
       "((438557, 18), (438557, 18))"
      ]
     },
     "execution_count": 43,
     "metadata": {},
     "output_type": "execute_result"
    }
   ],
   "source": [
    "pandas_df2.shape, pandas_df.shape"
   ]
  },
  {
   "cell_type": "code",
   "execution_count": 44,
   "metadata": {},
   "outputs": [
    {
     "name": "stdout",
     "output_type": "stream",
     "text": [
      "----------------------------------------------------------------------------------------------------------------------------------------------------------------------------------------------------------------------------------------------------------------------------------------------------------------------------------------------------\n",
      "|\"ID\"     |\"CODE_GENDER\"  |\"FLAG_OWN_CAR\"  |\"FLAG_OWN_REALTY\"  |\"CNT_CHILDREN\"  |\"AMT_INCOME_TOTAL\"  |\"NAME_INCOME_TYPE\"    |\"NAME_EDUCATION_TYPE\"          |\"NAME_FAMILY_STATUS\"  |\"NAME_HOUSING_TYPE\"  |\"DAYS_BIRTH\"  |\"DAYS_EMPLOYED\"  |\"FLAG_MOBIL\"  |\"FLAG_WORK_PHONE\"  |\"FLAG_PHONE\"  |\"FLAG_EMAIL\"  |\"OCCUPATION_TYPE\"  |\"CNT_FAM_MEMBERS\"  |\n",
      "----------------------------------------------------------------------------------------------------------------------------------------------------------------------------------------------------------------------------------------------------------------------------------------------------------------------------------------------------\n",
      "|5008804  |M              |Y               |Y                  |0               |427500.0            |Working               |Higher education               |Civil marriage        |Rented apartment     |-12005        |-4542            |1             |1                  |0             |0             |NULL               |2.0                |\n",
      "|5008805  |M              |Y               |Y                  |0               |427500.0            |Working               |Higher education               |Civil marriage        |Rented apartment     |-12005        |-4542            |1             |1                  |0             |0             |NULL               |2.0                |\n",
      "|5008806  |M              |Y               |Y                  |0               |112500.0            |Working               |Secondary / secondary special  |Married               |House / apartment    |-21474        |-1134            |1             |0                  |0             |0             |Security staff     |2.0                |\n",
      "|5008808  |F              |N               |Y                  |0               |270000.0            |Commercial associate  |Secondary / secondary special  |Single / not married  |House / apartment    |-19110        |-3051            |1             |0                  |1             |1             |Sales staff        |1.0                |\n",
      "|5008809  |F              |N               |Y                  |0               |270000.0            |Commercial associate  |Secondary / secondary special  |Single / not married  |House / apartment    |-19110        |-3051            |1             |0                  |1             |1             |Sales staff        |1.0                |\n",
      "|5008810  |F              |N               |Y                  |0               |270000.0            |Commercial associate  |Secondary / secondary special  |Single / not married  |House / apartment    |-19110        |-3051            |1             |0                  |1             |1             |Sales staff        |1.0                |\n",
      "|5008811  |F              |N               |Y                  |0               |270000.0            |Commercial associate  |Secondary / secondary special  |Single / not married  |House / apartment    |-19110        |-3051            |1             |0                  |1             |1             |Sales staff        |1.0                |\n",
      "|5008812  |F              |N               |Y                  |0               |283500.0            |Pensioner             |Higher education               |Separated             |House / apartment    |-22464        |365243           |1             |0                  |0             |0             |NULL               |1.0                |\n",
      "|5008813  |F              |N               |Y                  |0               |283500.0            |Pensioner             |Higher education               |Separated             |House / apartment    |-22464        |365243           |1             |0                  |0             |0             |NULL               |1.0                |\n",
      "|5008814  |F              |N               |Y                  |0               |283500.0            |Pensioner             |Higher education               |Separated             |House / apartment    |-22464        |365243           |1             |0                  |0             |0             |NULL               |1.0                |\n",
      "----------------------------------------------------------------------------------------------------------------------------------------------------------------------------------------------------------------------------------------------------------------------------------------------------------------------------------------------------\n",
      "\n"
     ]
    }
   ],
   "source": [
    "# Showing Snowpark df\n",
    "snowpark_df.show()"
   ]
  },
  {
   "cell_type": "code",
   "execution_count": 45,
   "metadata": {},
   "outputs": [
    {
     "data": {
      "text/html": [
       "<div>\n",
       "<style scoped>\n",
       "    .dataframe tbody tr th:only-of-type {\n",
       "        vertical-align: middle;\n",
       "    }\n",
       "\n",
       "    .dataframe tbody tr th {\n",
       "        vertical-align: top;\n",
       "    }\n",
       "\n",
       "    .dataframe thead th {\n",
       "        text-align: right;\n",
       "    }\n",
       "</style>\n",
       "<table border=\"1\" class=\"dataframe\">\n",
       "  <thead>\n",
       "    <tr style=\"text-align: right;\">\n",
       "      <th></th>\n",
       "      <th>ID</th>\n",
       "      <th>CODE_GENDER</th>\n",
       "      <th>FLAG_OWN_CAR</th>\n",
       "      <th>FLAG_OWN_REALTY</th>\n",
       "      <th>CNT_CHILDREN</th>\n",
       "      <th>AMT_INCOME_TOTAL</th>\n",
       "      <th>NAME_INCOME_TYPE</th>\n",
       "      <th>NAME_EDUCATION_TYPE</th>\n",
       "      <th>NAME_FAMILY_STATUS</th>\n",
       "      <th>NAME_HOUSING_TYPE</th>\n",
       "      <th>DAYS_BIRTH</th>\n",
       "      <th>DAYS_EMPLOYED</th>\n",
       "      <th>FLAG_MOBIL</th>\n",
       "      <th>FLAG_WORK_PHONE</th>\n",
       "      <th>FLAG_PHONE</th>\n",
       "      <th>FLAG_EMAIL</th>\n",
       "      <th>OCCUPATION_TYPE</th>\n",
       "      <th>CNT_FAM_MEMBERS</th>\n",
       "    </tr>\n",
       "  </thead>\n",
       "  <tbody>\n",
       "    <tr>\n",
       "      <th>0</th>\n",
       "      <td>5008804</td>\n",
       "      <td>M</td>\n",
       "      <td>Y</td>\n",
       "      <td>Y</td>\n",
       "      <td>0</td>\n",
       "      <td>427500.0</td>\n",
       "      <td>Working</td>\n",
       "      <td>Higher education</td>\n",
       "      <td>Civil marriage</td>\n",
       "      <td>Rented apartment</td>\n",
       "      <td>-12005</td>\n",
       "      <td>-4542</td>\n",
       "      <td>1</td>\n",
       "      <td>1</td>\n",
       "      <td>0</td>\n",
       "      <td>0</td>\n",
       "      <td>None</td>\n",
       "      <td>2.0</td>\n",
       "    </tr>\n",
       "    <tr>\n",
       "      <th>1</th>\n",
       "      <td>5008805</td>\n",
       "      <td>M</td>\n",
       "      <td>Y</td>\n",
       "      <td>Y</td>\n",
       "      <td>0</td>\n",
       "      <td>427500.0</td>\n",
       "      <td>Working</td>\n",
       "      <td>Higher education</td>\n",
       "      <td>Civil marriage</td>\n",
       "      <td>Rented apartment</td>\n",
       "      <td>-12005</td>\n",
       "      <td>-4542</td>\n",
       "      <td>1</td>\n",
       "      <td>1</td>\n",
       "      <td>0</td>\n",
       "      <td>0</td>\n",
       "      <td>None</td>\n",
       "      <td>2.0</td>\n",
       "    </tr>\n",
       "    <tr>\n",
       "      <th>2</th>\n",
       "      <td>5008806</td>\n",
       "      <td>M</td>\n",
       "      <td>Y</td>\n",
       "      <td>Y</td>\n",
       "      <td>0</td>\n",
       "      <td>112500.0</td>\n",
       "      <td>Working</td>\n",
       "      <td>Secondary / secondary special</td>\n",
       "      <td>Married</td>\n",
       "      <td>House / apartment</td>\n",
       "      <td>-21474</td>\n",
       "      <td>-1134</td>\n",
       "      <td>1</td>\n",
       "      <td>0</td>\n",
       "      <td>0</td>\n",
       "      <td>0</td>\n",
       "      <td>Security staff</td>\n",
       "      <td>2.0</td>\n",
       "    </tr>\n",
       "    <tr>\n",
       "      <th>3</th>\n",
       "      <td>5008808</td>\n",
       "      <td>F</td>\n",
       "      <td>N</td>\n",
       "      <td>Y</td>\n",
       "      <td>0</td>\n",
       "      <td>270000.0</td>\n",
       "      <td>Commercial associate</td>\n",
       "      <td>Secondary / secondary special</td>\n",
       "      <td>Single / not married</td>\n",
       "      <td>House / apartment</td>\n",
       "      <td>-19110</td>\n",
       "      <td>-3051</td>\n",
       "      <td>1</td>\n",
       "      <td>0</td>\n",
       "      <td>1</td>\n",
       "      <td>1</td>\n",
       "      <td>Sales staff</td>\n",
       "      <td>1.0</td>\n",
       "    </tr>\n",
       "    <tr>\n",
       "      <th>4</th>\n",
       "      <td>5008809</td>\n",
       "      <td>F</td>\n",
       "      <td>N</td>\n",
       "      <td>Y</td>\n",
       "      <td>0</td>\n",
       "      <td>270000.0</td>\n",
       "      <td>Commercial associate</td>\n",
       "      <td>Secondary / secondary special</td>\n",
       "      <td>Single / not married</td>\n",
       "      <td>House / apartment</td>\n",
       "      <td>-19110</td>\n",
       "      <td>-3051</td>\n",
       "      <td>1</td>\n",
       "      <td>0</td>\n",
       "      <td>1</td>\n",
       "      <td>1</td>\n",
       "      <td>Sales staff</td>\n",
       "      <td>1.0</td>\n",
       "    </tr>\n",
       "  </tbody>\n",
       "</table>\n",
       "</div>"
      ],
      "text/plain": [
       "        ID CODE_GENDER FLAG_OWN_CAR FLAG_OWN_REALTY  CNT_CHILDREN  \\\n",
       "0  5008804           M            Y               Y             0   \n",
       "1  5008805           M            Y               Y             0   \n",
       "2  5008806           M            Y               Y             0   \n",
       "3  5008808           F            N               Y             0   \n",
       "4  5008809           F            N               Y             0   \n",
       "\n",
       "   AMT_INCOME_TOTAL      NAME_INCOME_TYPE            NAME_EDUCATION_TYPE  \\\n",
       "0          427500.0               Working               Higher education   \n",
       "1          427500.0               Working               Higher education   \n",
       "2          112500.0               Working  Secondary / secondary special   \n",
       "3          270000.0  Commercial associate  Secondary / secondary special   \n",
       "4          270000.0  Commercial associate  Secondary / secondary special   \n",
       "\n",
       "     NAME_FAMILY_STATUS  NAME_HOUSING_TYPE  DAYS_BIRTH  DAYS_EMPLOYED  \\\n",
       "0        Civil marriage   Rented apartment      -12005          -4542   \n",
       "1        Civil marriage   Rented apartment      -12005          -4542   \n",
       "2               Married  House / apartment      -21474          -1134   \n",
       "3  Single / not married  House / apartment      -19110          -3051   \n",
       "4  Single / not married  House / apartment      -19110          -3051   \n",
       "\n",
       "   FLAG_MOBIL  FLAG_WORK_PHONE  FLAG_PHONE  FLAG_EMAIL OCCUPATION_TYPE  \\\n",
       "0           1                1           0           0            None   \n",
       "1           1                1           0           0            None   \n",
       "2           1                0           0           0  Security staff   \n",
       "3           1                0           1           1     Sales staff   \n",
       "4           1                0           1           1     Sales staff   \n",
       "\n",
       "   CNT_FAM_MEMBERS  \n",
       "0              2.0  \n",
       "1              2.0  \n",
       "2              2.0  \n",
       "3              1.0  \n",
       "4              1.0  "
      ]
     },
     "execution_count": 45,
     "metadata": {},
     "output_type": "execute_result"
    }
   ],
   "source": [
    "# collects first 5 rows and displays as pandas-dataframe\n",
    "snowpark_df.limit(5).to_pandas() "
   ]
  },
  {
   "cell_type": "markdown",
   "metadata": {},
   "source": [
    "### Transformations"
   ]
  },
  {
   "cell_type": "code",
   "execution_count": 46,
   "metadata": {},
   "outputs": [
    {
     "name": "stdout",
     "output_type": "stream",
     "text": [
      "-------------------------------------------------------\n",
      "|\"CODE_GENDER\"  |\"NAME_INCOME_TYPE\"    |\"DAYS_BIRTH\"  |\n",
      "-------------------------------------------------------\n",
      "|M              |Working               |-12005        |\n",
      "|M              |Working               |-12005        |\n",
      "|M              |Working               |-21474        |\n",
      "|F              |Commercial associate  |-19110        |\n",
      "|F              |Commercial associate  |-19110        |\n",
      "|F              |Commercial associate  |-19110        |\n",
      "|F              |Commercial associate  |-19110        |\n",
      "|F              |Pensioner             |-22464        |\n",
      "|F              |Pensioner             |-22464        |\n",
      "|F              |Pensioner             |-22464        |\n",
      "-------------------------------------------------------\n",
      "\n"
     ]
    }
   ],
   "source": [
    "# Select Specific Columns\n",
    "snowpark_df = snowpark_df.select('CODE_GENDER','NAME_INCOME_TYPE','DAYS_BIRTH',)\n",
    "# pandas-like selection\n",
    "snowpark_df = snowpark_df[['CODE_GENDER','NAME_INCOME_TYPE','DAYS_BIRTH']] \n",
    "snowpark_df.show()"
   ]
  },
  {
   "cell_type": "code",
   "execution_count": 47,
   "metadata": {},
   "outputs": [
    {
     "name": "stdout",
     "output_type": "stream",
     "text": [
      "---------------------------------------------------------------\n",
      "|\"CODE_GENDER\"  |\"NAME_INCOME_TYPE\"    |\"DAYS_BIRTH\"  |\"AGE\"  |\n",
      "---------------------------------------------------------------\n",
      "|M              |Working               |-12005        |32     |\n",
      "|M              |Working               |-12005        |32     |\n",
      "|M              |Working               |-21474        |58     |\n",
      "|F              |Commercial associate  |-19110        |52     |\n",
      "|F              |Commercial associate  |-19110        |52     |\n",
      "|F              |Commercial associate  |-19110        |52     |\n",
      "|F              |Commercial associate  |-19110        |52     |\n",
      "|F              |Pensioner             |-22464        |61     |\n",
      "|F              |Pensioner             |-22464        |61     |\n",
      "|F              |Pensioner             |-22464        |61     |\n",
      "---------------------------------------------------------------\n",
      "\n"
     ]
    }
   ],
   "source": [
    "# adding a neew column, AGE, that calculates the number of years that DAYS_BIRTH is.\n",
    "snowpark_df = snowpark_df.withColumn('AGE', F.floor(F.abs(F.col('DAYS_BIRTH')) / 365))\n",
    "snowpark_df.show()"
   ]
  },
  {
   "cell_type": "code",
   "execution_count": 48,
   "metadata": {},
   "outputs": [
    {
     "name": "stdout",
     "output_type": "stream",
     "text": [
      "------------------------------------------------\n",
      "|\"CODE_GENDER\"  |\"NAME_INCOME_TYPE\"    |\"AGE\"  |\n",
      "------------------------------------------------\n",
      "|M              |Working               |32     |\n",
      "|M              |Working               |32     |\n",
      "|M              |Working               |58     |\n",
      "|F              |Commercial associate  |52     |\n",
      "|F              |Commercial associate  |52     |\n",
      "|F              |Commercial associate  |52     |\n",
      "|F              |Commercial associate  |52     |\n",
      "|F              |Pensioner             |61     |\n",
      "|F              |Pensioner             |61     |\n",
      "|F              |Pensioner             |61     |\n",
      "------------------------------------------------\n",
      "\n"
     ]
    }
   ],
   "source": [
    "# Drop a column\n",
    "snowpark_df = snowpark_df.drop('DAYS_BIRTH')\n",
    "snowpark_df.show()"
   ]
  },
  {
   "cell_type": "code",
   "execution_count": 49,
   "metadata": {},
   "outputs": [
    {
     "name": "stdout",
     "output_type": "stream",
     "text": [
      "----------------------------------------------\n",
      "|\"CODE_GENDER\"  |\"NAME_INCOME_TYPE\"  |\"AGE\"  |\n",
      "----------------------------------------------\n",
      "|F              |Pensioner           |61     |\n",
      "|F              |Pensioner           |61     |\n",
      "|F              |Pensioner           |61     |\n",
      "|F              |Pensioner           |55     |\n",
      "|F              |Pensioner           |61     |\n",
      "|F              |Pensioner           |61     |\n",
      "|F              |Pensioner           |61     |\n",
      "|F              |Pensioner           |61     |\n",
      "|F              |Pensioner           |61     |\n",
      "|F              |Pensioner           |61     |\n",
      "----------------------------------------------\n",
      "\n"
     ]
    }
   ],
   "source": [
    "# Filter data\n",
    "snowpark_df = snowpark_df.filter(F.col('NAME_INCOME_TYPE').in_(['Pensioner','Student']))\n",
    "snowpark_df.show()"
   ]
  },
  {
   "cell_type": "code",
   "execution_count": 50,
   "metadata": {},
   "outputs": [
    {
     "name": "stdout",
     "output_type": "stream",
     "text": [
      "--------------------------------------------------\n",
      "|\"CODE_GENDER\"  |\"NAME_INCOME_TYPE\"  |\"AVG_AGE\"  |\n",
      "--------------------------------------------------\n",
      "|F              |Pensioner           |59.188624  |\n",
      "|M              |Pensioner           |57.685482  |\n",
      "|F              |Student             |46.090909  |\n",
      "|M              |Student             |27.166667  |\n",
      "--------------------------------------------------\n",
      "\n"
     ]
    }
   ],
   "source": [
    "# Aggregate data by using group_by method in combination with the agg method.\n",
    "snowpark_df = snowpark_df.group_by(['CODE_GENDER','NAME_INCOME_TYPE']).agg([F.avg('AGE').as_('AVG_AGE')])\n",
    "snowpark_df.show()"
   ]
  },
  {
   "cell_type": "code",
   "execution_count": 51,
   "metadata": {},
   "outputs": [
    {
     "name": "stdout",
     "output_type": "stream",
     "text": [
      "--------------------------------------------------\n",
      "|\"CODE_GENDER\"  |\"NAME_INCOME_TYPE\"  |\"AVG_AGE\"  |\n",
      "--------------------------------------------------\n",
      "|F              |Pensioner           |59.188624  |\n",
      "|M              |Pensioner           |57.685482  |\n",
      "|F              |Student             |46.090909  |\n",
      "|M              |Student             |27.166667  |\n",
      "--------------------------------------------------\n",
      "\n"
     ]
    }
   ],
   "source": [
    "# Sort data by using the sort method.\n",
    "snowpark_df = snowpark_df.sort(F.col('AVG_AGE').desc())\n",
    "snowpark_df.show()"
   ]
  },
  {
   "cell_type": "markdown",
   "metadata": {},
   "source": [
    "### Data Analysis\n",
    "\n",
    "In this section we will use API Snowpark to do some basic analysis of our data.\n"
   ]
  },
  {
   "cell_type": "code",
   "execution_count": 52,
   "metadata": {},
   "outputs": [],
   "source": [
    "# Creating a Snowpark DataFrame\n",
    "snowpark_df = session.table('APPLICATION_RECORD')"
   ]
  },
  {
   "cell_type": "code",
   "execution_count": 53,
   "metadata": {},
   "outputs": [
    {
     "data": {
      "text/plain": [
       "438557"
      ]
     },
     "execution_count": 53,
     "metadata": {},
     "output_type": "execute_result"
    }
   ],
   "source": [
    "# Number of rows in dataset\n",
    "snowpark_df.count()"
   ]
  },
  {
   "cell_type": "code",
   "execution_count": 54,
   "metadata": {},
   "outputs": [
    {
     "data": {
      "text/plain": [
       "438510"
      ]
     },
     "execution_count": 54,
     "metadata": {},
     "output_type": "execute_result"
    }
   ],
   "source": [
    "# drop duplicates based on ID\n",
    "snowpark_df = snowpark_df.drop_duplicates('ID')\n",
    "snowpark_df.count()"
   ]
  },
  {
   "cell_type": "code",
   "execution_count": 55,
   "metadata": {},
   "outputs": [
    {
     "name": "stdout",
     "output_type": "stream",
     "text": [
      "SELECT \"ID\", \"CODE_GENDER\", \"FLAG_OWN_CAR\", \"FLAG_OWN_REALTY\", \"CNT_CHILDREN\", \"AMT_INCOME_TOTAL\", \"NAME_INCOME_TYPE\", \"NAME_EDUCATION_TYPE\", \"NAME_FAMILY_STATUS\", \"NAME_HOUSING_TYPE\", \"DAYS_BIRTH\", \"DAYS_EMPLOYED\", \"FLAG_MOBIL\", \"FLAG_WORK_PHONE\", \"FLAG_PHONE\", \"FLAG_EMAIL\", \"OCCUPATION_TYPE\", \"CNT_FAM_MEMBERS\" FROM ( SELECT \"ID\", \"CODE_GENDER\", \"FLAG_OWN_CAR\", \"FLAG_OWN_REALTY\", \"CNT_CHILDREN\", \"AMT_INCOME_TOTAL\", \"NAME_INCOME_TYPE\", \"NAME_EDUCATION_TYPE\", \"NAME_FAMILY_STATUS\", \"NAME_HOUSING_TYPE\", \"DAYS_BIRTH\", \"DAYS_EMPLOYED\", \"FLAG_MOBIL\", \"FLAG_WORK_PHONE\", \"FLAG_PHONE\", \"FLAG_EMAIL\", \"OCCUPATION_TYPE\", \"CNT_FAM_MEMBERS\", row_number() OVER (PARTITION BY \"ID\"  ORDER BY \"ID\" ASC NULLS FIRST ) AS \"QUVKSHA8E9\" FROM APPLICATION_RECORD) WHERE (\"QUVKSHA8E9\" = 1)\n"
     ]
    }
   ],
   "source": [
    "# Duplicated rows are only filtered and we can see the logic for it by examining the SQL for the DataFrame, using ['queries'][0] will return the first SQL statement for the DataFrame\n",
    "\n",
    "print(snowpark_df.queries['queries'][0])"
   ]
  },
  {
   "cell_type": "code",
   "execution_count": 56,
   "metadata": {},
   "outputs": [
    {
     "name": "stdout",
     "output_type": "stream",
     "text": [
      "--------------------------------------------------------------------------------------------------------------------------------------------------------------------------------------------------------------------------------------------------------------------------------------------------------------------------------------------------------------------------------------------------------\n",
      "|\"SUMMARY\"  |\"ID\"               |\"CODE_GENDER\"  |\"FLAG_OWN_CAR\"  |\"FLAG_OWN_REALTY\"  |\"CNT_CHILDREN\"      |\"AMT_INCOME_TOTAL\"  |\"NAME_INCOME_TYPE\"    |\"NAME_EDUCATION_TYPE\"          |\"NAME_FAMILY_STATUS\"  |\"NAME_HOUSING_TYPE\"  |\"DAYS_BIRTH\"       |\"DAYS_EMPLOYED\"     |\"FLAG_MOBIL\"  |\"FLAG_WORK_PHONE\"   |\"FLAG_PHONE\"         |\"FLAG_EMAIL\"        |\"OCCUPATION_TYPE\"     |\"CNT_FAM_MEMBERS\"   |\n",
      "--------------------------------------------------------------------------------------------------------------------------------------------------------------------------------------------------------------------------------------------------------------------------------------------------------------------------------------------------------------------------------------------------------\n",
      "|stddev     |571496.2397764492  |NULL           |NULL            |NULL               |0.7248737821165834  |110089.27958266277  |NULL                  |NULL                           |NULL                  |NULL                 |4185.016222145262  |138770.07283492736  |0.0           |0.4045231760974889  |0.45272397771710743  |0.3106332242372023  |NULL                  |0.8971920109742918  |\n",
      "|count      |438510.0           |438510         |438510          |438510             |438510.0            |438510.0            |438510                |438510                         |438510                |438510               |438510.0           |438510.0            |438510.0      |438510.0            |438510.0             |438510.0            |304317                |438510.0            |\n",
      "|min        |5008804.0          |F              |N               |N                  |0.0                 |26100.0             |Commercial associate  |Academic degree                |Civil marriage        |Co-op apartment      |-25201.0           |-17531.0            |1.0           |0.0                 |0.0                  |0.0                 |Accountants           |1.0                 |\n",
      "|mean       |6022034.963688     |NULL           |NULL            |NULL               |0.427381            |187525.41572477252  |NULL                  |NULL                           |NULL                  |NULL                 |-15998.022996      |60566.188769        |1.0           |0.206128            |0.28777              |0.1082              |NULL                  |2.1944630681170327  |\n",
      "|max        |7999952.0          |M              |Y               |Y                  |19.0                |6750000.0           |Working               |Secondary / secondary special  |Widow                 |With parents         |-7489.0            |365243.0            |1.0           |1.0                 |1.0                  |1.0                 |Waiters/barmen staff  |20.0                |\n",
      "--------------------------------------------------------------------------------------------------------------------------------------------------------------------------------------------------------------------------------------------------------------------------------------------------------------------------------------------------------------------------------------------------------\n",
      "\n"
     ]
    }
   ],
   "source": [
    "# Calculating various statistics per column\n",
    "snowpark_df.describe().show()"
   ]
  },
  {
   "cell_type": "code",
   "execution_count": 57,
   "metadata": {},
   "outputs": [
    {
     "name": "stdout",
     "output_type": "stream",
     "text": [
      "-------------------------------------------------------------\n",
      "|\"NAME_INCOME_TYPE\"    |\"CODE_GENDER\"  |\"AVG_INCOME\"        |\n",
      "-------------------------------------------------------------\n",
      "|Commercial associate  |M              |249208.08642289176  |\n",
      "|Commercial associate  |F              |206579.17463258584  |\n",
      "|Pensioner             |M              |169049.77416737832  |\n",
      "|Pensioner             |F              |150729.61255448588  |\n",
      "|State servant         |M              |237034.15414285715  |\n",
      "|State servant         |F              |186152.9842904419   |\n",
      "|Student               |F              |165272.72727272726  |\n",
      "|Student               |M              |149250.0            |\n",
      "|Working               |M              |202170.82427397132  |\n",
      "|Working               |F              |168679.56899413437  |\n",
      "-------------------------------------------------------------\n",
      "\n"
     ]
    }
   ],
   "source": [
    "# Average Income per Income Type and Gender\n",
    "analysis_df = snowpark_df.group_by(['NAME_INCOME_TYPE','CODE_GENDER']).agg([F.mean('AMT_INCOME_TOTAL').as_('AVG_INCOME')])\n",
    "analysis_df = analysis_df.sort('NAME_INCOME_TYPE', F.col('AVG_INCOME').desc())\n",
    "analysis_df.show()"
   ]
  },
  {
   "cell_type": "code",
   "execution_count": 62,
   "metadata": {},
   "outputs": [
    {
     "name": "stdout",
     "output_type": "stream",
     "text": [
      "--------------------------------------------------------------------------------------------------------------------------------------------------------------------------------------------------------------------------------------------------------------------------------------------------------------------------------------------------------------------------------------------------------\n",
      "|\"SUMMARY\"  |\"OCCUPATION_TYPE\"     |\"ID\"               |\"CODE_GENDER\"  |\"FLAG_OWN_CAR\"  |\"FLAG_OWN_REALTY\"  |\"CNT_CHILDREN\"      |\"AMT_INCOME_TOTAL\"  |\"NAME_INCOME_TYPE\"    |\"NAME_EDUCATION_TYPE\"          |\"NAME_FAMILY_STATUS\"  |\"NAME_HOUSING_TYPE\"  |\"DAYS_BIRTH\"       |\"DAYS_EMPLOYED\"     |\"FLAG_MOBIL\"  |\"FLAG_WORK_PHONE\"   |\"FLAG_PHONE\"         |\"FLAG_EMAIL\"        |\"CNT_FAM_MEMBERS\"   |\n",
      "--------------------------------------------------------------------------------------------------------------------------------------------------------------------------------------------------------------------------------------------------------------------------------------------------------------------------------------------------------------------------------------------------------\n",
      "|min        |Accountants           |5008804.0          |F              |N               |N                  |0.0                 |26100.0             |Commercial associate  |Academic degree                |Civil marriage        |Co-op apartment      |-25201.0           |-17531.0            |1.0           |0.0                 |0.0                  |0.0                 |1.0                 |\n",
      "|stddev     |NULL                  |571496.2397764492  |NULL           |NULL            |NULL               |0.7248737821165834  |110089.27958266277  |NULL                  |NULL                           |NULL                  |NULL                 |4185.016222145262  |138770.07283492736  |0.0           |0.4045231760974889  |0.45272397771710743  |0.3106332242372023  |0.8971920109742918  |\n",
      "|count      |438510                |438510.0           |438510         |438510          |438510             |438510.0            |438510.0            |438510                |438510                         |438510                |438510               |438510.0           |438510.0            |438510.0      |438510.0            |438510.0             |438510.0            |438510.0            |\n",
      "|mean       |NULL                  |6022034.963688     |NULL           |NULL            |NULL               |0.427381            |187525.4157247725   |NULL                  |NULL                           |NULL                  |NULL                 |-15998.022996      |60566.188769        |1.0           |0.206128            |0.28777              |0.1082              |2.1944630681170327  |\n",
      "|max        |Waiters/barmen staff  |7999952.0          |M              |Y               |Y                  |19.0                |6750000.0           |Working               |Secondary / secondary special  |Widow                 |With parents         |-7489.0            |365243.0            |1.0           |1.0                 |1.0                  |1.0                 |20.0                |\n",
      "--------------------------------------------------------------------------------------------------------------------------------------------------------------------------------------------------------------------------------------------------------------------------------------------------------------------------------------------------------------------------------------------------------\n",
      "\n"
     ]
    }
   ],
   "source": [
    "# We can use the SimpleImputer in snowflake.ml.preprocessing to replace missing values with the most frequent.\n",
    "\n",
    "my_imputer = SimpleImputer(input_cols=['OCCUPATION_TYPE'], output_cols=['OCCUPATION_TYPE'] ,strategy='most_frequent')\n",
    "my_imputer.fit(snowpark_df)\n",
    "snowpark_df = my_imputer.transform(snowpark_df)\n",
    "snowpark_df.describe().show()"
   ]
  },
  {
   "cell_type": "code",
   "execution_count": 63,
   "metadata": {},
   "outputs": [
    {
     "name": "stdout",
     "output_type": "stream",
     "text": [
      "SELECT iff(\"OCCUPATION_TYPE\" IS NULL, 'Laborers', \"OCCUPATION_TYPE\") AS \"OCCUPATION_TYPE\", \"ID\", \"CODE_GENDER\", \"FLAG_OWN_CAR\", \"FLAG_OWN_REALTY\", \"CNT_CHILDREN\", \"AMT_INCOME_TOTAL\", \"NAME_INCOME_TYPE\", \"NAME_EDUCATION_TYPE\", \"NAME_FAMILY_STATUS\", \"NAME_HOUSING_TYPE\", \"DAYS_BIRTH\", \"DAYS_EMPLOYED\", \"FLAG_MOBIL\", \"FLAG_WORK_PHONE\", \"FLAG_PHONE\", \"FLAG_EMAIL\", \"CNT_FAM_MEMBERS\" FROM ( SELECT \"ID\", \"CODE_GENDER\", \"FLAG_OWN_CAR\", \"FLAG_OWN_REALTY\", \"CNT_CHILDREN\", \"AMT_INCOME_TOTAL\", \"NAME_INCOME_TYPE\", \"NAME_EDUCATION_TYPE\", \"NAME_FAMILY_STATUS\", \"NAME_HOUSING_TYPE\", \"DAYS_BIRTH\", \"DAYS_EMPLOYED\", \"FLAG_MOBIL\", \"FLAG_WORK_PHONE\", \"FLAG_PHONE\", \"FLAG_EMAIL\", \"CNT_FAM_MEMBERS\", \"OCCUPATION_TYPE\" AS \"OCCUPATION_TYPE\" FROM ( SELECT iff(\"OCCUPATION_TYPE\" IS NULL, 'Laborers', \"OCCUPATION_TYPE\") AS \"OCCUPATION_TYPE\", \"ID\", \"CODE_GENDER\", \"FLAG_OWN_CAR\", \"FLAG_OWN_REALTY\", \"CNT_CHILDREN\", \"AMT_INCOME_TOTAL\", \"NAME_INCOME_TYPE\", \"NAME_EDUCATION_TYPE\", \"NAME_FAMILY_STATUS\", \"NAME_HOUSING_TYPE\", \"DAYS_BIRTH\", \"DAYS_EMPLOYED\", \"FLAG_MOBIL\", \"FLAG_WORK_PHONE\", \"FLAG_PHONE\", \"FLAG_EMAIL\", \"CNT_FAM_MEMBERS\" FROM ( SELECT \"ID\", \"CODE_GENDER\", \"FLAG_OWN_CAR\", \"FLAG_OWN_REALTY\", \"CNT_CHILDREN\", \"AMT_INCOME_TOTAL\", \"NAME_INCOME_TYPE\", \"NAME_EDUCATION_TYPE\", \"NAME_FAMILY_STATUS\", \"NAME_HOUSING_TYPE\", \"DAYS_BIRTH\", \"DAYS_EMPLOYED\", \"FLAG_MOBIL\", \"FLAG_WORK_PHONE\", \"FLAG_PHONE\", \"FLAG_EMAIL\", \"CNT_FAM_MEMBERS\", \"OCCUPATION_TYPE\" AS \"OCCUPATION_TYPE\" FROM ( SELECT \"ID\", \"CODE_GENDER\", \"FLAG_OWN_CAR\", \"FLAG_OWN_REALTY\", \"CNT_CHILDREN\", \"AMT_INCOME_TOTAL\", \"NAME_INCOME_TYPE\", \"NAME_EDUCATION_TYPE\", \"NAME_FAMILY_STATUS\", \"NAME_HOUSING_TYPE\", \"DAYS_BIRTH\", \"DAYS_EMPLOYED\", \"FLAG_MOBIL\", \"FLAG_WORK_PHONE\", \"FLAG_PHONE\", \"FLAG_EMAIL\", \"OCCUPATION_TYPE\", \"CNT_FAM_MEMBERS\", row_number() OVER (PARTITION BY \"ID\"  ORDER BY \"ID\" ASC NULLS FIRST ) AS \"QUVKSHA8E9\" FROM APPLICATION_RECORD) WHERE (\"QUVKSHA8E9\" = 1))))\n"
     ]
    }
   ],
   "source": [
    "# The missing value handling logic is converted in SQL to iff(\"OCCUPATION_TYPE\" IS NULL, 'Laborers', \"OCCUPATION_TYPE\") AS \"OCCUPATION_TYPE\"\n",
    "print(snowpark_df.queries['queries'][0])"
   ]
  },
  {
   "cell_type": "code",
   "execution_count": 65,
   "metadata": {},
   "outputs": [
    {
     "data": {
      "text/plain": [
       "StructType([StructField('OCCUPATION_TYPE', StringType(), nullable=True), StructField('ID', LongType(), nullable=True), StructField('CODE_GENDER', StringType(), nullable=True), StructField('FLAG_OWN_CAR', StringType(), nullable=True), StructField('FLAG_OWN_REALTY', StringType(), nullable=True), StructField('CNT_CHILDREN', LongType(), nullable=True), StructField('AMT_INCOME_TOTAL', DoubleType(), nullable=True), StructField('NAME_INCOME_TYPE', StringType(), nullable=True), StructField('NAME_EDUCATION_TYPE', StringType(), nullable=True), StructField('NAME_FAMILY_STATUS', StringType(), nullable=True), StructField('NAME_HOUSING_TYPE', StringType(), nullable=True), StructField('DAYS_BIRTH', LongType(), nullable=True), StructField('DAYS_EMPLOYED', LongType(), nullable=True), StructField('FLAG_MOBIL', LongType(), nullable=True), StructField('FLAG_WORK_PHONE', LongType(), nullable=True), StructField('FLAG_PHONE', LongType(), nullable=True), StructField('FLAG_EMAIL', LongType(), nullable=True), StructField('CNT_FAM_MEMBERS', DoubleType(), nullable=True)])"
      ]
     },
     "execution_count": 65,
     "metadata": {},
     "output_type": "execute_result"
    }
   ],
   "source": [
    "snowpark_df.schema"
   ]
  },
  {
   "cell_type": "code",
   "execution_count": 66,
   "metadata": {},
   "outputs": [
    {
     "data": {
      "text/plain": [
       "['OCCUPATION_TYPE',\n",
       " 'CODE_GENDER',\n",
       " 'FLAG_OWN_CAR',\n",
       " 'FLAG_OWN_REALTY',\n",
       " 'NAME_INCOME_TYPE',\n",
       " 'NAME_EDUCATION_TYPE',\n",
       " 'NAME_FAMILY_STATUS',\n",
       " 'NAME_HOUSING_TYPE']"
      ]
     },
     "execution_count": 66,
     "metadata": {},
     "output_type": "execute_result"
    }
   ],
   "source": [
    "#We can iterate through the schema to get the columns of specific data types\n",
    "\n",
    "# Get all categorical columns\n",
    "categorical_types = [T.StringType]\n",
    "categorical_columns = [c.name for c in snowpark_df.schema.fields if type(c.datatype) in categorical_types]\n",
    "categorical_columns"
   ]
  },
  {
   "cell_type": "code",
   "execution_count": 67,
   "metadata": {},
   "outputs": [
    {
     "data": {
      "text/html": [
       "<div>\n",
       "<style scoped>\n",
       "    .dataframe tbody tr th:only-of-type {\n",
       "        vertical-align: middle;\n",
       "    }\n",
       "\n",
       "    .dataframe tbody tr th {\n",
       "        vertical-align: top;\n",
       "    }\n",
       "\n",
       "    .dataframe thead th {\n",
       "        text-align: right;\n",
       "    }\n",
       "</style>\n",
       "<table border=\"1\" class=\"dataframe\">\n",
       "  <thead>\n",
       "    <tr style=\"text-align: right;\">\n",
       "      <th></th>\n",
       "      <th>COLUMN_NAME</th>\n",
       "      <th>NUM_UNIQUE_VALUES</th>\n",
       "    </tr>\n",
       "  </thead>\n",
       "  <tbody>\n",
       "    <tr>\n",
       "      <th>0</th>\n",
       "      <td>OCCUPATION_TYPE</td>\n",
       "      <td>18</td>\n",
       "    </tr>\n",
       "    <tr>\n",
       "      <th>1</th>\n",
       "      <td>CODE_GENDER</td>\n",
       "      <td>2</td>\n",
       "    </tr>\n",
       "    <tr>\n",
       "      <th>2</th>\n",
       "      <td>FLAG_OWN_CAR</td>\n",
       "      <td>2</td>\n",
       "    </tr>\n",
       "    <tr>\n",
       "      <th>3</th>\n",
       "      <td>FLAG_OWN_REALTY</td>\n",
       "      <td>2</td>\n",
       "    </tr>\n",
       "    <tr>\n",
       "      <th>4</th>\n",
       "      <td>NAME_INCOME_TYPE</td>\n",
       "      <td>5</td>\n",
       "    </tr>\n",
       "    <tr>\n",
       "      <th>5</th>\n",
       "      <td>NAME_EDUCATION_TYPE</td>\n",
       "      <td>5</td>\n",
       "    </tr>\n",
       "    <tr>\n",
       "      <th>6</th>\n",
       "      <td>NAME_FAMILY_STATUS</td>\n",
       "      <td>5</td>\n",
       "    </tr>\n",
       "    <tr>\n",
       "      <th>7</th>\n",
       "      <td>NAME_HOUSING_TYPE</td>\n",
       "      <td>6</td>\n",
       "    </tr>\n",
       "  </tbody>\n",
       "</table>\n",
       "</div>"
      ],
      "text/plain": [
       "           COLUMN_NAME  NUM_UNIQUE_VALUES\n",
       "0      OCCUPATION_TYPE                 18\n",
       "1          CODE_GENDER                  2\n",
       "2         FLAG_OWN_CAR                  2\n",
       "3      FLAG_OWN_REALTY                  2\n",
       "4     NAME_INCOME_TYPE                  5\n",
       "5  NAME_EDUCATION_TYPE                  5\n",
       "6   NAME_FAMILY_STATUS                  5\n",
       "7    NAME_HOUSING_TYPE                  6"
      ]
     },
     "execution_count": 67,
     "metadata": {},
     "output_type": "execute_result"
    }
   ],
   "source": [
    "#We can then use those to loop through and get the number of unique values\n",
    "\n",
    "# Number of unique values per categorical column\n",
    "unique_values = []\n",
    "for column in categorical_columns:\n",
    "    unique_values.append([column, snowpark_df.select(column).distinct().count()])\n",
    "pd.DataFrame(unique_values, columns=['COLUMN_NAME','NUM_UNIQUE_VALUES'])"
   ]
  },
  {
   "cell_type": "markdown",
   "metadata": {},
   "source": [
    "### Persist Transformations"
   ]
  },
  {
   "cell_type": "markdown",
   "metadata": {},
   "source": [
    "If we want to save the changes we can either save it as a table, meaning the SQL generated by the DataFrame is executed and the result is stored in a table or as a view where the DataFrame SQL will be the definition of the view.\n",
    "save_as_table saves the result in a table, if mode='overwrite' then it will also replace the data that is in it."
   ]
  },
  {
   "cell_type": "code",
   "execution_count": 68,
   "metadata": {},
   "outputs": [
    {
     "name": "stdout",
     "output_type": "stream",
     "text": [
      "----------------------------------------------------------------------------------------------------------------------------------------------------------------------------------------------------------------------------------------------------------------------------------------------------------------------------------------------------\n",
      "|\"OCCUPATION_TYPE\"  |\"ID\"     |\"CODE_GENDER\"  |\"FLAG_OWN_CAR\"  |\"FLAG_OWN_REALTY\"  |\"CNT_CHILDREN\"  |\"AMT_INCOME_TOTAL\"  |\"NAME_INCOME_TYPE\"    |\"NAME_EDUCATION_TYPE\"          |\"NAME_FAMILY_STATUS\"  |\"NAME_HOUSING_TYPE\"  |\"DAYS_BIRTH\"  |\"DAYS_EMPLOYED\"  |\"FLAG_MOBIL\"  |\"FLAG_WORK_PHONE\"  |\"FLAG_PHONE\"  |\"FLAG_EMAIL\"  |\"CNT_FAM_MEMBERS\"  |\n",
      "----------------------------------------------------------------------------------------------------------------------------------------------------------------------------------------------------------------------------------------------------------------------------------------------------------------------------------------------------\n",
      "|Laborers           |5628600  |F              |N               |N                  |0               |76500.0             |State servant         |Secondary / secondary special  |Married               |House / apartment    |-14922        |-3383            |1             |1                  |0             |0             |2.0                |\n",
      "|Laborers           |6569366  |M              |N               |Y                  |0               |126000.0            |State servant         |Secondary / secondary special  |Married               |House / apartment    |-8318         |-548             |1             |0                  |0             |0             |2.0                |\n",
      "|Core staff         |6754942  |F              |N               |Y                  |0               |135000.0            |Working               |Higher education               |Civil marriage        |House / apartment    |-11745        |-101             |1             |0                  |1             |0             |2.0                |\n",
      "|Sales staff        |6736592  |F              |N               |Y                  |0               |112500.0            |Commercial associate  |Secondary / secondary special  |Single / not married  |House / apartment    |-8398         |-578             |1             |1                  |1             |1             |1.0                |\n",
      "|Sales staff        |6545097  |F              |N               |Y                  |1               |112500.0            |Working               |Secondary / secondary special  |Married               |House / apartment    |-12604        |-4445            |1             |0                  |0             |0             |3.0                |\n",
      "|Core staff         |5889024  |M              |N               |Y                  |0               |202500.0            |Commercial associate  |Higher education               |Married               |House / apartment    |-11501        |-279             |1             |0                  |0             |0             |2.0                |\n",
      "|Laborers           |5451805  |F              |N               |Y                  |0               |135000.0            |Working               |Secondary / secondary special  |Married               |House / apartment    |-18833        |-1464            |1             |1                  |1             |0             |2.0                |\n",
      "|Laborers           |5474464  |F              |N               |N                  |0               |135000.0            |Pensioner             |Secondary / secondary special  |Widow                 |House / apartment    |-22064        |365243           |1             |0                  |0             |0             |1.0                |\n",
      "|Managers           |7097047  |M              |Y               |Y                  |1               |450000.0            |Working               |Secondary / secondary special  |Married               |House / apartment    |-15862        |-1463            |1             |0                  |0             |0             |3.0                |\n",
      "|Core staff         |5095310  |F              |Y               |Y                  |0               |225000.0            |Working               |Higher education               |Married               |House / apartment    |-12322        |-3717            |1             |0                  |0             |0             |2.0                |\n",
      "----------------------------------------------------------------------------------------------------------------------------------------------------------------------------------------------------------------------------------------------------------------------------------------------------------------------------------------------------\n",
      "\n"
     ]
    }
   ],
   "source": [
    "snowpark_df.write.save_as_table(table_name='FIRST_ANALYSIS', mode='overwrite')\n",
    "session.table('FIRST_ANALYSIS').show()"
   ]
  },
  {
   "cell_type": "code",
   "execution_count": 69,
   "metadata": {},
   "outputs": [],
   "source": [
    "session.close()"
   ]
  },
  {
   "cell_type": "markdown",
   "metadata": {},
   "source": [
    "Answering some questions about the data"
   ]
  },
  {
   "cell_type": "code",
   "execution_count": 96,
   "metadata": {},
   "outputs": [
    {
     "name": "stdout",
     "output_type": "stream",
     "text": [
      "Current Database and schema: \"CC_DB\".\"PUBLIC\"\n",
      "Current Warehouse: \"CC_WH\"\n"
     ]
    }
   ],
   "source": [
    "session = Session.builder.configs(connection_parameters).create()\n",
    "print(f\"Current Database and schema: {session.get_fully_qualified_current_schema()}\")\n",
    "print(f\"Current Warehouse: {session.get_current_warehouse()}\")"
   ]
  },
  {
   "cell_type": "code",
   "execution_count": 97,
   "metadata": {},
   "outputs": [
    {
     "data": {
      "text/html": [
       "<div>\n",
       "<style scoped>\n",
       "    .dataframe tbody tr th:only-of-type {\n",
       "        vertical-align: middle;\n",
       "    }\n",
       "\n",
       "    .dataframe tbody tr th {\n",
       "        vertical-align: top;\n",
       "    }\n",
       "\n",
       "    .dataframe thead th {\n",
       "        text-align: right;\n",
       "    }\n",
       "</style>\n",
       "<table border=\"1\" class=\"dataframe\">\n",
       "  <thead>\n",
       "    <tr style=\"text-align: right;\">\n",
       "      <th></th>\n",
       "      <th>ID</th>\n",
       "      <th>CODE_GENDER</th>\n",
       "      <th>FLAG_OWN_CAR</th>\n",
       "      <th>FLAG_OWN_REALTY</th>\n",
       "      <th>CNT_CHILDREN</th>\n",
       "      <th>AMT_INCOME_TOTAL</th>\n",
       "      <th>NAME_INCOME_TYPE</th>\n",
       "      <th>NAME_EDUCATION_TYPE</th>\n",
       "      <th>NAME_FAMILY_STATUS</th>\n",
       "      <th>NAME_HOUSING_TYPE</th>\n",
       "      <th>DAYS_BIRTH</th>\n",
       "      <th>DAYS_EMPLOYED</th>\n",
       "      <th>FLAG_MOBIL</th>\n",
       "      <th>FLAG_WORK_PHONE</th>\n",
       "      <th>FLAG_PHONE</th>\n",
       "      <th>FLAG_EMAIL</th>\n",
       "      <th>OCCUPATION_TYPE</th>\n",
       "      <th>CNT_FAM_MEMBERS</th>\n",
       "    </tr>\n",
       "  </thead>\n",
       "  <tbody>\n",
       "    <tr>\n",
       "      <th>0</th>\n",
       "      <td>5008804</td>\n",
       "      <td>M</td>\n",
       "      <td>Y</td>\n",
       "      <td>Y</td>\n",
       "      <td>0</td>\n",
       "      <td>427500.0</td>\n",
       "      <td>Working</td>\n",
       "      <td>Higher education</td>\n",
       "      <td>Civil marriage</td>\n",
       "      <td>Rented apartment</td>\n",
       "      <td>-12005</td>\n",
       "      <td>-4542</td>\n",
       "      <td>1</td>\n",
       "      <td>1</td>\n",
       "      <td>0</td>\n",
       "      <td>0</td>\n",
       "      <td>None</td>\n",
       "      <td>2.0</td>\n",
       "    </tr>\n",
       "    <tr>\n",
       "      <th>1</th>\n",
       "      <td>5008805</td>\n",
       "      <td>M</td>\n",
       "      <td>Y</td>\n",
       "      <td>Y</td>\n",
       "      <td>0</td>\n",
       "      <td>427500.0</td>\n",
       "      <td>Working</td>\n",
       "      <td>Higher education</td>\n",
       "      <td>Civil marriage</td>\n",
       "      <td>Rented apartment</td>\n",
       "      <td>-12005</td>\n",
       "      <td>-4542</td>\n",
       "      <td>1</td>\n",
       "      <td>1</td>\n",
       "      <td>0</td>\n",
       "      <td>0</td>\n",
       "      <td>None</td>\n",
       "      <td>2.0</td>\n",
       "    </tr>\n",
       "    <tr>\n",
       "      <th>2</th>\n",
       "      <td>5008806</td>\n",
       "      <td>M</td>\n",
       "      <td>Y</td>\n",
       "      <td>Y</td>\n",
       "      <td>0</td>\n",
       "      <td>112500.0</td>\n",
       "      <td>Working</td>\n",
       "      <td>Secondary / secondary special</td>\n",
       "      <td>Married</td>\n",
       "      <td>House / apartment</td>\n",
       "      <td>-21474</td>\n",
       "      <td>-1134</td>\n",
       "      <td>1</td>\n",
       "      <td>0</td>\n",
       "      <td>0</td>\n",
       "      <td>0</td>\n",
       "      <td>Security staff</td>\n",
       "      <td>2.0</td>\n",
       "    </tr>\n",
       "    <tr>\n",
       "      <th>3</th>\n",
       "      <td>5008808</td>\n",
       "      <td>F</td>\n",
       "      <td>N</td>\n",
       "      <td>Y</td>\n",
       "      <td>0</td>\n",
       "      <td>270000.0</td>\n",
       "      <td>Commercial associate</td>\n",
       "      <td>Secondary / secondary special</td>\n",
       "      <td>Single / not married</td>\n",
       "      <td>House / apartment</td>\n",
       "      <td>-19110</td>\n",
       "      <td>-3051</td>\n",
       "      <td>1</td>\n",
       "      <td>0</td>\n",
       "      <td>1</td>\n",
       "      <td>1</td>\n",
       "      <td>Sales staff</td>\n",
       "      <td>1.0</td>\n",
       "    </tr>\n",
       "    <tr>\n",
       "      <th>4</th>\n",
       "      <td>5008809</td>\n",
       "      <td>F</td>\n",
       "      <td>N</td>\n",
       "      <td>Y</td>\n",
       "      <td>0</td>\n",
       "      <td>270000.0</td>\n",
       "      <td>Commercial associate</td>\n",
       "      <td>Secondary / secondary special</td>\n",
       "      <td>Single / not married</td>\n",
       "      <td>House / apartment</td>\n",
       "      <td>-19110</td>\n",
       "      <td>-3051</td>\n",
       "      <td>1</td>\n",
       "      <td>0</td>\n",
       "      <td>1</td>\n",
       "      <td>1</td>\n",
       "      <td>Sales staff</td>\n",
       "      <td>1.0</td>\n",
       "    </tr>\n",
       "    <tr>\n",
       "      <th>5</th>\n",
       "      <td>5008810</td>\n",
       "      <td>F</td>\n",
       "      <td>N</td>\n",
       "      <td>Y</td>\n",
       "      <td>0</td>\n",
       "      <td>270000.0</td>\n",
       "      <td>Commercial associate</td>\n",
       "      <td>Secondary / secondary special</td>\n",
       "      <td>Single / not married</td>\n",
       "      <td>House / apartment</td>\n",
       "      <td>-19110</td>\n",
       "      <td>-3051</td>\n",
       "      <td>1</td>\n",
       "      <td>0</td>\n",
       "      <td>1</td>\n",
       "      <td>1</td>\n",
       "      <td>Sales staff</td>\n",
       "      <td>1.0</td>\n",
       "    </tr>\n",
       "    <tr>\n",
       "      <th>6</th>\n",
       "      <td>5008811</td>\n",
       "      <td>F</td>\n",
       "      <td>N</td>\n",
       "      <td>Y</td>\n",
       "      <td>0</td>\n",
       "      <td>270000.0</td>\n",
       "      <td>Commercial associate</td>\n",
       "      <td>Secondary / secondary special</td>\n",
       "      <td>Single / not married</td>\n",
       "      <td>House / apartment</td>\n",
       "      <td>-19110</td>\n",
       "      <td>-3051</td>\n",
       "      <td>1</td>\n",
       "      <td>0</td>\n",
       "      <td>1</td>\n",
       "      <td>1</td>\n",
       "      <td>Sales staff</td>\n",
       "      <td>1.0</td>\n",
       "    </tr>\n",
       "    <tr>\n",
       "      <th>7</th>\n",
       "      <td>5008812</td>\n",
       "      <td>F</td>\n",
       "      <td>N</td>\n",
       "      <td>Y</td>\n",
       "      <td>0</td>\n",
       "      <td>283500.0</td>\n",
       "      <td>Pensioner</td>\n",
       "      <td>Higher education</td>\n",
       "      <td>Separated</td>\n",
       "      <td>House / apartment</td>\n",
       "      <td>-22464</td>\n",
       "      <td>365243</td>\n",
       "      <td>1</td>\n",
       "      <td>0</td>\n",
       "      <td>0</td>\n",
       "      <td>0</td>\n",
       "      <td>None</td>\n",
       "      <td>1.0</td>\n",
       "    </tr>\n",
       "    <tr>\n",
       "      <th>8</th>\n",
       "      <td>5008813</td>\n",
       "      <td>F</td>\n",
       "      <td>N</td>\n",
       "      <td>Y</td>\n",
       "      <td>0</td>\n",
       "      <td>283500.0</td>\n",
       "      <td>Pensioner</td>\n",
       "      <td>Higher education</td>\n",
       "      <td>Separated</td>\n",
       "      <td>House / apartment</td>\n",
       "      <td>-22464</td>\n",
       "      <td>365243</td>\n",
       "      <td>1</td>\n",
       "      <td>0</td>\n",
       "      <td>0</td>\n",
       "      <td>0</td>\n",
       "      <td>None</td>\n",
       "      <td>1.0</td>\n",
       "    </tr>\n",
       "    <tr>\n",
       "      <th>9</th>\n",
       "      <td>5008814</td>\n",
       "      <td>F</td>\n",
       "      <td>N</td>\n",
       "      <td>Y</td>\n",
       "      <td>0</td>\n",
       "      <td>283500.0</td>\n",
       "      <td>Pensioner</td>\n",
       "      <td>Higher education</td>\n",
       "      <td>Separated</td>\n",
       "      <td>House / apartment</td>\n",
       "      <td>-22464</td>\n",
       "      <td>365243</td>\n",
       "      <td>1</td>\n",
       "      <td>0</td>\n",
       "      <td>0</td>\n",
       "      <td>0</td>\n",
       "      <td>None</td>\n",
       "      <td>1.0</td>\n",
       "    </tr>\n",
       "  </tbody>\n",
       "</table>\n",
       "</div>"
      ],
      "text/plain": [
       "        ID CODE_GENDER FLAG_OWN_CAR FLAG_OWN_REALTY  CNT_CHILDREN  \\\n",
       "0  5008804           M            Y               Y             0   \n",
       "1  5008805           M            Y               Y             0   \n",
       "2  5008806           M            Y               Y             0   \n",
       "3  5008808           F            N               Y             0   \n",
       "4  5008809           F            N               Y             0   \n",
       "5  5008810           F            N               Y             0   \n",
       "6  5008811           F            N               Y             0   \n",
       "7  5008812           F            N               Y             0   \n",
       "8  5008813           F            N               Y             0   \n",
       "9  5008814           F            N               Y             0   \n",
       "\n",
       "   AMT_INCOME_TOTAL      NAME_INCOME_TYPE            NAME_EDUCATION_TYPE  \\\n",
       "0          427500.0               Working               Higher education   \n",
       "1          427500.0               Working               Higher education   \n",
       "2          112500.0               Working  Secondary / secondary special   \n",
       "3          270000.0  Commercial associate  Secondary / secondary special   \n",
       "4          270000.0  Commercial associate  Secondary / secondary special   \n",
       "5          270000.0  Commercial associate  Secondary / secondary special   \n",
       "6          270000.0  Commercial associate  Secondary / secondary special   \n",
       "7          283500.0             Pensioner               Higher education   \n",
       "8          283500.0             Pensioner               Higher education   \n",
       "9          283500.0             Pensioner               Higher education   \n",
       "\n",
       "     NAME_FAMILY_STATUS  NAME_HOUSING_TYPE  DAYS_BIRTH  DAYS_EMPLOYED  \\\n",
       "0        Civil marriage   Rented apartment      -12005          -4542   \n",
       "1        Civil marriage   Rented apartment      -12005          -4542   \n",
       "2               Married  House / apartment      -21474          -1134   \n",
       "3  Single / not married  House / apartment      -19110          -3051   \n",
       "4  Single / not married  House / apartment      -19110          -3051   \n",
       "5  Single / not married  House / apartment      -19110          -3051   \n",
       "6  Single / not married  House / apartment      -19110          -3051   \n",
       "7             Separated  House / apartment      -22464         365243   \n",
       "8             Separated  House / apartment      -22464         365243   \n",
       "9             Separated  House / apartment      -22464         365243   \n",
       "\n",
       "   FLAG_MOBIL  FLAG_WORK_PHONE  FLAG_PHONE  FLAG_EMAIL OCCUPATION_TYPE  \\\n",
       "0           1                1           0           0            None   \n",
       "1           1                1           0           0            None   \n",
       "2           1                0           0           0  Security staff   \n",
       "3           1                0           1           1     Sales staff   \n",
       "4           1                0           1           1     Sales staff   \n",
       "5           1                0           1           1     Sales staff   \n",
       "6           1                0           1           1     Sales staff   \n",
       "7           1                0           0           0            None   \n",
       "8           1                0           0           0            None   \n",
       "9           1                0           0           0            None   \n",
       "\n",
       "   CNT_FAM_MEMBERS  \n",
       "0              2.0  \n",
       "1              2.0  \n",
       "2              2.0  \n",
       "3              1.0  \n",
       "4              1.0  \n",
       "5              1.0  \n",
       "6              1.0  \n",
       "7              1.0  \n",
       "8              1.0  \n",
       "9              1.0  "
      ]
     },
     "execution_count": 97,
     "metadata": {},
     "output_type": "execute_result"
    }
   ],
   "source": [
    "snowpark_df = session.table('APPLICATION_RECORD')\n",
    "snowpark_df.limit(10).to_pandas()"
   ]
  },
  {
   "cell_type": "code",
   "execution_count": 98,
   "metadata": {},
   "outputs": [
    {
     "data": {
      "text/plain": [
       "['ID',\n",
       " 'CODE_GENDER',\n",
       " 'FLAG_OWN_CAR',\n",
       " 'FLAG_OWN_REALTY',\n",
       " 'CNT_CHILDREN',\n",
       " 'AMT_INCOME_TOTAL',\n",
       " 'NAME_INCOME_TYPE',\n",
       " 'NAME_EDUCATION_TYPE',\n",
       " 'NAME_FAMILY_STATUS',\n",
       " 'NAME_HOUSING_TYPE',\n",
       " 'DAYS_BIRTH',\n",
       " 'DAYS_EMPLOYED',\n",
       " 'FLAG_MOBIL',\n",
       " 'FLAG_WORK_PHONE',\n",
       " 'FLAG_PHONE',\n",
       " 'FLAG_EMAIL',\n",
       " 'OCCUPATION_TYPE',\n",
       " 'CNT_FAM_MEMBERS']"
      ]
     },
     "execution_count": 98,
     "metadata": {},
     "output_type": "execute_result"
    }
   ],
   "source": [
    "snowpark_df.columns"
   ]
  },
  {
   "cell_type": "code",
   "execution_count": 99,
   "metadata": {},
   "outputs": [
    {
     "data": {
      "text/plain": [
       "18"
      ]
     },
     "execution_count": 99,
     "metadata": {},
     "output_type": "execute_result"
    }
   ],
   "source": [
    "# How many variables (columns) does the dataset have?\n",
    "len(snowpark_df.columns)"
   ]
  },
  {
   "cell_type": "code",
   "execution_count": 100,
   "metadata": {},
   "outputs": [
    {
     "data": {
      "text/plain": [
       "438557"
      ]
     },
     "execution_count": 100,
     "metadata": {},
     "output_type": "execute_result"
    }
   ],
   "source": [
    "# How many rows does the dataset have?\n",
    "snowpark_df.count()"
   ]
  },
  {
   "cell_type": "code",
   "execution_count": 103,
   "metadata": {},
   "outputs": [
    {
     "name": "stdout",
     "output_type": "stream",
     "text": [
      "---------------------------\n",
      "|\"AVG(AMT_INCOME_TOTAL)\"  |\n",
      "---------------------------\n",
      "|187524.2860095039        |\n",
      "---------------------------\n",
      "\n",
      "---------------------\n",
      "|\"AVERAGE_INCOME\"   |\n",
      "---------------------\n",
      "|187524.2860095039  |\n",
      "---------------------\n",
      "\n"
     ]
    }
   ],
   "source": [
    "# What is the average income?\n",
    "snowpark_df.agg(F.avg('AMT_INCOME_TOTAL')).show()\n",
    "snowpark_df.select(F.avg('AMT_INCOME_TOTAL').as_('AVERAGE_INCOME')).show()"
   ]
  },
  {
   "cell_type": "code",
   "execution_count": 104,
   "metadata": {},
   "outputs": [
    {
     "data": {
      "text/plain": [
       "55271"
      ]
     },
     "execution_count": 104,
     "metadata": {},
     "output_type": "execute_result"
    }
   ],
   "source": [
    "# How many people are Single?\n",
    "snowpark_df.filter(F.col('NAME_FAMILY_STATUS') == 'Single / not married').count()"
   ]
  },
  {
   "cell_type": "code",
   "execution_count": null,
   "metadata": {},
   "outputs": [
    {
     "name": "stdout",
     "output_type": "stream",
     "text": [
      "-----------------------------------------------------------------------------------------------------------------------------------------------------------------------------------------------------------------------------------------------------------------------------------------------------------------------------------------------------------------------\n",
      "|\"ID\"     |\"CODE_GENDER\"  |\"FLAG_OWN_CAR\"  |\"FLAG_OWN_REALTY\"  |\"CNT_CHILDREN\"  |\"AMT_INCOME_TOTAL\"  |\"NAME_INCOME_TYPE\"    |\"NAME_EDUCATION_TYPE\"          |\"NAME_FAMILY_STATUS\"  |\"NAME_HOUSING_TYPE\"  |\"DAYS_BIRTH\"  |\"DAYS_EMPLOYED\"  |\"FLAG_MOBIL\"  |\"FLAG_WORK_PHONE\"  |\"FLAG_PHONE\"  |\"FLAG_EMAIL\"  |\"OCCUPATION_TYPE\"  |\"CNT_FAM_MEMBERS\"  |\"YEARS_EMPLOYED\"  |\n",
      "-----------------------------------------------------------------------------------------------------------------------------------------------------------------------------------------------------------------------------------------------------------------------------------------------------------------------------------------------------------------------\n",
      "|5008804  |M              |Y               |Y                  |0               |427500.0            |Working               |Higher education               |Civil marriage        |Rented apartment     |-12005        |-4542            |1             |1                  |0             |0             |NULL               |2.0                |12                |\n",
      "|5008805  |M              |Y               |Y                  |0               |427500.0            |Working               |Higher education               |Civil marriage        |Rented apartment     |-12005        |-4542            |1             |1                  |0             |0             |NULL               |2.0                |12                |\n",
      "|5008806  |M              |Y               |Y                  |0               |112500.0            |Working               |Secondary / secondary special  |Married               |House / apartment    |-21474        |-1134            |1             |0                  |0             |0             |Security staff     |2.0                |3                 |\n",
      "|5008808  |F              |N               |Y                  |0               |270000.0            |Commercial associate  |Secondary / secondary special  |Single / not married  |House / apartment    |-19110        |-3051            |1             |0                  |1             |1             |Sales staff        |1.0                |8                 |\n",
      "|5008809  |F              |N               |Y                  |0               |270000.0            |Commercial associate  |Secondary / secondary special  |Single / not married  |House / apartment    |-19110        |-3051            |1             |0                  |1             |1             |Sales staff        |1.0                |8                 |\n",
      "|5008810  |F              |N               |Y                  |0               |270000.0            |Commercial associate  |Secondary / secondary special  |Single / not married  |House / apartment    |-19110        |-3051            |1             |0                  |1             |1             |Sales staff        |1.0                |8                 |\n",
      "|5008811  |F              |N               |Y                  |0               |270000.0            |Commercial associate  |Secondary / secondary special  |Single / not married  |House / apartment    |-19110        |-3051            |1             |0                  |1             |1             |Sales staff        |1.0                |8                 |\n",
      "|5008812  |F              |N               |Y                  |0               |283500.0            |Pensioner             |Higher education               |Separated             |House / apartment    |-22464        |365243           |1             |0                  |0             |0             |NULL               |1.0                |1000              |\n",
      "|5008813  |F              |N               |Y                  |0               |283500.0            |Pensioner             |Higher education               |Separated             |House / apartment    |-22464        |365243           |1             |0                  |0             |0             |NULL               |1.0                |1000              |\n",
      "|5008814  |F              |N               |Y                  |0               |283500.0            |Pensioner             |Higher education               |Separated             |House / apartment    |-22464        |365243           |1             |0                  |0             |0             |NULL               |1.0                |1000              |\n",
      "-----------------------------------------------------------------------------------------------------------------------------------------------------------------------------------------------------------------------------------------------------------------------------------------------------------------------------------------------------------------------\n",
      "\n"
     ]
    }
   ],
   "source": [
    "# Create a new feature containing the years of employment\n",
    "snowpark_df = snowpark_df.withColumn('YEARS_EMPLOYED', F.floor(F.abs(F.col('DAYS_EMPLOYED')) / 365))\n",
    "snowpark_df.show()"
   ]
  },
  {
   "cell_type": "code",
   "execution_count": 93,
   "metadata": {},
   "outputs": [
    {
     "name": "stdout",
     "output_type": "stream",
     "text": [
      "-----------------------------------------------------------------------------------------------------------------------------------------------------------------------------------------------------------------------------------------------------------------------------------------------------------------------------------------------------\n",
      "|\"ID\"     |\"CODE_GENDER\"  |\"FLAG_OWN_CAR\"  |\"FLAG_OWN_REALTY\"  |\"CNT_CHILDREN\"  |\"AMT_INCOME_TOTAL\"  |\"NAME_INCOME_TYPE\"    |\"NAME_EDUCATION_TYPE\"          |\"NAME_FAMILY_STATUS\"  |\"NAME_HOUSING_TYPE\"  |\"DAYS_BIRTH\"  |\"FLAG_MOBIL\"  |\"FLAG_WORK_PHONE\"  |\"FLAG_PHONE\"  |\"FLAG_EMAIL\"  |\"OCCUPATION_TYPE\"  |\"CNT_FAM_MEMBERS\"  |\"YEARS_EMPLOYED\"  |\n",
      "-----------------------------------------------------------------------------------------------------------------------------------------------------------------------------------------------------------------------------------------------------------------------------------------------------------------------------------------------------\n",
      "|5008804  |M              |Y               |Y                  |0               |427500.0            |Working               |Higher education               |Civil marriage        |Rented apartment     |-12005        |1             |1                  |0             |0             |NULL               |2.0                |12                |\n",
      "|5008805  |M              |Y               |Y                  |0               |427500.0            |Working               |Higher education               |Civil marriage        |Rented apartment     |-12005        |1             |1                  |0             |0             |NULL               |2.0                |12                |\n",
      "|5008806  |M              |Y               |Y                  |0               |112500.0            |Working               |Secondary / secondary special  |Married               |House / apartment    |-21474        |1             |0                  |0             |0             |Security staff     |2.0                |3                 |\n",
      "|5008808  |F              |N               |Y                  |0               |270000.0            |Commercial associate  |Secondary / secondary special  |Single / not married  |House / apartment    |-19110        |1             |0                  |1             |1             |Sales staff        |1.0                |8                 |\n",
      "|5008809  |F              |N               |Y                  |0               |270000.0            |Commercial associate  |Secondary / secondary special  |Single / not married  |House / apartment    |-19110        |1             |0                  |1             |1             |Sales staff        |1.0                |8                 |\n",
      "|5008810  |F              |N               |Y                  |0               |270000.0            |Commercial associate  |Secondary / secondary special  |Single / not married  |House / apartment    |-19110        |1             |0                  |1             |1             |Sales staff        |1.0                |8                 |\n",
      "|5008811  |F              |N               |Y                  |0               |270000.0            |Commercial associate  |Secondary / secondary special  |Single / not married  |House / apartment    |-19110        |1             |0                  |1             |1             |Sales staff        |1.0                |8                 |\n",
      "|5008812  |F              |N               |Y                  |0               |283500.0            |Pensioner             |Higher education               |Separated             |House / apartment    |-22464        |1             |0                  |0             |0             |NULL               |1.0                |1000              |\n",
      "|5008813  |F              |N               |Y                  |0               |283500.0            |Pensioner             |Higher education               |Separated             |House / apartment    |-22464        |1             |0                  |0             |0             |NULL               |1.0                |1000              |\n",
      "|5008814  |F              |N               |Y                  |0               |283500.0            |Pensioner             |Higher education               |Separated             |House / apartment    |-22464        |1             |0                  |0             |0             |NULL               |1.0                |1000              |\n",
      "-----------------------------------------------------------------------------------------------------------------------------------------------------------------------------------------------------------------------------------------------------------------------------------------------------------------------------------------------------\n",
      "\n"
     ]
    }
   ],
   "source": [
    "# Drop the variable DAYS_EMPLOYED\n",
    "snowpark_df = snowpark_df.drop('DAYS_EMPLOYED')\n",
    "snowpark_df.show()"
   ]
  },
  {
   "cell_type": "code",
   "execution_count": 94,
   "metadata": {},
   "outputs": [],
   "source": [
    "session.close()"
   ]
  }
 ],
 "metadata": {
  "kernelspec": {
   "display_name": ".venv",
   "language": "python",
   "name": "python3"
  },
  "language_info": {
   "codemirror_mode": {
    "name": "ipython",
    "version": 3
   },
   "file_extension": ".py",
   "mimetype": "text/x-python",
   "name": "python",
   "nbconvert_exporter": "python",
   "pygments_lexer": "ipython3",
   "version": "3.9.6"
  }
 },
 "nbformat": 4,
 "nbformat_minor": 2
}
